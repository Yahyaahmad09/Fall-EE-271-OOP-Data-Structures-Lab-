{
 "cells": [
  {
   "cell_type": "code",
   "execution_count": 5,
   "id": "e46db207-8ab7-47b4-8c61-1f8c47875578",
   "metadata": {},
   "outputs": [],
   "source": [
    "import os"
   ]
  },
  {
   "cell_type": "code",
   "execution_count": 6,
   "id": "5b00553e-6183-44f8-afbe-7261523b9d79",
   "metadata": {},
   "outputs": [
    {
     "data": {
      "text/plain": [
       "'C:\\\\Users\\\\Computer Zone\\\\OneDrive\\\\OOP lab\\\\MyPkg'"
      ]
     },
     "execution_count": 6,
     "metadata": {},
     "output_type": "execute_result"
    }
   ],
   "source": [
    "os.getcwd()"
   ]
  },
  {
   "cell_type": "code",
   "execution_count": 7,
   "id": "081cd64f-fe1e-41ff-b1f0-9d50a01e06ed",
   "metadata": {},
   "outputs": [],
   "source": [
    "os.chdir(r'C:\\Users\\Computer Zone\\OneDrive\\OOP lab\\MyPkg')"
   ]
  },
  {
   "cell_type": "markdown",
   "id": "91a415ea-a030-4725-b0fc-bf8abd73981a",
   "metadata": {},
   "source": [
    "# Circuit"
   ]
  },
  {
   "cell_type": "markdown",
   "id": "f23d7295-b7c1-46f4-b753-a7932a1b50ff",
   "metadata": {},
   "source": [
    "**RL Series Circuit**"
   ]
  },
  {
   "cell_type": "code",
   "execution_count": 8,
   "id": "e8fa0845-c9f2-44f3-84ba-c296116a632a",
   "metadata": {},
   "outputs": [],
   "source": [
    "from Circuit.circuit import RL_series_circuit"
   ]
  },
  {
   "cell_type": "code",
   "execution_count": 9,
   "id": "fc85ef84-a343-43f3-83a1-59753da2217f",
   "metadata": {},
   "outputs": [],
   "source": [
    "circuit_series = RL_series_circuit(6, 8, I = (5, 53.13))"
   ]
  },
  {
   "cell_type": "code",
   "execution_count": 10,
   "id": "f53d517b-9bbc-41e3-9444-91ce2f04d4f9",
   "metadata": {},
   "outputs": [
    {
     "name": "stdout",
     "output_type": "stream",
     "text": [
      "Resistance: 6 Ohms\n",
      "Inductive Reactance: 8j Henries\n",
      "Current: (5.0, 53.13000000000001)\n",
      "Impedance: (10.0, 53.13010235415598)\n",
      "Voltage: (49.99999999999999, 106.26010235415598)\n",
      "Voltage across R: (30.0, 53.13000000000001)\n",
      "Voltage across L: (40.0, 143.13)\n",
      "Power: 150.0\n",
      "Power Factor: 0.6\n"
     ]
    }
   ],
   "source": [
    "print(f\"Resistance: {circuit_series.R} Ohms\")\n",
    "print(f\"Inductive Reactance: {circuit_series.X_L} Henries\")\n",
    "print(f\"Current: {circuit_series.I}\")\n",
    "print(f\"Impedance: {circuit_series.Z}\")\n",
    "print(f\"Voltage: {circuit_series.V}\")\n",
    "print(f\"Voltage across R: {circuit_series.V_R}\")\n",
    "print(f\"Voltage across L: {circuit_series.V_L}\")\n",
    "print(f\"Power: {circuit_series.P}\")\n",
    "print(f\"Power Factor: {circuit_series.P_f}\")\n"
   ]
  },
  {
   "cell_type": "markdown",
   "id": "2643342b-77e8-4534-b4ee-8f3d6f0b3474",
   "metadata": {},
   "source": [
    "**RL Parallel Circuit**"
   ]
  },
  {
   "cell_type": "code",
   "execution_count": 12,
   "id": "841e02c4-22f4-45c4-8f4d-b8cb43c33ec7",
   "metadata": {},
   "outputs": [],
   "source": [
    "from Circuit.circuit import RL_parallel_circuit"
   ]
  },
  {
   "cell_type": "code",
   "execution_count": 2,
   "id": "b5382bfd-040b-4f20-b63a-e3231fe3641c",
   "metadata": {},
   "outputs": [],
   "source": [
    "circuit_parallel = RL_parallel_circuit(6, 8, (100, 53.13))"
   ]
  },
  {
   "cell_type": "code",
   "execution_count": 3,
   "id": "82f39b41-b21d-4367-9896-d668bc3f1a75",
   "metadata": {},
   "outputs": [
    {
     "name": "stdout",
     "output_type": "stream",
     "text": [
      "Resistance: 6 Ohms\n",
      "Inductive Reactance: 8j Henries\n",
      "Voltage: (100.0, 53.13)\n",
      "Admittance: (0.20833333333333334, 36.86989764584402)\n",
      "Impedance: (4.8, -36.86989764584401)\n",
      "Current: (20.833333333333336, 89.99989764584402)\n",
      "Current through R: (16.666666666666668, 53.13)\n",
      "Current through L: (12.5, -36.870000000000005)\n",
      "Power: 1666.6666666666665\n",
      "Power Factor: 0.7999999999999999\n"
     ]
    }
   ],
   "source": [
    "print(f\"Resistance: {circuit_parallel.R} Ohms\")\n",
    "print(f\"Inductive Reactance: {circuit_parallel.X_L} Henries\")\n",
    "print(f\"Voltage: {circuit_parallel.V}\")\n",
    "print(f\"Admittance: {circuit_parallel.Y}\")\n",
    "print(f\"Impedance: {circuit_parallel.Z}\")\n",
    "print(f\"Current: {circuit_parallel.I}\")\n",
    "print(f\"Current through R: {circuit_parallel.I_R}\")\n",
    "print(f\"Current through L: {circuit_parallel.I_L}\")\n",
    "print(f\"Power: {circuit_parallel.P}\")\n",
    "print(f\"Power Factor: {circuit_parallel.P_f}\")"
   ]
  },
  {
   "cell_type": "markdown",
   "id": "1e4f9eb4-6e2f-41f8-bdc8-542d26e25ad6",
   "metadata": {},
   "source": [
    "**RC Series Circuit**"
   ]
  },
  {
   "cell_type": "code",
   "execution_count": 12,
   "id": "c2e748bc-63ba-43ad-9baa-28136be5172e",
   "metadata": {},
   "outputs": [],
   "source": [
    "from Circuit.circuit import RC_series_circuit"
   ]
  },
  {
   "cell_type": "code",
   "execution_count": 13,
   "id": "ea1ef6bd-d854-49f2-b060-28dd5f48f5fb",
   "metadata": {},
   "outputs": [],
   "source": [
    "circuit_1 = RC_series_circuit(6, 8, I=(5, 53.13))"
   ]
  },
  {
   "cell_type": "code",
   "execution_count": 14,
   "id": "eceee2ca-e868-4f46-8ba6-c27c8e9ffca2",
   "metadata": {},
   "outputs": [
    {
     "name": "stdout",
     "output_type": "stream",
     "text": [
      "Resistance (R): 6\n",
      "Capacitive Reactance (X_C): -8j\n",
      "Current (I in Polar Form): (5.0, 53.13000000000001)\n",
      "Impedance (Z in Polar Form): (10.0, -53.13010235415598)\n",
      "Voltage (V in Polar Form): (50.0, -0.0001023541559650813)\n",
      "Voltage across Resistor (V_R in Polar Form): (30.0, 53.13000000000001)\n",
      "Voltage across Capacitor (V_C in Polar Form): (40.0, -36.87)\n",
      "Power (P): 150.0\n",
      "Power Factor (P_f): 0.6\n"
     ]
    }
   ],
   "source": [
    "print(\"Resistance (R):\", circuit_1.R)\n",
    "print(\"Capacitive Reactance (X_C):\", circuit_1.X_C)\n",
    "print(\"Current (I in Polar Form):\", circuit_1.I)\n",
    "print(\"Impedance (Z in Polar Form):\", circuit_1.Z)\n",
    "print(\"Voltage (V in Polar Form):\", circuit_1.V)\n",
    "print(\"Voltage across Resistor (V_R in Polar Form):\", circuit_1.V_R)\n",
    "print(\"Voltage across Capacitor (V_C in Polar Form):\", circuit_1.V_C)\n",
    "print(\"Power (P):\", circuit_1.P)\n",
    "print(\"Power Factor (P_f):\", circuit_1.P_f)"
   ]
  },
  {
   "cell_type": "markdown",
   "id": "c8c057cd-718e-49dd-b553-190a5555c4c4",
   "metadata": {},
   "source": [
    "**RLC Series Circuit**"
   ]
  },
  {
   "cell_type": "code",
   "execution_count": 25,
   "id": "3a043987-fb33-4341-8dfb-937e0107f6b9",
   "metadata": {},
   "outputs": [],
   "source": [
    "from Circuit.circuit import RLC_series_circuit"
   ]
  },
  {
   "cell_type": "code",
   "execution_count": 16,
   "id": "eff3b4b8-bd36-4dfb-88ba-d6d5c7928cf3",
   "metadata": {},
   "outputs": [],
   "source": [
    "circuit = RLC_series_circuit(3,7, 3, V=(50, 63))"
   ]
  },
  {
   "cell_type": "code",
   "execution_count": 17,
   "id": "3d937347-d3cd-44a2-883e-27c318ec7989",
   "metadata": {},
   "outputs": [
    {
     "name": "stdout",
     "output_type": "stream",
     "text": [
      "Resistance (R): 3\n",
      "Inductive Reactance (X_L): 7j\n",
      "Capacitive Reactance (X_C): -3j\n",
      "Source Voltage (V): (49.99999999999999, 63.0)\n",
      "Impedance (Z): (5.0, 53.13010235415598)\n",
      "Current (I): (10.0, 9.869897645844024)\n",
      "Power (P): 300.0\n",
      "Power Factor (cos θ): (0.6000000000000001-0j)\n",
      "Voltage across Resistor (V_R): (30.000000000000004, 9.869897645844022)\n",
      "Voltage across Inductor (V_L): (70.0, 99.86989764584403)\n",
      "Voltage across Capacitor (V_C): (30.000000000000004, -80.13010235415598)\n"
     ]
    }
   ],
   "source": [
    "print(\"Resistance (R):\", circuit.R)\n",
    "print(\"Inductive Reactance (X_L):\", circuit.X_L)\n",
    "print(\"Capacitive Reactance (X_C):\", circuit.X_C)\n",
    "print(\"Source Voltage (V):\", circuit.V)\n",
    "\n",
    "print(\"Impedance (Z):\", circuit.impedance)\n",
    "print(\"Current (I):\", circuit.current)\n",
    "print(\"Power (P):\", circuit.power)\n",
    "print(\"Power Factor (cos θ):\", circuit.power_factor)\n",
    "print(\"Voltage across Resistor (V_R):\", circuit.voltage_resistor)\n",
    "print(\"Voltage across Inductor (V_L):\", circuit.voltage_inductor)\n",
    "print(\"Voltage across Capacitor (V_C):\", circuit.voltage_capacitor)"
   ]
  },
  {
   "cell_type": "markdown",
   "id": "66dd92a2-095c-4c59-bb74-71550aa3bc90",
   "metadata": {},
   "source": [
    "**RLC Parallel Circuit**"
   ]
  },
  {
   "cell_type": "code",
   "execution_count": 24,
   "id": "17fe78e5-3cbc-4804-a780-737d7743604e",
   "metadata": {},
   "outputs": [],
   "source": [
    "from Circuit.circuit import RLC_parallel_circuit"
   ]
  },
  {
   "cell_type": "code",
   "execution_count": 19,
   "id": "a670aa93-c5f8-4084-a3ea-2fb86c62b2e3",
   "metadata": {},
   "outputs": [],
   "source": [
    "rlc_circuit = RLC_parallel_circuit(R=10, X_L=20, X_C=30, I=(5, 30))"
   ]
  },
  {
   "cell_type": "code",
   "execution_count": 20,
   "id": "41916439-aff8-42be-ad26-fd4c463cc406",
   "metadata": {},
   "outputs": [
    {
     "name": "stdout",
     "output_type": "stream",
     "text": [
      "Admittance of Resistor (Y_R): 0.1\n",
      "Admittance of Inductor (Y_L): -0.05j\n",
      "Admittance of Capacitor (Y_C): (-0+0.03333333333333333j)\n",
      "Impedance (Z): (9.863939238321436, 9.46232220802562)\n",
      "Voltage (V): (49.31969619160718, 39.46232220802561)\n"
     ]
    }
   ],
   "source": [
    "print(\"Admittance of Resistor (Y_R):\", rlc_circuit.admittance_resistor)\n",
    "print(\"Admittance of Inductor (Y_L):\", rlc_circuit.admittance_inductor)\n",
    "print(\"Admittance of Capacitor (Y_C):\", rlc_circuit.admittance_capacitor)\n",
    "print(\"Impedance (Z):\", rlc_circuit.impedance)\n",
    "print(\"Voltage (V):\", rlc_circuit.voltage)"
   ]
  },
  {
   "cell_type": "markdown",
   "id": "d3219d3d-0dac-411e-a0c7-8e0fc79311af",
   "metadata": {},
   "source": [
    "**RLC Series Resonance Circuit**"
   ]
  },
  {
   "cell_type": "code",
   "execution_count": 23,
   "id": "fc497c88-13f4-4e25-b62e-9eed24113476",
   "metadata": {},
   "outputs": [],
   "source": [
    "from Circuit.circuit import RLC_series_resonance_circuit"
   ]
  },
  {
   "cell_type": "code",
   "execution_count": 22,
   "id": "99edb04b-caa0-429b-8678-f62550fd4d10",
   "metadata": {},
   "outputs": [],
   "source": [
    "c1 = RLC_series_resonance_circuit(R=2, L=10e-3, C=10e-6)"
   ]
  },
  {
   "cell_type": "code",
   "execution_count": 23,
   "id": "0e074132-1cdd-46dc-aab5-5ae898d6fde0",
   "metadata": {},
   "outputs": [
    {
     "name": "stdout",
     "output_type": "stream",
     "text": [
      "Resonance frequency = 503.29 Hz\n",
      "Quality factor = 15.81\n",
      "Bandwidth = 31.83 Hz\n",
      "Cut off frequency (f1) = 487.38 Hz\n",
      "Cut off frequency (f2) = 519.21 Hz\n",
      "Voltage across capacitor = 5.00 V\n"
     ]
    }
   ],
   "source": [
    "print(f'Resonance frequency = {c1.Resonance_f():.2f} Hz')\n",
    "print(f'Quality factor = {c1.Q_factor():.2f}')\n",
    "print(f'Bandwidth = {c1.Band_width():.2f} Hz')\n",
    "print(f'Cut off frequency (f1) = {c1.f1():.2f} Hz')\n",
    "print(f'Cut off frequency (f2) = {c1.f2():.2f} Hz')\n",
    "print(f'Voltage across capacitor = {c1.Voltage(10, 2):.2f} V') "
   ]
  },
  {
   "cell_type": "markdown",
   "id": "e7ce3c55-ab10-4d10-a63e-4e0293efc1ec",
   "metadata": {},
   "source": [
    "**RLC Parallel Resonance Circuit**"
   ]
  },
  {
   "cell_type": "code",
   "execution_count": 22,
   "id": "0e4e0ca1-4a24-4726-baa6-384dbebd170b",
   "metadata": {},
   "outputs": [],
   "source": [
    "from Circuit.circuit import RLC_parallel_resonance_circuit"
   ]
  },
  {
   "cell_type": "code",
   "execution_count": 25,
   "id": "6c536f14-c467-4e92-9e19-e3224fc4bc53",
   "metadata": {},
   "outputs": [],
   "source": [
    "c1 = RLC_parallel_resonance_circuit(R=100, L=0.01, C=1e-6)"
   ]
  },
  {
   "cell_type": "code",
   "execution_count": 26,
   "id": "7975a77c-2151-4f83-9c0e-75044ba5c60a",
   "metadata": {},
   "outputs": [
    {
     "name": "stdout",
     "output_type": "stream",
     "text": [
      "Resonanace frequency = 1591.5494309189535\n",
      "Quality factor = 1.0\n",
      "Band width  = 1591.5494309189535\n",
      "Cut off (f1) = 795.7747154594767\n",
      "Cut off (f2) = 2387.32414637843\n",
      "Voltage accross capacitor = 100.0\n",
      "current accross inductor = 1.0\n",
      "current accross capacitor = 1.0\n"
     ]
    }
   ],
   "source": [
    "print(f'Resonanace frequency = {c1.Resonance_f()}')\n",
    "print(f'Quality factor = {c1.Q_factor()}')\n",
    "print(f'Band width  = {c1.Band_width()}')\n",
    "print(f'Cut off (f1) = {c1.f1()}')\n",
    "print(f'Cut off (f2) = {c1.f2()}')\n",
    "print(f'Voltage accross capacitor = {c1.Vc(10e-3, 10e3)}')\n",
    "print(f'current accross inductor = {c1.Il(100)}')\n",
    "print(f'current accross capacitor = {c1.Ic(100)}')"
   ]
  },
  {
   "cell_type": "markdown",
   "id": "da40e59b-d149-4c54-a9f5-0b7302e37345",
   "metadata": {},
   "source": [
    "# Geomatry"
   ]
  },
  {
   "cell_type": "markdown",
   "id": "facc5474-0598-4896-8758-1c127b9a8a78",
   "metadata": {},
   "source": [
    "# **Point**"
   ]
  },
  {
   "cell_type": "code",
   "execution_count": 21,
   "id": "176d1665-0fc5-49a9-b643-4b75183f0520",
   "metadata": {},
   "outputs": [],
   "source": [
    "from Geomatry.geo import Point"
   ]
  },
  {
   "cell_type": "code",
   "execution_count": 28,
   "id": "b361906b-b191-4442-8bf0-2e08a3fa6a78",
   "metadata": {},
   "outputs": [
    {
     "name": "stdout",
     "output_type": "stream",
     "text": [
      "Initial values:\n",
      "Point 1: x=3.0, y=4.0\n",
      "Point 2: x=6.0, y=8.0\n",
      "\n",
      "Updated Point 1:\n",
      "Point 1: x=1.0, y=2.0\n",
      "\n",
      "Distance between Point 1 and Point 2: 7.81\n",
      "Distance of Point 1 from origin: 2.24\n",
      "\n",
      "Point is located at (1.0, 2.0)\n",
      "Origin: Point(0, 0)\n",
      "Point created from coordinates: Point(10.0, 15.0)\n",
      "Point(x=1.0, y=2.0)\n",
      "Point(1.0, 2.0)\n"
     ]
    }
   ],
   "source": [
    "\n",
    "point1 = Point(3.0, 4.0)\n",
    "point2 = Point(6.0, 8.0)\n",
    "\n",
    "print(\"Initial values:\")\n",
    "print(f\"Point 1: x={point1.x}, y={point1.y}\")\n",
    "print(f\"Point 2: x={point2.x}, y={point2.y}\")\n",
    "\n",
    "point1.x = 1.0\n",
    "point1.y = 2.0\n",
    "print(\"\\nUpdated Point 1:\")\n",
    "print(f\"Point 1: x={point1.x}, y={point1.y}\")\n",
    "\n",
    "distance = point1.distance_to(point2)\n",
    "print(f\"\\nDistance between Point 1 and Point 2: {distance:.2f}\")\n",
    "\n",
    "distance_origin = point1.distance_from_origin()\n",
    "print(f\"Distance of Point 1 from origin: {distance_origin:.2f}\")\n",
    "\n",
    "location = point1.locate()\n",
    "print(f\"\\n{location}\")\n",
    "\n",
    "origin_point = Point.origin()\n",
    "print(f\"Origin: {origin_point}\")\n",
    "\n",
    "new_point = Point.from_coordinates((10.0, 15.0))\n",
    "print(f\"Point created from coordinates: {new_point}\")\n",
    "\n",
    "print(repr(point1))\n",
    "print(str(point1))\n"
   ]
  },
  {
   "cell_type": "markdown",
   "id": "251c0096-5a6e-489b-8813-c5b269d2e6f8",
   "metadata": {},
   "source": [
    "# **Circle**"
   ]
  },
  {
   "cell_type": "code",
   "execution_count": 18,
   "id": "065e41b5-8030-40fa-84e3-265e6fe56e37",
   "metadata": {},
   "outputs": [],
   "source": [
    "from Geomatry.geo import Circle"
   ]
  },
  {
   "cell_type": "code",
   "execution_count": 19,
   "id": "571bd4e0-db04-416a-8bdb-408aaf4d77da",
   "metadata": {},
   "outputs": [],
   "source": [
    "circle1 = Circle(5)"
   ]
  },
  {
   "cell_type": "code",
   "execution_count": 20,
   "id": "0511b9d0-789b-4475-a2f0-f967205cd895",
   "metadata": {},
   "outputs": [
    {
     "name": "stdout",
     "output_type": "stream",
     "text": [
      "Circle with radius: 5\n",
      "Circle(radius=5)\n",
      "Radius: 5\n",
      "Diameter: 10\n",
      "Area: 78.54\n",
      "Circumference: 31.42\n",
      "Circle with radius: 5.0\n",
      "Circle with radius: 1\n",
      "Volume with height 10: 785.40\n"
     ]
    }
   ],
   "source": [
    "print(circle1)  \n",
    "print(repr(circle1))  \n",
    "\n",
    "print(f\"Radius: {circle1.radius}\")\n",
    "print(f\"Diameter: {circle1.diameter}\")\n",
    "print(f\"Area: {circle1.area:.2f}\")\n",
    "print(f\"Circumference: {circle1.circumference:.2f}\")\n",
    "\n",
    "circle2 = Circle.from_diameter(10)\n",
    "print(circle2)\n",
    "\n",
    "unit_circle = Circle.unit_circle()\n",
    "print(unit_circle)\n",
    "\n",
    "volume = circle1.volume(10)\n",
    "print(f\"Volume with height 10: {volume:.2f}\")"
   ]
  },
  {
   "cell_type": "markdown",
   "id": "10d4c12a-5034-43f4-82b9-39a138357afd",
   "metadata": {},
   "source": [
    "# **Square**"
   ]
  },
  {
   "cell_type": "code",
   "execution_count": 17,
   "id": "aa383397-5f21-407f-85f6-3fb0a249c090",
   "metadata": {},
   "outputs": [],
   "source": [
    "from Geomatry.geo import Square"
   ]
  },
  {
   "cell_type": "code",
   "execution_count": 33,
   "id": "1d92795b-ad55-47b0-ac3e-f97accce7c0e",
   "metadata": {},
   "outputs": [],
   "source": [
    "square1 = Square(4)"
   ]
  },
  {
   "cell_type": "code",
   "execution_count": 34,
   "id": "5fa752c0-b45e-450b-9a4b-3af0d76b4b1a",
   "metadata": {},
   "outputs": [
    {
     "name": "stdout",
     "output_type": "stream",
     "text": [
      "Square with side length: 4, area: 16, perimeter: 16\n",
      "Square(side_length=4)\n",
      "Side Length: 4\n",
      "Area: 16\n",
      "Perimeter: 16\n",
      "Square with side length: 6, area: 36, perimeter: 24\n"
     ]
    }
   ],
   "source": [
    "print(square1)\n",
    "print(repr(square1))\n",
    "\n",
    "print(f\"Side Length: {square1.side_length}\")\n",
    "print(f\"Area: {square1.area}\")\n",
    "print(f\"Perimeter: {square1.perimeter}\")\n",
    "\n",
    "square1.side_length = 6\n",
    "print(square1)"
   ]
  },
  {
   "cell_type": "markdown",
   "id": "75bb65e4-159e-48ac-9213-b3f38c7dbfc4",
   "metadata": {},
   "source": [
    "# **Triangle**"
   ]
  },
  {
   "cell_type": "code",
   "execution_count": 16,
   "id": "7a4f03c7-b96f-4144-bf13-c0ba5add57e9",
   "metadata": {},
   "outputs": [],
   "source": [
    "from Geomatry.geo import Triangle"
   ]
  },
  {
   "cell_type": "code",
   "execution_count": 36,
   "id": "e44a0f06-d77e-4c48-b6c7-3878582bc4f0",
   "metadata": {},
   "outputs": [],
   "source": [
    "tri = Triangle(a=3, b=4, c=5)"
   ]
  },
  {
   "cell_type": "code",
   "execution_count": 37,
   "id": "c2570ee2-ade1-4898-a6f0-9583a650bf4b",
   "metadata": {},
   "outputs": [
    {
     "name": "stdout",
     "output_type": "stream",
     "text": [
      "Triangle with sides: a=3, b=4, c=5, area: 6.0, perimeter: 12\n",
      "Sides: a=3, b=4, c=5\n",
      "Area: 6.0, Perimeter: 12\n"
     ]
    }
   ],
   "source": [
    "print(tri)\n",
    "print(f\"Sides: a={tri.a}, b={tri.b}, c={tri.c}\")\n",
    "print(f\"Area: {tri.area}, Perimeter: {tri.perimeter}\")"
   ]
  },
  {
   "cell_type": "markdown",
   "id": "a7541248-b5cf-47fe-ba2f-92847a6b56d5",
   "metadata": {},
   "source": [
    "# **Rectangle**"
   ]
  },
  {
   "cell_type": "code",
   "execution_count": 15,
   "id": "029f350f-ed30-4f58-8709-9f628a50dcaa",
   "metadata": {},
   "outputs": [],
   "source": [
    "from Geomatry.geo import Rectangle"
   ]
  },
  {
   "cell_type": "code",
   "execution_count": 39,
   "id": "b1904456-aa1c-4de8-b5be-9777db064016",
   "metadata": {},
   "outputs": [],
   "source": [
    "rect = Rectangle(width=4, height=5)"
   ]
  },
  {
   "cell_type": "code",
   "execution_count": 40,
   "id": "5928eecc-ebae-417e-8f61-9b2e02bef203",
   "metadata": {},
   "outputs": [
    {
     "name": "stdout",
     "output_type": "stream",
     "text": [
      "Rectangle with width: 4, height: 5, area: 20, perimeter: 18\n",
      "Width: 4, Height: 5\n",
      "Area: 20, Perimeter: 18\n"
     ]
    }
   ],
   "source": [
    "print(rect)\n",
    "print(f\"Width: {rect.width}, Height: {rect.height}\")\n",
    "print(f\"Area: {rect.area}, Perimeter: {rect.perimeter}\")"
   ]
  },
  {
   "cell_type": "markdown",
   "id": "be34ffcc-dba5-4cb2-9e4c-7b087616074d",
   "metadata": {},
   "source": [
    "# **Trapezoid**"
   ]
  },
  {
   "cell_type": "code",
   "execution_count": 14,
   "id": "fb7b05d9-d075-4859-9fda-3941f0ffaebc",
   "metadata": {},
   "outputs": [],
   "source": [
    "from Geomatry.geo import Trapezoid"
   ]
  },
  {
   "cell_type": "code",
   "execution_count": 42,
   "id": "adf0292b-b3b0-405e-aa17-06b65b10a1c7",
   "metadata": {},
   "outputs": [],
   "source": [
    "trap = Trapezoid(base1=5, base2=7, height=4)"
   ]
  },
  {
   "cell_type": "code",
   "execution_count": 43,
   "id": "c0981a42-6fd8-40e2-b22e-3aeef132e96b",
   "metadata": {},
   "outputs": [
    {
     "name": "stdout",
     "output_type": "stream",
     "text": [
      "Trapezoid with base1: 5, base2: 7\n",
      "Base1: 5, Base2: 7, Height: 4\n",
      "Area: 24.0\n"
     ]
    }
   ],
   "source": [
    "print(trap)\n",
    "print(f\"Base1: {trap.base1}, Base2: {trap.base2}, Height: {trap.height}\")\n",
    "print(f\"Area: {trap.area}\")"
   ]
  },
  {
   "cell_type": "markdown",
   "id": "f19c052c-064e-4c77-b1cf-68885ca5c4b4",
   "metadata": {},
   "source": [
    "# **Parallelogram**"
   ]
  },
  {
   "cell_type": "code",
   "execution_count": 26,
   "id": "84312140-7c11-4f77-89a1-4047198d7443",
   "metadata": {},
   "outputs": [],
   "source": [
    "from Geomatry.geo import Parallelogram"
   ]
  },
  {
   "cell_type": "code",
   "execution_count": 27,
   "id": "d27da417-46d9-453a-9956-ccec98cc55a0",
   "metadata": {},
   "outputs": [],
   "source": [
    "para = Parallelogram(base=6, height=8)"
   ]
  },
  {
   "cell_type": "code",
   "execution_count": 28,
   "id": "3a3f5fb3-d370-412c-919f-ac031255b090",
   "metadata": {},
   "outputs": [
    {
     "name": "stdout",
     "output_type": "stream",
     "text": [
      "Parallelogram with base: 6, height: 8\n",
      "Base: 6, Height: 8\n",
      "Area: 48, Perimeter: 28\n"
     ]
    }
   ],
   "source": [
    "print(para)\n",
    "print(f\"Base: {para.base}, Height: {para.height}\")\n",
    "print(f\"Area: {para.area}, Perimeter: {para.perimeter}\")"
   ]
  },
  {
   "cell_type": "markdown",
   "id": "c3dfb21c-5bd9-483e-a867-24bb92e41ae6",
   "metadata": {},
   "source": [
    "# Gromatry Inheritance"
   ]
  },
  {
   "cell_type": "markdown",
   "id": "737d91c6-6b2f-4a47-9b51-5d473c17aa0e",
   "metadata": {},
   "source": [
    "# **Point2D -> Point3D**"
   ]
  },
  {
   "cell_type": "code",
   "execution_count": 29,
   "id": "5f5744a4-4088-4414-af7b-07c1c2274b4c",
   "metadata": {},
   "outputs": [],
   "source": [
    "from GeomatryInheritance.geomatry import Point"
   ]
  },
  {
   "cell_type": "code",
   "execution_count": 30,
   "id": "46549c1c-54cb-4fc1-8300-e991834214a6",
   "metadata": {},
   "outputs": [
    {
     "name": "stdout",
     "output_type": "stream",
     "text": [
      "Distance between two point is = (1.414)\n",
      "Distance from origin to point is = (5.831)\n"
     ]
    }
   ],
   "source": [
    "\n",
    "p1 = Point(3, 5)\n",
    "\n",
    "print(f'Distance between two point is = ({p1.distance_to(2,4):.3f})')\n",
    "print(f'Distance from origin to point is = ({p1.distance_from_origin:.3f})')"
   ]
  },
  {
   "cell_type": "code",
   "execution_count": 49,
   "id": "4357e098-08c9-42e6-a06b-f53be1fb1221",
   "metadata": {},
   "outputs": [],
   "source": [
    "from MyPkg.GeomatryInheritance.geomatry import Point3D"
   ]
  },
  {
   "cell_type": "code",
   "execution_count": 50,
   "id": "c8824862-eeba-46ca-bfb1-9b41e8417be4",
   "metadata": {},
   "outputs": [
    {
     "name": "stdout",
     "output_type": "stream",
     "text": [
      "Distance between two point is = (1.732)\n",
      "Distance from origin to point is = (9.110)\n"
     ]
    }
   ],
   "source": [
    "\n",
    "p1 = Point3D(3, 5, 7)\n",
    "\n",
    "print(f'Distance between two point is = ({p1.distance_to(2,4,6):.3f})')\n",
    "print(f'Distance from origin to point is = ({p1.distance_from_origin:.3f})')"
   ]
  },
  {
   "cell_type": "markdown",
   "id": "fc6bd34d-371f-49ec-94e1-1420860cf06c",
   "metadata": {},
   "source": [
    "# **Circle -> Cylinder**"
   ]
  },
  {
   "cell_type": "code",
   "execution_count": 31,
   "id": "81d6041a-5b27-477a-acb8-9043d2aaad5c",
   "metadata": {},
   "outputs": [],
   "source": [
    "from GeomatryInheritance.geomatry import Circle"
   ]
  },
  {
   "cell_type": "code",
   "execution_count": 52,
   "id": "ae057168-42a0-4592-b37c-9f3de0e1154c",
   "metadata": {},
   "outputs": [],
   "source": [
    "circle = Circle(5)  "
   ]
  },
  {
   "cell_type": "code",
   "execution_count": 53,
   "id": "cb82ac3c-f039-4f5d-82b4-140730babe78",
   "metadata": {},
   "outputs": [
    {
     "name": "stdout",
     "output_type": "stream",
     "text": [
      "Circle with radius: 5\n",
      "Volume of the Circle: 785.398\n",
      "Area of the Circle: 78.540\n",
      "Circumference of the Circle: 31.416\n",
      "Diameter of the Circle: 10.000\n"
     ]
    }
   ],
   "source": [
    "print(f\"Circle with radius: {circle.radius}\")\n",
    "print(f\"Volume of the Circle: {circle.volume(10):.3f}\")\n",
    "print(f\"Area of the Circle: {circle.area:.3f}\")\n",
    "print(f\"Circumference of the Circle: {circle.circumference:.3f}\")\n",
    "print(f\"Diameter of the Circle: {circle.diameter:.3f}\")"
   ]
  },
  {
   "cell_type": "code",
   "execution_count": 54,
   "id": "b43a3838-f492-4209-b4b6-127fd01b3933",
   "metadata": {},
   "outputs": [],
   "source": [
    "from MyPkg.GeomatryInheritance.geomatry import Cylinder"
   ]
  },
  {
   "cell_type": "code",
   "execution_count": 55,
   "id": "0d314a61-bf60-4a53-b418-da61b55f6e6a",
   "metadata": {},
   "outputs": [],
   "source": [
    "cylinder = Cylinder(5, 10)  "
   ]
  },
  {
   "cell_type": "code",
   "execution_count": 56,
   "id": "265a6c10-6409-4951-9373-cca57fa2a01a",
   "metadata": {},
   "outputs": [
    {
     "name": "stdout",
     "output_type": "stream",
     "text": [
      "\n",
      "Cylinder with radius: 5 and height: 10\n",
      "Volume of the cylinder: 785.398\n",
      "Surface area of the cylinder: 471.239\n"
     ]
    }
   ],
   "source": [
    "print(f\"\\nCylinder with radius: {cylinder.radius} and height: {cylinder.height}\")\n",
    "print(f\"Volume of the cylinder: {cylinder.volume:.3f}\")\n",
    "print(f\"Surface area of the cylinder: {cylinder.surface_area:.3f}\")"
   ]
  },
  {
   "cell_type": "markdown",
   "id": "c73b3789-80d9-413a-ac01-42134bbf7ad2",
   "metadata": {},
   "source": [
    "# **Rectangle -> Rhombus**"
   ]
  },
  {
   "cell_type": "code",
   "execution_count": 32,
   "id": "f009fd3e-16cb-4672-9796-8a22c7440c2f",
   "metadata": {},
   "outputs": [],
   "source": [
    "from GeomatryInheritance.geomatry import Rectangle"
   ]
  },
  {
   "cell_type": "code",
   "execution_count": 33,
   "id": "ba72f170-19b3-4a49-b835-7c9b24cb22ad",
   "metadata": {},
   "outputs": [
    {
     "name": "stdout",
     "output_type": "stream",
     "text": [
      "Rectangle with width: 8 and height: 5\n",
      "Area of the rectangle: 40\n",
      "Perimeter of the rectangle: 26\n"
     ]
    }
   ],
   "source": [
    "rectangle = Rectangle(width=8, height=5)\n",
    "print(f\"Rectangle with width: {rectangle.width} and height: {rectangle.height}\")\n",
    "print(f\"Area of the rectangle: {rectangle.area}\")\n",
    "print(f\"Perimeter of the rectangle: {rectangle.perimeter}\")"
   ]
  },
  {
   "cell_type": "code",
   "execution_count": 35,
   "id": "7d434318-c62a-4f91-a760-094d7c679bca",
   "metadata": {},
   "outputs": [],
   "source": [
    "from GeomatryInheritance.geomatry import Rhombus"
   ]
  },
  {
   "cell_type": "code",
   "execution_count": 36,
   "id": "53d407b4-9ccc-42bc-bfc7-8deccdabe87d",
   "metadata": {},
   "outputs": [],
   "source": [
    "rhombus = Rhombus(8, 6)  "
   ]
  },
  {
   "cell_type": "code",
   "execution_count": 37,
   "id": "e61b6773-195d-463d-a53d-1b25f1235198",
   "metadata": {},
   "outputs": [
    {
     "name": "stdout",
     "output_type": "stream",
     "text": [
      "Rhombus with side length: 8 and height: 6\n",
      "Area of the rhombus: 48\n",
      "Perimeter of the rhombus: 32\n"
     ]
    }
   ],
   "source": [
    "print(f\"Rhombus with side length: {rhombus.side_length} and height: {rhombus.height}\")\n",
    "print(f\"Area of the rhombus: {rhombus.area}\")\n",
    "print(f\"Perimeter of the rhombus: {rhombus.perimeter}\")"
   ]
  },
  {
   "cell_type": "markdown",
   "id": "08659d0b-3c78-41f6-8f34-dcbdf67f51b3",
   "metadata": {},
   "source": [
    "# **Rectagnle -> Square -> Cube**"
   ]
  },
  {
   "cell_type": "code",
   "execution_count": 39,
   "id": "a9902e2b-c6e5-4a81-b461-87433b870057",
   "metadata": {},
   "outputs": [],
   "source": [
    "from GeomatryInheritance.geomatry import Rectangle"
   ]
  },
  {
   "cell_type": "code",
   "execution_count": 2,
   "id": "f3d21c69-58a7-4a64-9af2-3f634283006a",
   "metadata": {},
   "outputs": [],
   "source": [
    "rect = Rectangle(10, 20)"
   ]
  },
  {
   "cell_type": "code",
   "execution_count": 3,
   "id": "093618a3-ba14-489e-a3c0-c8093bc47fc5",
   "metadata": {},
   "outputs": [
    {
     "name": "stdout",
     "output_type": "stream",
     "text": [
      "Rectangle Area: 200\n",
      "Rectangle Perimeter: 60\n"
     ]
    }
   ],
   "source": [
    "print(\"Rectangle Area:\", rect.area)\n",
    "print(\"Rectangle Perimeter:\", rect.perimeter)"
   ]
  },
  {
   "cell_type": "code",
   "execution_count": 40,
   "id": "abe7a97c-f07c-4ef5-ac09-848411f39efc",
   "metadata": {},
   "outputs": [],
   "source": [
    "from GeomatryInheritance.geomatry import Square"
   ]
  },
  {
   "cell_type": "code",
   "execution_count": 5,
   "id": "8bbb5acd-1f03-436a-a956-edfe17336b6d",
   "metadata": {},
   "outputs": [],
   "source": [
    "sq = Square(5)"
   ]
  },
  {
   "cell_type": "code",
   "execution_count": 6,
   "id": "0f86b726-e921-46b8-9a2d-4b74676d2458",
   "metadata": {},
   "outputs": [
    {
     "name": "stdout",
     "output_type": "stream",
     "text": [
      "Square Area: 25\n",
      "Square Perimeter: 20\n"
     ]
    }
   ],
   "source": [
    "print(\"Square Area:\", sq.area)\n",
    "print(\"Square Perimeter:\", sq.perimeter)"
   ]
  },
  {
   "cell_type": "markdown",
   "id": "cd3996a8-665e-44fb-b1c9-1f81ea31f6c8",
   "metadata": {},
   "source": [
    "# **Trapezoid -> Parallelogram**"
   ]
  },
  {
   "cell_type": "code",
   "execution_count": 41,
   "id": "283ee43b-eca1-4961-a22a-60c5820a0fd0",
   "metadata": {},
   "outputs": [],
   "source": [
    "from GeomatryInheritance.geomatry import Trapezoid"
   ]
  },
  {
   "cell_type": "code",
   "execution_count": 67,
   "id": "dd3be866-85d5-48bc-8f81-584c6951bb8c",
   "metadata": {},
   "outputs": [],
   "source": [
    "trapezoid = Trapezoid(base1=6, base2=4, height=5)"
   ]
  },
  {
   "cell_type": "code",
   "execution_count": 68,
   "id": "a0f7ac22-0925-4210-be2b-b531ed8d8ba9",
   "metadata": {},
   "outputs": [
    {
     "name": "stdout",
     "output_type": "stream",
     "text": [
      "Trapezoid with base1: 6, base2: 4, height: 5\n",
      "Area of the trapezoid: 25.00\n",
      "Perimeter of the trapezoid: 20.00\n"
     ]
    }
   ],
   "source": [
    "print(f\"Trapezoid with base1: {trapezoid.base1}, base2: {trapezoid.base2}, height: {trapezoid.height}\")\n",
    "print(f\"Area of the trapezoid: {trapezoid.area:.2f}\")\n",
    "print(f\"Perimeter of the trapezoid: {trapezoid.perimeter:.2f}\")"
   ]
  },
  {
   "cell_type": "code",
   "execution_count": 42,
   "id": "b098ac62-daeb-4072-9c41-4e7e6c7413ba",
   "metadata": {},
   "outputs": [],
   "source": [
    "from GeomatryInheritance.geomatry import Parallelogram"
   ]
  },
  {
   "cell_type": "code",
   "execution_count": 70,
   "id": "65f9c4da-5c30-4402-8c2a-8d3707c3a33c",
   "metadata": {},
   "outputs": [],
   "source": [
    "parallelogram = Parallelogram(base=6, side=4, height=5)"
   ]
  },
  {
   "cell_type": "code",
   "execution_count": 71,
   "id": "de160214-cd8f-430f-a8ae-2474043397b0",
   "metadata": {},
   "outputs": [
    {
     "name": "stdout",
     "output_type": "stream",
     "text": [
      "Parallelogram with base: 6, side: 4, height: 5\n",
      "Area of the parallelogram: 30.00\n",
      "Perimeter of the parallelogram: 20.00\n"
     ]
    }
   ],
   "source": [
    "parallelogram = Parallelogram(base=6, side=4, height=5)\n",
    "print(f\"Parallelogram with base: {parallelogram.base1}, side: {parallelogram.side}, height: {parallelogram.height}\")\n",
    "print(f\"Area of the parallelogram: {parallelogram.area:.2f}\")\n",
    "print(f\"Perimeter of the parallelogram: {parallelogram.perimeter:.2f}\")"
   ]
  },
  {
   "cell_type": "markdown",
   "id": "8455877b-23cf-4ee4-933d-7482902f43cd",
   "metadata": {},
   "source": [
    "## Emplyee"
   ]
  },
  {
   "cell_type": "code",
   "execution_count": 43,
   "id": "d95067d7-5c79-4935-a086-878bfbda1230",
   "metadata": {},
   "outputs": [],
   "source": [
    "from Employee.Employees import *"
   ]
  },
  {
   "cell_type": "markdown",
   "id": "772353c6-2603-4f20-a4b2-8ab735be61f1",
   "metadata": {},
   "source": [
    "# **Inderitance**"
   ]
  },
  {
   "cell_type": "code",
   "execution_count": 44,
   "id": "bcc518c2-77f0-40af-82b8-7ea537882b7b",
   "metadata": {},
   "outputs": [
    {
     "name": "stdout",
     "output_type": "stream",
     "text": [
      "Calculating Payroll\n",
      "===================\n",
      "Payroll for: 1 - John Smith\n",
      "- Check amount: 1500\n",
      "\n",
      "Payroll for: 2 - Jane Doe\n",
      "- Check amount: 600\n",
      "\n",
      "Payroll for: 3 - Kevin Bacon\n",
      "- Check amount: 1250\n",
      "\n"
     ]
    }
   ],
   "source": [
    "salary_employee = SalaryEmployee(1, \"John Smith\", 1500)\n",
    "hourly_employee = HourlyEmployee(2, \"Jane Doe\", 40, 15)\n",
    "commission_employee = CommissionEmployee(3, \"Kevin Bacon\", 1000, 250)\n",
    "\n",
    "payroll_system = PayrollSystem()\n",
    "payroll_system.calculate_payroll(\n",
    "    [salary_employee, hourly_employee, commission_employee]\n",
    ")"
   ]
  },
  {
   "cell_type": "markdown",
   "id": "0ef5560e-7a9a-4f2b-be15-aaef70326eb7",
   "metadata": {},
   "source": [
    "# **Multi-Level Inheritance**"
   ]
  },
  {
   "cell_type": "code",
   "execution_count": 45,
   "id": "ee67d300-d6b0-4f05-b961-fab550e4d982",
   "metadata": {},
   "outputs": [
    {
     "name": "stdout",
     "output_type": "stream",
     "text": [
      "Tracking Employee Productivity\n",
      "==============================\n",
      "Mary Poppins screams and yells for 40 hours.\n",
      "John Smith expends 40 hours doing office paperwork.\n",
      "Kevin Bacon expends 40 hours on the phone.\n",
      "Jane Doe manufactures gadgets for 40 hours.\n",
      "\n",
      "Calculating Payroll\n",
      "===================\n",
      "Payroll for: 1 - Mary Poppins\n",
      "- Check amount: 3000\n",
      "\n",
      "Payroll for: 2 - John Smith\n",
      "- Check amount: 1500\n",
      "\n",
      "Payroll for: 3 - Kevin Bacon\n",
      "- Check amount: 1250\n",
      "\n",
      "Payroll for: 4 - Jane Doe\n",
      "- Check amount: 600\n",
      "\n"
     ]
    }
   ],
   "source": [
    "manager = Manager(1, \"Mary Poppins\", 3000)\n",
    "secretary = Secretary(2, \"John Smith\", 1500)\n",
    "sales_guy = SalesPerson(3, \"Kevin Bacon\", 1000, 250)\n",
    "factory_worker = FactoryWorker(4, \"Jane Doe\", 40, 15)\n",
    "employees = [\n",
    "    manager,\n",
    "    secretary,\n",
    "    sales_guy,\n",
    "    factory_worker,\n",
    "]\n",
    "\n",
    "productivity_system = ProductivitySystem()\n",
    "productivity_system.track(employees, 40)\n",
    "\n",
    "payroll_system = PayrollSystem()\n",
    "payroll_system.calculate_payroll(employees)"
   ]
  },
  {
   "cell_type": "markdown",
   "id": "6f8e3cab-83d7-4159-b225-50e0bcaab631",
   "metadata": {},
   "source": [
    "# **Multiple Inheritance**"
   ]
  },
  {
   "cell_type": "code",
   "execution_count": 46,
   "id": "c1ce8473-163a-499a-b093-ecc8b118f87a",
   "metadata": {},
   "outputs": [
    {
     "name": "stdout",
     "output_type": "stream",
     "text": [
      "Tracking Employee Productivity\n",
      "==============================\n",
      "Mary Poppins screams and yells for 40 hours.\n",
      "John Smith expends 40 hours doing office paperwork.\n",
      "Kevin Bacon expends 40 hours on the phone.\n",
      "Jane Doe manufactures gadgets for 40 hours.\n",
      "Robin Williams expends 40 hours doing office paperwork.\n",
      "\n",
      "Calculating Payroll\n",
      "===================\n",
      "Payroll for: 1 - Mary Poppins\n",
      "- Check amount: 3000\n",
      "\n",
      "Payroll for: 2 - John Smith\n",
      "- Check amount: 1500\n",
      "\n",
      "Payroll for: 3 - Kevin Bacon\n",
      "- Check amount: 1250\n",
      "\n",
      "Payroll for: 4 - Jane Doe\n",
      "- Check amount: 600\n",
      "\n",
      "Payroll for: 5 - Robin Williams\n",
      "- Check amount: 360\n",
      "\n"
     ]
    }
   ],
   "source": [
    "manager = Manager(1, \"Mary Poppins\", 3000)\n",
    "secretary = Secretary(2, \"John Smith\", 1500)\n",
    "sales_guy = SalesPerson(3, \"Kevin Bacon\", 1000, 250)\n",
    "factory_worker = FactoryWorker(4, \"Jane Doe\", 40, 15)\n",
    "temporary_secretary = TemporarySecretary(5, \"Robin Williams\", 40, 9)\n",
    "company_employees = [\n",
    "    manager,\n",
    "    secretary,\n",
    "    sales_guy,\n",
    "    factory_worker,\n",
    "    temporary_secretary,\n",
    "]\n",
    "\n",
    "productivity_system = ProductivitySystem()\n",
    "productivity_system.track(company_employees, 40)\n",
    "\n",
    "payroll_system = PayrollSystem()\n",
    "payroll_system.calculate_payroll(company_employees)"
   ]
  },
  {
   "cell_type": "code",
   "execution_count": 49,
   "id": "2c16ca72-0cb6-4a93-ac1c-6b9fc074247e",
   "metadata": {},
   "outputs": [],
   "source": [
    "from Department.Dprt_Inheritance import *"
   ]
  },
  {
   "cell_type": "code",
   "execution_count": 50,
   "id": "4deeb959-3937-4973-8ddb-6835d7b9e63f",
   "metadata": {},
   "outputs": [],
   "source": [
    "employees = [\n",
    "    Professor(1, \"Dr. Qaisar Ali\", \"Professor\", 8, \"21\", 120000, \"AI\", \"Tenured\", 350000),\n",
    "    AssociateProf(2, \"Dr. Amjad Ali\", \"Associate Professor\", 10, \"20\", 100000, \"Professional Ethics\", \"Machine Learning\", 300000),\n",
    "    AssistantProf(3, \"Dr. Ibrar Ullah\", \"Assistant Professor\", 22, \"19\", 60000, \"DLD\", 12, 180000),\n",
    "    Lecturer(4, \"Engr. Najvia Khattak\", \"Lecturer\", 14, \"18\", 45000, \"Engineering Mechanics\", \"Permanent\", 130000),\n",
    "    LabEngineer(5, \"Engr. Waqar Hussain\", \"Lab Engineer\", 20, \"18\", 100000, \"Networking\", \"EE Department\", 5),\n",
    "    LabTechnician(6, \"Sana Ahmed\", \"Lab Technician\", 19, \"12\", 40000, \"Control Systems\", \"EE Department\", \"Soldering\"),\n",
    "    LabAssistant(7, \"Faisal Khan\", \"Lab Assistant\", 17, \"10\", 35000, \"Circuits Lab\", \"EE Department\", 3),\n",
    "    LabAttendant(8, \"Imran Ali\", \"Lab Attendant\", 10, \"9\", 30000, \"EM Lab\", \"EE Department\", \"75%\"),\n",
    "    Chairman(9, \"Dr. Amjid Ali\", \"Chairman\", 12, \"22\", 150000, \"Professional Ethics\",  \"EE Department\", 4)\n",
    "]"
   ]
  },
  {
   "cell_type": "code",
   "execution_count": 51,
   "id": "9f0e043d-e4e5-4628-8337-ae0098b5695b",
   "metadata": {},
   "outputs": [
    {
     "name": "stdout",
     "output_type": "stream",
     "text": [
      "('ID: 1, Name: Dr. Qaisar Ali, Position: Professor, Workload: 8, Scale: 21, '\n",
      " 'Base Pay: 120000, Subject: AI, Status: Tenured, Net Pay: 350000')\n",
      "('ID: 2, Name: Dr. Amjad Ali, Position: Associate Professor, Workload: 10, '\n",
      " 'Scale: 20, Base Pay: 100000, Subject: Professional Ethics, Research Area: '\n",
      " 'Machine Learning, Net Pay: 300000')\n",
      "('ID: 3, Name: Dr. Ibrar Ullah, Position: Assistant Professor, Workload: 22, '\n",
      " 'Scale: 19, Base Pay: 60000, Subject: DLD, Experience: 12 years, Net Pay: '\n",
      " '180000')\n",
      "('ID: 4, Name: Engr. Najvia Khattak, Position: Lecturer, Workload: 14, Scale: '\n",
      " '18, Base Pay: 45000, Subject: Engineering Mechanics, Term: Permanent, Net '\n",
      " 'Pay: 130000')\n",
      "('ID: 5, Name: Engr. Waqar Hussain, Position: Lab Engineer, Workload: 20, '\n",
      " 'Scale: 18, Base Pay: 100000, Lab Subject: Networking, Department: EE '\n",
      " 'Department, Projects: 5')\n",
      "('ID: 6, Name: Sana Ahmed, Position: Lab Technician, Workload: 19, Scale: 12, '\n",
      " 'Base Pay: 40000, Lab Subject: Control Systems, Department: EE Department, '\n",
      " 'Skills: Soldering')\n",
      "('ID: 7, Name: Faisal Khan, Position: Lab Assistant, Workload: 17, Scale: 10, '\n",
      " 'Base Pay: 35000, Lab Subject: Circuits Lab, Department: EE Department, Years '\n",
      " 'Assisting: 3')\n",
      "('ID: 8, Name: Imran Ali, Position: Lab Attendant, Workload: 10, Scale: 9, '\n",
      " 'Base Pay: 30000, Lab Subject: EM Lab, Department: EE Department, Attendance '\n",
      " 'Rate: 75%')\n",
      "('ID: 9, Name: Dr. Amjid Ali, Position: Chairman, Workload: 12, Scale: 22, '\n",
      " 'Base Pay: 150000, Subject: Professional Ethics, Term Duration: 4 years')\n"
     ]
    }
   ],
   "source": [
    "from pprint import pprint      # use for better look and in good arrangment \n",
    "for employee in employees:\n",
    "    pprint(employee.display())"
   ]
  }
 ],
 "metadata": {
  "kernelspec": {
   "display_name": "Python 3 (ipykernel)",
   "language": "python",
   "name": "python3"
  },
  "language_info": {
   "codemirror_mode": {
    "name": "ipython",
    "version": 3
   },
   "file_extension": ".py",
   "mimetype": "text/x-python",
   "name": "python",
   "nbconvert_exporter": "python",
   "pygments_lexer": "ipython3",
   "version": "3.9.20"
  }
 },
 "nbformat": 4,
 "nbformat_minor": 5
}
