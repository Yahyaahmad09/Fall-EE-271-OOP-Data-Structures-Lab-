{
 "cells": [
  {
   "cell_type": "code",
   "execution_count": 9,
   "id": "700612c5",
   "metadata": {},
   "outputs": [
    {
     "name": "stdout",
     "output_type": "stream",
     "text": [
      "Hello World\n",
      "\n",
      "12\n"
     ]
    }
   ],
   "source": [
    "# CH # 01;\n",
    "print('Hello World\\n')\n",
    "\n",
    "x = 6 # assign value t a variable\n",
    "y = x * 2\n",
    "print(y)\n",
    "\n",
    "\n"
   ]
  },
  {
   "cell_type": "code",
   "execution_count": 13,
   "id": "cf0a2935",
   "metadata": {},
   "outputs": [
    {
     "data": {
      "text/plain": [
       "str"
      ]
     },
     "execution_count": 13,
     "metadata": {},
     "output_type": "execute_result"
    }
   ],
   "source": [
    "# CH # 02;\n",
    "# type conversion\n",
    "type('Hello')"
   ]
  },
  {
   "cell_type": "code",
   "execution_count": 14,
   "id": "a6fe1049",
   "metadata": {},
   "outputs": [
    {
     "data": {
      "text/plain": [
       "int"
      ]
     },
     "execution_count": 14,
     "metadata": {},
     "output_type": "execute_result"
    }
   ],
   "source": [
    "# CH # 02;\n",
    "# type conversion\n",
    "type(12)"
   ]
  },
  {
   "cell_type": "code",
   "execution_count": 15,
   "id": "23e6db54",
   "metadata": {},
   "outputs": [
    {
     "data": {
      "text/plain": [
       "float"
      ]
     },
     "execution_count": 15,
     "metadata": {},
     "output_type": "execute_result"
    }
   ],
   "source": [
    "# CH # 02;\n",
    "# type conversion\n",
    "type(3.2)"
   ]
  },
  {
   "cell_type": "code",
   "execution_count": 1,
   "id": "a88ba064",
   "metadata": {},
   "outputs": [
    {
     "name": "stdout",
     "output_type": "stream",
     "text": [
      "2\n"
     ]
    }
   ],
   "source": [
    "# CH # 02;\n",
    "# type conversion\n",
    "x = 2.3\n",
    "f = int(x)\n",
    "print(f)"
   ]
  },
  {
   "cell_type": "code",
   "execution_count": 5,
   "id": "e660a996",
   "metadata": {},
   "outputs": [
    {
     "name": "stdout",
     "output_type": "stream",
     "text": [
      "125\n"
     ]
    }
   ],
   "source": [
    "# CH # 02;\n",
    "# type conversion\n",
    "d = '123'\n",
    "s = int(d)\n",
    "c = s + 2\n",
    "print(c)"
   ]
  },
  {
   "cell_type": "code",
   "execution_count": 6,
   "id": "4e8fe600",
   "metadata": {},
   "outputs": [
    {
     "data": {
      "text/plain": [
       "'123'"
      ]
     },
     "execution_count": 6,
     "metadata": {},
     "output_type": "execute_result"
    }
   ],
   "source": [
    "# CH # 02;\n",
    "# type conversion\n",
    "d = 123\n",
    "str(d)"
   ]
  },
  {
   "cell_type": "code",
   "execution_count": 10,
   "id": "a2778d3a",
   "metadata": {},
   "outputs": [
    {
     "name": "stdout",
     "output_type": "stream",
     "text": [
      "Enter your name:yahya\n",
      "Hello yahya\n"
     ]
    }
   ],
   "source": [
    "# CH # 02;  (Exercises)\n",
    " # Write a program that uses input to prompt a user for their name and then welcomes them.\n",
    "    # Enter your name: Chuck\n",
    "    # Hello Chuck\n",
    "a = input('Enter your name:')\n",
    "print('Hello','yahya')\n"
   ]
  },
  {
   "cell_type": "code",
   "execution_count": null,
   "id": "5014c749",
   "metadata": {},
   "outputs": [],
   "source": []
  },
  {
   "cell_type": "code",
   "execution_count": 8,
   "id": "6f44b9bb",
   "metadata": {},
   "outputs": [
    {
     "name": "stdout",
     "output_type": "stream",
     "text": [
      "Enter Hours:4\n",
      "Enter Rate:7\n",
      "Pay: 28\n"
     ]
    }
   ],
   "source": [
    "# CH # 02;  (Exercises)\n",
    "#  Write a program to prompt the user for hours and rate per hour to compute gross pay.\n",
    "# Enter Hours: 35\n",
    "# Enter Rate: 2.75\n",
    "# Pay: 96.25\n",
    "\n",
    "s = int(input('Enter Hours:'))\n",
    "a = int(input('Enter Rate:'))\n",
    "pay = s * a\n",
    "print('Pay:',pay)"
   ]
  },
  {
   "cell_type": "code",
   "execution_count": 2,
   "id": "d71a6d5b",
   "metadata": {},
   "outputs": [
    {
     "name": "stdout",
     "output_type": "stream",
     "text": [
      "8\n",
      "8.5\n",
      "4.0\n",
      "11\n"
     ]
    }
   ],
   "source": [
    "# CH # 02;  (Exercises)\n",
    "#  Assume that we execute the following assignment state\u0002ments:\n",
    "# width = 17\n",
    "# height = 12.0\n",
    "# 1. width//2\n",
    "# 2. width/2.0\n",
    "# 3. height/3\n",
    "# 4. 1 + 2 * 5\n",
    "\n",
    "x = 17//2\n",
    "print(x)\n",
    "y = 17/2.0\n",
    "print(y)\n",
    "a = 12.0/3\n",
    "print(a)\n",
    "b = 1 + 2 * 5\n",
    "print(b)"
   ]
  },
  {
   "cell_type": "code",
   "execution_count": 3,
   "id": "e82e02df",
   "metadata": {},
   "outputs": [
    {
     "name": "stdout",
     "output_type": "stream",
     "text": [
      "Enter Fahrenheit Temperature:4\n",
      "-15.555555555555555\n"
     ]
    }
   ],
   "source": [
    "# CH # 02;  (Exercises)\n",
    "# rite a program which prompts the user for a Celsius temperature, convert the temperature to Fahrenheit, and print out the\n",
    "# converted temperature.\n",
    "\n",
    "inp = input('Enter Fahrenheit Temperature:')\n",
    "fahr = float(inp)\n",
    "cel = (fahr - 32.0) * 5.0 / 9.0\n",
    "print(cel)\n"
   ]
  },
  {
   "cell_type": "code",
   "execution_count": 7,
   "id": "931fb008",
   "metadata": {},
   "outputs": [
    {
     "name": "stdout",
     "output_type": "stream",
     "text": [
      "Enter Hours:5\n",
      "Enter Rate:g\n",
      "Invalid Input\n"
     ]
    }
   ],
   "source": [
    "# CH # 03;  s = input('Enter Hours:')\n",
    "try:\n",
    "    s = int(input('Enter Hours:'))\n",
    "    a = int(input('Enter Rate:'))\n",
    "    pay = s * a\n",
    "    print('pay:',pay)\n",
    "except:\n",
    "    print('Invalid Input')\n",
    "    "
   ]
  },
  {
   "cell_type": "code",
   "execution_count": null,
   "id": "a93bb8a8",
   "metadata": {},
   "outputs": [],
   "source": [
    "# CH # 03;\n",
    "def  ali():\n",
    "    print('hello')\n",
    "    print('hi')\n",
    "ali()"
   ]
  },
  {
   "cell_type": "code",
   "execution_count": 21,
   "id": "644f5d66",
   "metadata": {},
   "outputs": [
    {
     "name": "stdout",
     "output_type": "stream",
     "text": [
      "apple\n",
      "banana\n",
      "black\n",
      "yallow\n",
      "hello\n",
      "apple\n",
      "banana\n",
      "black\n",
      "yallow\n"
     ]
    }
   ],
   "source": [
    "# CH # 03;\n",
    "def names():\n",
    "    print('apple')\n",
    "    print('banana')\n",
    "    print('black')\n",
    "    print('yallow')\n",
    "names()\n",
    "print('hello')\n",
    "names()"
   ]
  },
  {
   "cell_type": "code",
   "execution_count": 6,
   "id": "537fe179",
   "metadata": {},
   "outputs": [
    {
     "name": "stdout",
     "output_type": "stream",
     "text": [
      "Enter score:0.9\n",
      "Garde A\n"
     ]
    }
   ],
   "source": [
    "# CH # 03;\n",
    "# Write a program to prompt for a score between 0.0 and1.0. If the score is out of range,print an error message.\n",
    "# If the score is between 0.0 and 1.0, print a grade using the following table:\n",
    "\n",
    "#   Score    Grade\n",
    " # >= 0.9      A\n",
    " # >= 0.8      B\n",
    " # >= 0.7      C\n",
    " # >= 0.6      D\n",
    " # < 0.6       F\n",
    "    \n",
    "try:\n",
    "    score = float(input('Enter score:'))\n",
    "    if score < 0.0 or score > 1.0:\n",
    "        print('Out of range:')\n",
    "    else :\n",
    "         if score >= 0.9:\n",
    "                Grade = 'A'\n",
    "lif score >= 0.8:     Grade ='B'\n",
    "                elif score >= 0.7:\n",
    "                    Grade = 'C'\n",
    "                else:\n",
    "                    'Fail'\n",
    "         print('Garde',Grade)\n",
    "except:\n",
    "      print('Invalid Input')\n",
    "        "
   ]
  },
  {
   "cell_type": "code",
   "execution_count": 7,
   "id": "18c368ce",
   "metadata": {},
   "outputs": [
    {
     "name": "stdout",
     "output_type": "stream",
     "text": [
      "Enter score:0.7\n",
      "Garde C\n"
     ]
    }
   ],
   "source": [
    "# CH # 03;\n",
    "# Write a program to prompt for a score between 0.0 and1.0. If the score is out of range,print an error message.\n",
    "# If the score is between 0.0 and 1.0, print a grade using the following table:\n",
    "\n",
    "#   Score    Grade\n",
    " # >= 0.9      A\n",
    " # >= 0.8      B\n",
    " # >= 0.7      C\n",
    " # >= 0.6      D\n",
    " # < 0.6       F\n",
    "    \n",
    "try:\n",
    "    score = float(input('Enter score:'))\n",
    "    if score < 0.0 or score > 1.0:\n",
    "        print('Out of range:')\n",
    "    else :\n",
    "         if score >= 0.9:\n",
    "                Grade = 'A'\n",
    "         elif score >= 0.8:\n",
    "                Grade ='B'\n",
    "         elif score >= 0.7:\n",
    "                Grade = 'C'\n",
    "         else:\n",
    "              'Fail'\n",
    "         print('Garde',Grade)\n",
    "except:\n",
    "      print('Invalid Input')\n",
    "        "
   ]
  },
  {
   "cell_type": "code",
   "execution_count": 8,
   "id": "cc945f6b",
   "metadata": {},
   "outputs": [
    {
     "name": "stdout",
     "output_type": "stream",
     "text": [
      "Enter score:0,9\n",
      "Invalid Input\n"
     ]
    }
   ],
   "source": [
    "# CH # 03;\n",
    "# Write a program to prompt for a score between 0.0 and1.0. If the score is out of range,print an error message.\n",
    "# If the score is between 0.0 and 1.0, print a grade using the following table:\n",
    "\n",
    "#   Score    Grade\n",
    " # >= 0.9      A\n",
    " # >= 0.8      B\n",
    " # >= 0.7      C\n",
    " # >= 0.6      D\n",
    " # < 0.6       F\n",
    "    \n",
    "try:\n",
    "    score = float(input('Enter score:'))\n",
    "    if score < 0.0 or score > 1.0:\n",
    "        print('Out of range:')\n",
    "    else :\n",
    "         if score >= 0.9:\n",
    "                Grade = 'A'\n",
    "         elif score >= 0.8:\n",
    "                Grade ='B'\n",
    "         elif score >= 0.7:\n",
    "                Grade = 'C'\n",
    "         else:\n",
    "              'Fail'\n",
    "         print('Garde',Grade)\n",
    "except:\n",
    "      print('Invalid Input')\n",
    "        "
   ]
  },
  {
   "cell_type": "code",
   "execution_count": 9,
   "id": "98bc8591",
   "metadata": {},
   "outputs": [
    {
     "name": "stdout",
     "output_type": "stream",
     "text": [
      "Enter score:2\n",
      "Out of range:\n"
     ]
    }
   ],
   "source": [
    "# CH # 03;\n",
    "# Write a program to prompt for a score between 0.0 and1.0. If the score is out of range,print an error message.\n",
    "# If the score is between 0.0 and 1.0, print a grade using the following table:\n",
    "\n",
    "#   Score    Grade\n",
    " # >= 0.9      A\n",
    " # >= 0.8      B\n",
    " # >= 0.7      C\n",
    " # >= 0.6      D\n",
    " # < 0.6       F\n",
    "    \n",
    "try:\n",
    "    score = float(input('Enter score:'))\n",
    "    if score < 0.0 or score > 1.0:\n",
    "        print('Out of range:')\n",
    "    else :\n",
    "         if score >= 0.9:\n",
    "                Grade = 'A'\n",
    "         elif score >= 0.8:\n",
    "                Grade ='B'\n",
    "         elif score >= 0.7:\n",
    "                Grade = 'C'\n",
    "         else:\n",
    "              'Fail'\n",
    "         print('Garde',Grade)\n",
    "except:\n",
    "      print('Invalid Input')\n",
    "        "
   ]
  },
  {
   "cell_type": "code",
   "execution_count": 11,
   "id": "faa60be6",
   "metadata": {},
   "outputs": [
    {
     "name": "stdout",
     "output_type": "stream",
     "text": [
      "0.0015926529164868282\n"
     ]
    }
   ],
   "source": [
    "# CH # 04;\n",
    "import math\n",
    "pi = 3.14\n",
    "m = math.sin(pi)\n",
    "print(m)"
   ]
  },
  {
   "cell_type": "code",
   "execution_count": 16,
   "id": "f05d805e",
   "metadata": {},
   "outputs": [
    {
     "name": "stdout",
     "output_type": "stream",
     "text": [
      "How are you ali\n",
      "How are you umar\n",
      "How are you asim\n",
      "How are you waqar\n",
      "Ok!\n"
     ]
    }
   ],
   "source": [
    "# CH # 04;   definite loop:\n",
    "Name = ('ali','umar','asim','waqar')\n",
    "for one in  Name:\n",
    "    print('How are you',one)\n",
    "print('Ok!')\n"
   ]
  },
  {
   "cell_type": "code",
   "execution_count": 18,
   "id": "a08a450d",
   "metadata": {},
   "outputs": [
    {
     "name": "stdout",
     "output_type": "stream",
     "text": [
      "Number:2\n",
      "2\n",
      "Number:ew\n",
      "ew\n",
      "Number:\n",
      "\n",
      "Number:y56\n",
      "y56\n",
      "Number:5\n",
      "5\n",
      "Number:6\n",
      "6\n",
      "Number:5465\n",
      "5465\n",
      "Number:ok\n",
      "ok\n",
      "Number:Ok\n",
      "Ok!\n"
     ]
    }
   ],
   "source": [
    "# CH # 04;  Indefinite loop:\n",
    "while True:\n",
    "    s = input('Number:')\n",
    "    if s  == 'Ok':\n",
    "        break\n",
    "    print(s)\n",
    "print('Ok!')"
   ]
  },
  {
   "cell_type": "code",
   "execution_count": 2,
   "id": "5741d037",
   "metadata": {},
   "outputs": [
    {
     "name": "stdout",
     "output_type": "stream",
     "text": [
      ">=2\n",
      "2\n",
      ">=4\n",
      "4\n",
      ">=# DSD\n",
      ">=DONE\n",
      "DONE\n",
      ">=done\n",
      "done\n"
     ]
    }
   ],
   "source": [
    "while True:\n",
    "    r = input('>=')\n",
    "    if r[0] == '#':\n",
    "        continue\n",
    "    if r == 'done':\n",
    "        break\n",
    "    print(r)\n",
    "print('done')\n",
    "    "
   ]
  },
  {
   "cell_type": "code",
   "execution_count": 15,
   "id": "fbb254a2",
   "metadata": {},
   "outputs": [
    {
     "name": "stdout",
     "output_type": "stream",
     "text": [
      "Count: 15\n"
     ]
    }
   ],
   "source": [
    "# CH # 04;     'counting'\n",
    "count = 0\n",
    "for value in  [1, 4, 6, 7, 8, 9,3,5,7,20,8,9,0,6,5]:\n",
    "    count = count + 1\n",
    "print('Count:',count)"
   ]
  },
  {
   "cell_type": "code",
   "execution_count": 2,
   "id": "96b120eb",
   "metadata": {},
   "outputs": [
    {
     "name": "stdout",
     "output_type": "stream",
     "text": [
      "Before None\n",
      "loop: 3 3\n",
      "loop: 5 5\n",
      "loop: 7 7\n",
      "loop: 9 9\n",
      "loop: 23 23\n",
      "loop: 45 45\n",
      "loop: 67 67\n",
      "Largest: 67\n"
     ]
    }
   ],
   "source": [
    "# CH # 04;   'largest'\n",
    "largest = None\n",
    "print('Before',largest)\n",
    "for i in  [3,5,7,9,23,45,67]:\n",
    "    if largest is None or i >largest:\n",
    "        largest = i\n",
    "    print('loop:',i,largest)\n",
    "print('Largest:',largest)"
   ]
  },
  {
   "cell_type": "code",
   "execution_count": 4,
   "id": "c4341b56",
   "metadata": {},
   "outputs": [
    {
     "name": "stdout",
     "output_type": "stream",
     "text": [
      "Before: None\n",
      "what 3 3\n",
      "what 5 3\n",
      "what 7 3\n",
      "what 9 3\n",
      "what 23 3\n",
      "what 45 3\n",
      "what 67 3\n",
      "smallest 3\n"
     ]
    }
   ],
   "source": [
    "# CH # 04;    'smallest'\n",
    "smallest = None\n",
    "print('Before:',smallest)\n",
    "for r in [3,5,7,9,23,45,67]:\n",
    "    if smallest is None or r < smallest:\n",
    "        smallest = r\n",
    "    print('what',r,smallest)\n",
    "print('smallest',smallest)"
   ]
  },
  {
   "cell_type": "code",
   "execution_count": 9,
   "id": "b674723b",
   "metadata": {},
   "outputs": [
    {
     "name": "stdout",
     "output_type": "stream",
     "text": [
      "Enter number:4\n",
      "Invalid Input\n"
     ]
    }
   ],
   "source": [
    "# CH # 04;   \n",
    "#Write a program which repeatedly reads numbers until the user enters “done”. Once “done” is entered, print out the total,count,\n",
    "#and average of the numbers. If the user enters anything other than a number,detect their mistake using try and except and print\n",
    "#an error message and skip to the next number.\n",
    "\n",
    "r = int(input('Enter number:'))\n",
    "try:\n",
    "    print(mean(r))\n",
    "except:\n",
    "    print('Invalid Input')"
   ]
  },
  {
   "cell_type": "code",
   "execution_count": 15,
   "id": "97a3da30",
   "metadata": {},
   "outputs": [
    {
     "name": "stdout",
     "output_type": "stream",
     "text": [
      "Enter score between 0.0 and 1.0: 0.9\n",
      "Grade A\n"
     ]
    }
   ],
   "source": [
    "# CH # 04;\n",
    "# Rewrite the grade program from the previous chapter using\n",
    "#a function called computegrade that takes a score as its parameter and\n",
    "#returns a grade as a string.\n",
    "\n",
    "def computegrade(score):\n",
    "    if score >= 0.9:\n",
    "        return 'A'\n",
    "    elif score >= 0.8:\n",
    "        return 'B'\n",
    "    elif score >= 0.7:\n",
    "        return 'C'\n",
    "    elif score >= 0.6:\n",
    "        return 'D'\n",
    "    else:\n",
    "        return 'F'\n",
    "\n",
    "try:\n",
    "    score = float(input('Enter score between 0.0 and 1.0: '))\n",
    "    if 0.0 <= score <= 1.0:\n",
    "        grade = computegrade(score)\n",
    "        print('Grade', grade)\n",
    "    else:\n",
    "        print('Score out of range')\n",
    "except ValueError:\n",
    "    print('Invalid input.')"
   ]
  },
  {
   "cell_type": "code",
   "execution_count": null,
   "id": "887e13f4",
   "metadata": {},
   "outputs": [],
   "source": []
  },
  {
   "cell_type": "code",
   "execution_count": null,
   "id": "f0ba7d8b",
   "metadata": {},
   "outputs": [],
   "source": []
  },
  {
   "cell_type": "code",
   "execution_count": null,
   "id": "c45a7fa5",
   "metadata": {},
   "outputs": [],
   "source": []
  },
  {
   "cell_type": "code",
   "execution_count": null,
   "id": "3a5197dd",
   "metadata": {},
   "outputs": [],
   "source": []
  }
 ],
 "metadata": {
  "kernelspec": {
   "display_name": "Python 3 (ipykernel)",
   "language": "python",
   "name": "python3"
  },
  "language_info": {
   "codemirror_mode": {
    "name": "ipython",
    "version": 3
   },
   "file_extension": ".py",
   "mimetype": "text/x-python",
   "name": "python",
   "nbconvert_exporter": "python",
   "pygments_lexer": "ipython3",
   "version": "3.11.5"
  }
 },
 "nbformat": 4,
 "nbformat_minor": 5
}
