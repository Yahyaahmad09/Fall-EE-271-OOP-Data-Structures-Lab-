{
 "cells": [
  {
   "cell_type": "markdown",
   "id": "499f73b0-3df6-4269-81ab-6b4726a5f856",
   "metadata": {},
   "source": [
    "# <center><span style=\"font-family: Arial, sans-serif; font-size: 24px; font-weight: bold;\">Fall EE-271 OOP and Data Structures Lab</span></Center>\n"
   ]
  },
  {
   "cell_type": "markdown",
   "id": "e4e5a156-ad2b-4de4-a81b-978228c15c3d",
   "metadata": {},
   "source": [
    "# Lab Practice Details\n",
    "\n",
    "| **Field**        | **Details**         |\n",
    "|-------------------|---------------------|\n",
    "| **Name**         | Yahya Ahmad         |\n",
    "| **Req No**       | 23jzele0528         |\n",
    "| **Lab Title**       |    PRIORITY QUEUE      |\n",
    "| **Lab Practice No**| 13                  |"
   ]
  },
  {
   "cell_type": "markdown",
   "id": "b28b1ae2-79f9-46cb-9d8f-e82fa04ae1ec",
   "metadata": {},
   "source": [
    "# PRIORITY QUEUE\n",
    "\n",
    "## Aim:\n",
    "The aim of this lab is to understand the concepts of a priority queue and how it works.\n",
    "\n",
    "## Introduction:\n",
    "A priority queue is a data structure that stores elements along with associated priorities.  \n",
    "The key feature of a priority queue is that the element with the highest (or lowest) priority  \n",
    "is always at the front and is the next to be removed.\n",
    "\n",
    "## 1. Lab Work Task:\n",
    "\n",
    "### Importing `heapq` for Priority Queue:\n",
    "We use the `heapq` module for its efficient implementation of a binary heap,  \n",
    "which is the underlying data structure for our priority queue.\n"
   ]
  },
  {
   "cell_type": "code",
   "execution_count": null,
   "id": "6be66b40-bb2a-40a2-9f9c-74b5afb2138d",
   "metadata": {},
   "outputs": [],
   "source": [
    "import heapq\n",
    "from collections import deque\n",
    "from itertools import count\n",
    "from dataclasses import dataclass"
   ]
  },
  {
   "cell_type": "markdown",
   "id": "08552421-198a-4760-842c-b7b39443cfc2",
   "metadata": {},
   "source": [
    "## 2. Enqueue (Insert):\n",
    "Adds an element to the priority queue with a specified priority.  \n",
    "When you push a new element onto a non-empty heap, it will end up in the right spot,  \n",
    "maintaining the heap invariant.\n",
    "\n",
    "### Note:\n",
    "Note that this doesn’t necessarily mean that the resulting elements will become sorted.\n",
    "\n",
    "### Implementing Push Operation:\n",
    "\n",
    "#### Code:"
   ]
  },
  {
   "cell_type": "code",
   "execution_count": null,
   "id": "8976c307-d774-4a85-a936-30b0c2269668",
   "metadata": {},
   "outputs": [],
   "source": [
    "# Queue Class\n",
    "class Queue:\n",
    "    def __init__(self, *elements):\n",
    "        self._elements = deque(elements)\n",
    "\n",
    "    def enqueue(self, element):\n",
    "        self._elements.append(element)\n",
    "\n",
    "    def dequeue(self):\n",
    "        return self._elements.popleft()"
   ]
  },
  {
   "cell_type": "markdown",
   "id": "4f92d96b-8f72-453d-b1b4-da910b7fa0a3",
   "metadata": {},
   "source": [
    "# Stack Class (now correctly referencing Queue)"
   ]
  },
  {
   "cell_type": "code",
   "execution_count": null,
   "id": "af89dae4-0481-449b-8ac3-fe29be538923",
   "metadata": {},
   "outputs": [],
   "source": [
    "class Stack(Queue):\n",
    "    def dequeue(self):\n",
    "        return self._elements.pop()"
   ]
  },
  {
   "cell_type": "markdown",
   "id": "f9558880-db33-42b1-9538-1ad92cd691cf",
   "metadata": {},
   "source": [
    "# IterableMixin Class"
   ]
  },
  {
   "cell_type": "code",
   "execution_count": null,
   "id": "04478168-24d0-4759-8c91-e0a02e314c64",
   "metadata": {},
   "outputs": [],
   "source": [
    "class IterableMixin:\n",
    "    def __len__(self):\n",
    "        return len(self._elements)\n",
    "\n",
    "    def __iter__(self):\n",
    "        while len(self) > 0:\n",
    "            yield self.dequeue()"
   ]
  },
  {
   "cell_type": "markdown",
   "id": "50460f3c-e49c-4dd4-b8eb-1504cb87c926",
   "metadata": {},
   "source": [
    "# PriorityQueue Class"
   ]
  },
  {
   "cell_type": "code",
   "execution_count": null,
   "id": "748d5a62-798e-46a9-b278-e76017271472",
   "metadata": {},
   "outputs": [],
   "source": [
    "class PriorityQueue(IterableMixin):\n",
    "    def __init__(self):\n",
    "        self._elements = []\n",
    "        self._counter = count()\n",
    "\n",
    "    def enqueue_with_priority(self, priority, value):\n",
    "        element = (-priority, next(self._counter), value)\n",
    "        heapq.heappush(self._elements, element)\n",
    "\n",
    "    def dequeue(self):\n",
    "        return heapq.heappop(self._elements)[-1]"
   ]
  },
  {
   "cell_type": "code",
   "execution_count": 4,
   "id": "1a81b822-f4a7-4a71-8145-410e2110d74f",
   "metadata": {},
   "outputs": [],
   "source": [
    "CRITICAL = 3\n",
    "IMPORTANT = 2\n",
    "NEUTRAL = 1"
   ]
  },
  {
   "cell_type": "code",
   "execution_count": null,
   "id": "49a849c3-c6dd-442e-ab17-51241a70c57c",
   "metadata": {},
   "outputs": [],
   "source": [
    "messages = PriorityQueue()\n",
    "messages.enqueue_with_priority(IMPORTANT, \"Windshield wipers turned on\")\n",
    "messages.enqueue_with_priority(NEUTRAL, \"Radio station tuned in\")\n",
    "messages.enqueue_with_priority(CRITICAL, \"Brake pedal depressed\")\n",
    "messages.enqueue_with_priority(IMPORTANT, \"Hazard lights turned on\")"
   ]
  },
  {
   "cell_type": "code",
   "execution_count": null,
   "id": "cdab94e3-f239-431f-bd4e-47d1dba43664",
   "metadata": {},
   "outputs": [
    {
     "name": "stdout",
     "output_type": "stream",
     "text": [
      "Brake pedal depressed\n",
      "Windshield wipers turned on\n",
      "Hazard lights turned on\n",
      "Radio station tuned in\n"
     ]
    }
   ],
   "source": [
    "while len(messages) > 0:\n",
    "    print(messages.dequeue())"
   ]
  },
  {
   "cell_type": "code",
   "execution_count": null,
   "id": "fa904017-229f-491c-895b-cab1d160de12",
   "metadata": {},
   "outputs": [],
   "source": []
  }
 ],
 "metadata": {
  "kernelspec": {
   "display_name": "Python 3 (ipykernel)",
   "language": "python",
   "name": "python3"
  },
  "language_info": {
   "codemirror_mode": {
    "name": "ipython",
    "version": 3
   },
   "file_extension": ".py",
   "mimetype": "text/x-python",
   "name": "python",
   "nbconvert_exporter": "python",
   "pygments_lexer": "ipython3",
   "version": "3.9.20"
  }
 },
 "nbformat": 4,
 "nbformat_minor": 5
}
