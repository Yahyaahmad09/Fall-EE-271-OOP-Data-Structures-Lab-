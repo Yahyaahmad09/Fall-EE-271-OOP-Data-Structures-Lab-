{
 "cells": [
  {
   "cell_type": "markdown",
   "id": "b6d0131a-0f69-443d-b640-8c16dab5708e",
   "metadata": {},
   "source": [
    "# <center><span style=\"font-family: Arial, sans-serif; font-size: 24px; font-weight: bold;\">Fall EE-271 OOP and Data Structures Lab</span></Center>\n"
   ]
  },
  {
   "cell_type": "markdown",
   "id": "d3c18e11-8802-4ab6-9d62-4c04fdaa6268",
   "metadata": {},
   "source": [
    "# Lab Report Details\n",
    "\n",
    "| **Field**        | **Details**         |\n",
    "|-------------------|---------------------|\n",
    "| **Name**         | Yahya Ahmad         |\n",
    "| **Req No**       | 23jzele0528         |\n",
    "| **Lab**          | Multi level Inheritance |\n",
    "| **Lab Report No**| 08                  |"
   ]
  },
  {
   "cell_type": "markdown",
   "id": "4223bee9-c0a9-4db0-94ca-9f5b5d280754",
   "metadata": {},
   "source": [
    "# Problem No 01: Rectangle -> Square -> Cube\n",
    "\n",
    "### Objective:\n",
    "Design a class hierarchy that models a Rectangle, a Square (inheriting from Rectangle), and a Cube (inheriting from Square). Each class should have appropriate methods for calculating area and volume where applicable.\n",
    "\n",
    "### Class Structure:\n",
    "1. **Rectangle Class**: This class will have `length` and `width` as attributes. It will also have a method to calculate the area.\n",
    "2. **Square Class**: This class will inherit from the `Rectangle` class. Since a square has equal length and width, the constructor will ensure that both dimensions are equal.\n",
    "3. **Cube Class**: This class will inherit from the `Square` class and extend functionality to calculate the surface area and volume of the cube. The `Cube` class will use the inherited `area()` method from the `Square` class to calculate its surface area.\n"
   ]
  },
  {
   "cell_type": "code",
   "execution_count": 1,
   "id": "e864a4f6-fc82-4e39-871e-4bff3fd4e490",
   "metadata": {},
   "outputs": [],
   "source": [
    "class Rectangle:\n",
    "    def __init__(self, width, height):\n",
    "        self.width = width\n",
    "        self.height = height\n",
    "\n",
    "    def area(self):\n",
    "        return self.width * self.height\n",
    "\n",
    "    def __str__(self):\n",
    "        return f\"Rectangle [Width: {self.width}, Height: {self.height}, Area: {self.area()}]\""
   ]
  },
  {
   "cell_type": "code",
   "execution_count": 2,
   "id": "e8b2d191-4f4c-4507-8ed0-b2e5ced24ecc",
   "metadata": {},
   "outputs": [],
   "source": [
    "class Square(Rectangle):\n",
    "    def __init__(self, side):\n",
    "        super().__init__(side, side)\n",
    "\n",
    "    def __str__(self):\n",
    "        return f\"Square [Side: {self.width}, Area: {self.area()}]\""
   ]
  },
  {
   "cell_type": "code",
   "execution_count": 3,
   "id": "1d5f4299-44e5-4140-9b08-42690c2e7d0a",
   "metadata": {},
   "outputs": [],
   "source": [
    "class Cube(Square):\n",
    "    def __init__(self, side):\n",
    "        super().__init__(side)\n",
    "\n",
    "    def surface_area(self):\n",
    "        return 6 * super().area()\n",
    "\n",
    "    def volume(self):\n",
    "        return self.width ** 3\n",
    "\n",
    "    def __str__(self):\n",
    "        return (f\"Cube [Side: {self.width}, Surface Area: {self.surface_area()}, \"\n",
    "                f\"Volume: {self.volume()}]\")"
   ]
  },
  {
   "cell_type": "code",
   "execution_count": 4,
   "id": "f5143be8-d38d-4d4f-91f1-40a8b3c8e5a1",
   "metadata": {},
   "outputs": [],
   "source": [
    "cube1 = Cube(3)\n",
    "cube2 = Cube(5)"
   ]
  },
  {
   "cell_type": "code",
   "execution_count": 5,
   "id": "63acf1cb-bc53-4082-8c52-3c8431124642",
   "metadata": {},
   "outputs": [
    {
     "name": "stdout",
     "output_type": "stream",
     "text": [
      "Cube 1 Details:\n",
      "Cube [Side: 3, Surface Area: 54, Volume: 27]\n",
      "\n",
      "Cube 2 Details:\n",
      "Cube [Side: 5, Surface Area: 150, Volume: 125]\n"
     ]
    }
   ],
   "source": [
    "print(\"Cube 1 Details:\")\n",
    "print(cube1)\n",
    "print(\"\\nCube 2 Details:\")\n",
    "print(cube2)"
   ]
  },
  {
   "cell_type": "code",
   "execution_count": null,
   "id": "39ac9744-6edd-453b-98f5-9beb093530fc",
   "metadata": {},
   "outputs": [],
   "source": []
  }
 ],
 "metadata": {
  "kernelspec": {
   "display_name": "Python 3 (ipykernel)",
   "language": "python",
   "name": "python3"
  },
  "language_info": {
   "codemirror_mode": {
    "name": "ipython",
    "version": 3
   },
   "file_extension": ".py",
   "mimetype": "text/x-python",
   "name": "python",
   "nbconvert_exporter": "python",
   "pygments_lexer": "ipython3",
   "version": "3.9.20"
  }
 },
 "nbformat": 4,
 "nbformat_minor": 5
}
