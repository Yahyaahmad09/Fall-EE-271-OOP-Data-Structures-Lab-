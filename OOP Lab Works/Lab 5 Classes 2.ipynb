{
 "cells": [
  {
   "cell_type": "markdown",
   "id": "8f9e85e4-8d42-4507-98a9-d9d3d254a39d",
   "metadata": {},
   "source": [
    "# <center><span style=\"font-family: Arial, sans-serif; font-size: 24px; font-weight: bold;\">Fall EE-271 OOP and Data Structures Lab</span></Center>\n"
   ]
  },
  {
   "cell_type": "markdown",
   "id": "096dac9c",
   "metadata": {},
   "source": [
    "# Lab Practice Details\n",
    "\n",
    "| **Field**        | **Details**         |\n",
    "|-------------------|---------------------|\n",
    "| **Name**         | Yahya Ahmad         |\n",
    "| **Req No**       | 23jzele0528         |\n",
    "| **Lab**       | Classes 02         |\n",
    "| **Lab Practice No**| 05                  |"
   ]
  },
  {
   "cell_type": "markdown",
   "id": "a3201b70",
   "metadata": {},
   "source": [
    "# Lab Practice\n"
   ]
  },
  {
   "cell_type": "markdown",
   "id": "814eb287",
   "metadata": {},
   "source": [
    "# Lab Task: Circle Class with Cylinder Volume and Properties\n",
    "\n",
    "## Problem Requirements\n",
    "1. **Class Definition**:\n",
    "   - Define a `Circle` class with an appropriate `__init__` method to initialize the radius.\n",
    "2. **Volume of a Cylinder**:\n",
    "   - Add an instance method to calculate the volume of a cylinder given its height.\n",
    "3. **Property Methods**:\n",
    "   - Add properties for the **area**, **circumference**, and **diameter** of the circle.\n",
    "4. **String Representation**:\n",
    "   - Implement `__repr__` and `__str__` methods for the class.\n",
    "5. **Annotations and Documentation**:\n",
    "   - Use type annotations and provide docstrings for the class and its methods.\n"
   ]
  },
  {
   "cell_type": "code",
   "execution_count": 2,
   "id": "280fb929",
   "metadata": {},
   "outputs": [],
   "source": [
    "import math"
   ]
  },
  {
   "cell_type": "code",
   "execution_count": 3,
   "id": "48c28ceb",
   "metadata": {},
   "outputs": [],
   "source": [
    "class Circle:\n",
    "    pass"
   ]
  },
  {
   "cell_type": "code",
   "execution_count": 4,
   "id": "eb0e073f",
   "metadata": {},
   "outputs": [],
   "source": [
    "class Circle:\n",
    "    \"\"\"A class to represent a circle and perform related calculations.\n",
    "    \n",
    "    Attributes:\n",
    "    radius : float\n",
    "        The radius of the circle with a default value 1.0.\n",
    "    \n",
    "    Methods:\n",
    "    area():\n",
    "        Returns the area of the circle.\n",
    "    circumference():\n",
    "        Returns the circumference of the circle.\n",
    "    diameter():\n",
    "        Returns the diameter of the circle.\n",
    "    cylinder_volume(height: float):\n",
    "        Returns the volume of a cylinder with the circle as its area and a given height.\n",
    "    \"\"\"\n",
    "    def __init__(self,radius: float = 1.0):\n",
    "        \"\"\"Initializes the Circle with a radius.\n",
    "\n",
    "        Parameters:\n",
    "        radius:\n",
    "            The radius of the circle with a default value of 1.0.\n",
    "        \"\"\"\n",
    "        self.radius = radius\n",
    "    def area(self)-> float :\n",
    "        \"\"\"Calculates the area of the circle.\n",
    "    Return:\n",
    "        Return area in float\n",
    "    \"\"\"\n",
    "        return math.pi * self.radius**2\n",
    "    def circumference(self) -> float:\n",
    "        \"\"\"Calculates the circumference of the circle.\n",
    "    Return:\n",
    "        Return circumference in float\n",
    "    \"\"\"\n",
    "        return math.pi * 2 * self.radius\n",
    "    def diameter(self) -> float:\n",
    "        \"\"\"Calculates the diameter of the circle.\n",
    "    Return:\n",
    "        Return diameter in float\n",
    "    \"\"\"\n",
    "        return  2 * self.radius\n",
    "    def Volume_of_cylinder(self, height: float) -> float:\n",
    "        \"\"\"Calculates the volume of cylinder with the area of the circle.\n",
    "    Parameters:\n",
    "        height : float\n",
    "            The height of the cylinder.\n",
    "        Return:\n",
    "        float\n",
    "            The volume of the cylinder.\n",
    "        \"\"\"\n",
    "        return self.area * height\n",
    "    def __repr__(self) -> str:\n",
    "        \"\"\"This representation is intended for developers,\n",
    "        showing the class name and radius attribute in a format suitable for\n",
    "        recreating the object.\"\"\"\n",
    "        return f\"{type(self).__name__} ({self.radius})\"\n",
    "    def __str__(self) -> str:\n",
    "        \"\"\" This representation provides a simple description of the circle's\n",
    "        radius and is intended for end-users or general display purposes.\"\"\"\n",
    "        return f\"Circle with Radius: {self.radius}\""
   ]
  },
  {
   "cell_type": "markdown",
   "id": "04dbc911",
   "metadata": {},
   "source": [
    "## a. Define inst_1 and pass two numbers. \n"
   ]
  },
  {
   "cell_type": "code",
   "execution_count": 5,
   "id": "69983041",
   "metadata": {},
   "outputs": [],
   "source": [
    "inst_1 = Circle(4)"
   ]
  },
  {
   "cell_type": "markdown",
   "id": "b986c444",
   "metadata": {},
   "source": [
    "## b. Make another instance inst2"
   ]
  },
  {
   "cell_type": "code",
   "execution_count": 6,
   "id": "8ec06fe1",
   "metadata": {},
   "outputs": [],
   "source": [
    "inst_2 = Circle(8)"
   ]
  },
  {
   "cell_type": "markdown",
   "id": "2d1bc1f2",
   "metadata": {},
   "source": [
    "## c. Print inst_1 and inst_2, for this use the print command and pass the inst_1 and inst_2."
   ]
  },
  {
   "cell_type": "code",
   "execution_count": 7,
   "id": "5539721d",
   "metadata": {},
   "outputs": [
    {
     "name": "stdout",
     "output_type": "stream",
     "text": [
      "Circle with Radius: 4\n",
      "Circle with Radius: 8\n"
     ]
    }
   ],
   "source": [
    "print(inst_1)\n",
    "print(inst_2)"
   ]
  },
  {
   "cell_type": "markdown",
   "id": "b623bbf6",
   "metadata": {},
   "source": [
    "## d. Call the __dict__ by the class name. "
   ]
  },
  {
   "cell_type": "code",
   "execution_count": 8,
   "id": "a6f0b0e2",
   "metadata": {},
   "outputs": [
    {
     "name": "stdout",
     "output_type": "stream",
     "text": [
      "mappingproxy({'Volume_of_cylinder': <function Circle.Volume_of_cylinder at 0x0000021A9F37A020>,\n",
      "              '__dict__': <attribute '__dict__' of 'Circle' objects>,\n",
      "              '__doc__': 'A class to represent a circle and perform related '\n",
      "                         'calculations.\\n'\n",
      "                         '    \\n'\n",
      "                         '    Attributes:\\n'\n",
      "                         '    radius : float\\n'\n",
      "                         '        The radius of the circle with a default '\n",
      "                         'value 1.0.\\n'\n",
      "                         '    \\n'\n",
      "                         '    Methods:\\n'\n",
      "                         '    area():\\n'\n",
      "                         '        Returns the area of the circle.\\n'\n",
      "                         '    circumference():\\n'\n",
      "                         '        Returns the circumference of the circle.\\n'\n",
      "                         '    diameter():\\n'\n",
      "                         '        Returns the diameter of the circle.\\n'\n",
      "                         '    cylinder_volume(height: float):\\n'\n",
      "                         '        Returns the volume of a cylinder with the '\n",
      "                         'circle as its area and a given height.\\n'\n",
      "                         '    ',\n",
      "              '__init__': <function Circle.__init__ at 0x0000021A9F37A3E0>,\n",
      "              '__module__': '__main__',\n",
      "              '__repr__': <function Circle.__repr__ at 0x0000021A9F37A480>,\n",
      "              '__str__': <function Circle.__str__ at 0x0000021A9F37A520>,\n",
      "              '__weakref__': <attribute '__weakref__' of 'Circle' objects>,\n",
      "              'area': <function Circle.area at 0x0000021A9F379EE0>,\n",
      "              'circumference': <function Circle.circumference at 0x0000021A9F37A200>,\n",
      "              'diameter': <function Circle.diameter at 0x0000021A9F3798A0>})\n"
     ]
    }
   ],
   "source": [
    "from pprint import pprint\n",
    "pprint(Circle.__dict__)"
   ]
  },
  {
   "cell_type": "code",
   "execution_count": 9,
   "id": "19fb8101",
   "metadata": {},
   "outputs": [
    {
     "name": "stdout",
     "output_type": "stream",
     "text": [
      "mappingproxy({'Volume_of_cylinder': <function Circle.Volume_of_cylinder at 0x0000021A9F37A020>,\n",
      "              '__dict__': <attribute '__dict__' of 'Circle' objects>,\n",
      "              '__doc__': 'A class to represent a circle and perform related '\n",
      "                         'calculations.\\n'\n",
      "                         '    \\n'\n",
      "                         '    Attributes:\\n'\n",
      "                         '    radius : float\\n'\n",
      "                         '        The radius of the circle with a default '\n",
      "                         'value 1.0.\\n'\n",
      "                         '    \\n'\n",
      "                         '    Methods:\\n'\n",
      "                         '    area():\\n'\n",
      "                         '        Returns the area of the circle.\\n'\n",
      "                         '    circumference():\\n'\n",
      "                         '        Returns the circumference of the circle.\\n'\n",
      "                         '    diameter():\\n'\n",
      "                         '        Returns the diameter of the circle.\\n'\n",
      "                         '    cylinder_volume(height: float):\\n'\n",
      "                         '        Returns the volume of a cylinder with the '\n",
      "                         'circle as its area and a given height.\\n'\n",
      "                         '    ',\n",
      "              '__init__': <function Circle.__init__ at 0x0000021A9F37A3E0>,\n",
      "              '__module__': '__main__',\n",
      "              '__repr__': <function Circle.__repr__ at 0x0000021A9F37A480>,\n",
      "              '__str__': <function Circle.__str__ at 0x0000021A9F37A520>,\n",
      "              '__weakref__': <attribute '__weakref__' of 'Circle' objects>,\n",
      "              'area': <function Circle.area at 0x0000021A9F379EE0>,\n",
      "              'circumference': <function Circle.circumference at 0x0000021A9F37A200>,\n",
      "              'diameter': <function Circle.diameter at 0x0000021A9F3798A0>})\n"
     ]
    }
   ],
   "source": [
    "pprint(vars(Circle))"
   ]
  },
  {
   "cell_type": "code",
   "execution_count": 10,
   "id": "55a9b7ed",
   "metadata": {},
   "outputs": [
    {
     "name": "stdout",
     "output_type": "stream",
     "text": [
      "{'radius': 4}\n"
     ]
    }
   ],
   "source": [
    "print(inst_1.__dict__)"
   ]
  },
  {
   "cell_type": "code",
   "execution_count": 11,
   "id": "ae5dc6d2",
   "metadata": {},
   "outputs": [
    {
     "name": "stdout",
     "output_type": "stream",
     "text": [
      "{'radius': 8}\n"
     ]
    }
   ],
   "source": [
    "print(inst_2.__dict__)"
   ]
  },
  {
   "cell_type": "markdown",
   "id": "4d728fb1",
   "metadata": {},
   "source": [
    "### g. Pass the class name to help. "
   ]
  },
  {
   "cell_type": "code",
   "execution_count": 12,
   "id": "0db10c7a",
   "metadata": {},
   "outputs": [
    {
     "name": "stdout",
     "output_type": "stream",
     "text": [
      "Help on class Circle in module __main__:\n",
      "\n",
      "class Circle(builtins.object)\n",
      " |  Circle(radius: float = 1.0)\n",
      " |  \n",
      " |  A class to represent a circle and perform related calculations.\n",
      " |  \n",
      " |  Attributes:\n",
      " |  radius : float\n",
      " |      The radius of the circle with a default value 1.0.\n",
      " |  \n",
      " |  Methods:\n",
      " |  area():\n",
      " |      Returns the area of the circle.\n",
      " |  circumference():\n",
      " |      Returns the circumference of the circle.\n",
      " |  diameter():\n",
      " |      Returns the diameter of the circle.\n",
      " |  cylinder_volume(height: float):\n",
      " |      Returns the volume of a cylinder with the circle as its area and a given height.\n",
      " |  \n",
      " |  Methods defined here:\n",
      " |  \n",
      " |  Volume_of_cylinder(self, height: float) -> float\n",
      " |      Calculates the volume of cylinder with the area of the circle.\n",
      " |      Parameters:\n",
      " |          height : float\n",
      " |              The height of the cylinder.\n",
      " |          Return:\n",
      " |          float\n",
      " |              The volume of the cylinder.\n",
      " |  \n",
      " |  __init__(self, radius: float = 1.0)\n",
      " |      Initializes the Circle with a radius.\n",
      " |      \n",
      " |      Parameters:\n",
      " |      radius:\n",
      " |          The radius of the circle with a default value of 1.0.\n",
      " |  \n",
      " |  __repr__(self) -> str\n",
      " |      This representation is intended for developers,\n",
      " |      showing the class name and radius attribute in a format suitable for\n",
      " |      recreating the object.\n",
      " |  \n",
      " |  __str__(self) -> str\n",
      " |      This representation provides a simple description of the circle's\n",
      " |      radius and is intended for end-users or general display purposes.\n",
      " |  \n",
      " |  area(self) -> float\n",
      " |      Calculates the area of the circle.\n",
      " |      Return:\n",
      " |          Return area in float\n",
      " |  \n",
      " |  circumference(self) -> float\n",
      " |      Calculates the circumference of the circle.\n",
      " |      Return:\n",
      " |          Return circumference in float\n",
      " |  \n",
      " |  diameter(self) -> float\n",
      " |      Calculates the diameter of the circle.\n",
      " |      Return:\n",
      " |          Return diameter in float\n",
      " |  \n",
      " |  ----------------------------------------------------------------------\n",
      " |  Data descriptors defined here:\n",
      " |  \n",
      " |  __dict__\n",
      " |      dictionary for instance variables (if defined)\n",
      " |  \n",
      " |  __weakref__\n",
      " |      list of weak references to the object (if defined)\n",
      "\n"
     ]
    }
   ],
   "source": [
    "help(Circle)"
   ]
  },
  {
   "cell_type": "code",
   "execution_count": 13,
   "id": "385a35f8",
   "metadata": {},
   "outputs": [
    {
     "name": "stdout",
     "output_type": "stream",
     "text": [
      "A class to represent a circle and perform related calculations.\n",
      "    \n",
      "    Attributes:\n",
      "    radius : float\n",
      "        The radius of the circle with a default value 1.0.\n",
      "    \n",
      "    Methods:\n",
      "    area():\n",
      "        Returns the area of the circle.\n",
      "    circumference():\n",
      "        Returns the circumference of the circle.\n",
      "    diameter():\n",
      "        Returns the diameter of the circle.\n",
      "    cylinder_volume(height: float):\n",
      "        Returns the volume of a cylinder with the circle as its area and a given height.\n",
      "    \n",
      "\n",
      "{'radius': <class 'float'>}\n",
      "Initializes the Circle with a radius.\n",
      "\n",
      "        Parameters:\n",
      "        radius:\n",
      "            The radius of the circle with a default value of 1.0.\n",
      "        \n",
      "\n",
      "Calculates the area of the circle.\n",
      "    Return:\n",
      "        Return area in float\n",
      "    \n",
      "Calculates the circumference of the circle.\n",
      "    Return:\n",
      "        Return circumference in float\n",
      "    \n",
      "\n",
      "Calculates the diameter of the circle.\n",
      "    Return:\n",
      "        Return diameter in float\n",
      "    \n",
      "\n",
      "This representation is intended for developers,\n",
      "        showing the class name and radius attribute in a format suitable for\n",
      "        recreating the object.\n",
      " This representation provides a simple description of the circle's\n",
      "        radius and is intended for end-users or general display purposes.\n"
     ]
    }
   ],
   "source": [
    "print(Circle.__doc__)\n",
    "print()\n",
    "print(Circle.__init__.__annotations__)\n",
    "print(Circle.__init__.__doc__)\n",
    "print()\n",
    "print(Circle.area.__doc__)\n",
    "print(Circle.circumference.__doc__)\n",
    "print()\n",
    "print(Circle.diameter.__doc__)\n",
    "\n",
    "print()\n",
    "print(Circle.__repr__.__doc__)\n",
    "print(Circle.__str__.__doc__)"
   ]
  },
  {
   "cell_type": "markdown",
   "id": "3e08b766",
   "metadata": {},
   "source": [
    "i. Modify the __init__ by making its parameters default and verify by instances"
   ]
  },
  {
   "cell_type": "code",
   "execution_count": 14,
   "id": "38dd51d4",
   "metadata": {},
   "outputs": [],
   "source": [
    "inst_3 = Circle()"
   ]
  },
  {
   "cell_type": "code",
   "execution_count": 15,
   "id": "df68aabe",
   "metadata": {},
   "outputs": [
    {
     "name": "stdout",
     "output_type": "stream",
     "text": [
      "Circle with Radius: 1.0\n"
     ]
    }
   ],
   "source": [
    "print(inst_3)"
   ]
  },
  {
   "cell_type": "markdown",
   "id": "228b09f0",
   "metadata": {},
   "source": [
    "# Class Definition: Point in a 2D Coordinate System\n",
    "\n",
    "## Problem Requirements\n",
    "1. **Class Definition**:\n",
    "   - Define a `Point` class with an appropriate `__init__` method to initialize the coordinates.\n",
    "2. **Distance Between Points**:\n",
    "   - Add an instance method to calculate the distance between two points.\n",
    "3. **Distance from Origin**:\n",
    "   - Add an instance method to calculate the distance of the point from the origin.\n",
    "4. **Locate Method**:\n",
    "   - Add a method to display the quadrant or axis in which the point is located.\n",
    "5. **String Representation**:\n",
    "   - Implement `__repr__` and `__str__` methods for the class.\n",
    "6. **Annotations and Documentation**:\n",
    "   - Use type annotations and provide docstrings for the class and its methods.\n"
   ]
  },
  {
   "cell_type": "code",
   "execution_count": 16,
   "id": "cca7c2ac",
   "metadata": {},
   "outputs": [],
   "source": [
    "class Point:\n",
    "    pass"
   ]
  },
  {
   "cell_type": "code",
   "execution_count": 17,
   "id": "6e9be20f",
   "metadata": {},
   "outputs": [],
   "source": [
    "import math\n",
    "class Point:\n",
    "    \"\"\"A 2D coordinates system which has following parameters\n",
    "            x and y\n",
    "    \"\"\"\n",
    "    def __init__(self, x = 1, y = 1):\n",
    "        \"\"\"Initiate the class with attributes of x and y\n",
    "        \"\"\"\n",
    "        self.x = x\n",
    "        self.y = y\n",
    "    def distance(self,point)  -> float:\n",
    "        \"\"\"To calculate the distance between two points\n",
    "        \"\"\"\n",
    "        return math.sqrt((self.x - point.x)**2 + (self.y - point.y)**2 )\n",
    "    def distanceFromOrigin(self) -> float:\n",
    "        \"\"\"To calculate the distance from origin\n",
    "        \"\"\"\n",
    "        return math.sqrt(self.x**2 + self.y**2)\n",
    "    def display(self) -> str:\n",
    "        \"\"\"To display where is the points are locate or in which quadrant is that points\n",
    "        \"\"\"\n",
    "        if self.x > 0 and self.y > 0:\n",
    "            return \"Point is in the first quadrant.\"\n",
    "        elif self.x < 0 and self.y > 0:\n",
    "            return \"Point is in the second quadrant.\"\n",
    "        elif self.x < 0 and self.y < 0:\n",
    "            return \"Point is in the third quadrant.\"\n",
    "        elif self.x > 0 and self.y < 0:\n",
    "            return \"Point is in the fourth quadrant.\"\n",
    "        elif self.x == 0 and self.y == 0:\n",
    "            return \"Point is at the origin.\"\n",
    "        elif self.x == 0:\n",
    "            return \"Point is on the y-axis.\"\n",
    "        else:\n",
    "            return \"Point is on the x-axis.\"\n",
    "    def __repr__(self):\n",
    "        \"\"\"Use to display the class name and the parameters in the class and we can reuse it  as object\n",
    "        \"\"\"\n",
    "        return f\"{type(self).__name__} ({self.x},{self.y})\"\n",
    "    def __str__(self):\n",
    "        \"\"\"Use to display the class attributes only\n",
    "        \"\"\"\n",
    "        return f\"Points are ({self.x},{self.y})\""
   ]
  },
  {
   "cell_type": "markdown",
   "id": "08d8aa8f",
   "metadata": {},
   "source": [
    "## **a**. Define inst_1 and pass two numbers. \n",
    "- #### **b**. Make another instance inst2"
   ]
  },
  {
   "cell_type": "code",
   "execution_count": 18,
   "id": "93e84e12",
   "metadata": {},
   "outputs": [],
   "source": [
    "inst_1 = Point(3,5)\n",
    "inst_2 = Point(7,-2)"
   ]
  },
  {
   "cell_type": "markdown",
   "id": "f81ce177",
   "metadata": {},
   "source": [
    "### **c.** Print inst_1 and inst_2, for this use the print command and pass theinst_1 and inst_2. "
   ]
  },
  {
   "cell_type": "code",
   "execution_count": 19,
   "id": "45842644",
   "metadata": {},
   "outputs": [
    {
     "name": "stdout",
     "output_type": "stream",
     "text": [
      "Points are (3,5)\n",
      "Points are (7,-2)\n"
     ]
    }
   ],
   "source": [
    "print(inst_1)\n",
    "print(inst_2)"
   ]
  },
  {
   "cell_type": "code",
   "execution_count": 20,
   "id": "8e230ef1",
   "metadata": {},
   "outputs": [
    {
     "data": {
      "text/plain": [
       "Point (3,5)"
      ]
     },
     "execution_count": 20,
     "metadata": {},
     "output_type": "execute_result"
    }
   ],
   "source": [
    "inst_1"
   ]
  },
  {
   "cell_type": "code",
   "execution_count": 21,
   "id": "7d1c2a82",
   "metadata": {},
   "outputs": [
    {
     "data": {
      "text/plain": [
       "Point (7,-2)"
      ]
     },
     "execution_count": 21,
     "metadata": {},
     "output_type": "execute_result"
    }
   ],
   "source": [
    "inst_2"
   ]
  },
  {
   "cell_type": "markdown",
   "id": "aff35de2",
   "metadata": {},
   "source": [
    "### **d.** Also print the location of both points. (Add a display method)."
   ]
  },
  {
   "cell_type": "code",
   "execution_count": 22,
   "id": "844da4f6",
   "metadata": {},
   "outputs": [
    {
     "name": "stdout",
     "output_type": "stream",
     "text": [
      "Point is in the first quadrant.\n",
      "Point is in the fourth quadrant.\n"
     ]
    }
   ],
   "source": [
    "print(inst_1.display())\n",
    "print(inst_2.display())"
   ]
  },
  {
   "cell_type": "markdown",
   "id": "d84f69df",
   "metadata": {},
   "source": [
    "### **e.** Calculate the distance between these two pints. "
   ]
  },
  {
   "cell_type": "code",
   "execution_count": 23,
   "id": "f2de03e2",
   "metadata": {},
   "outputs": [
    {
     "data": {
      "text/plain": [
       "8.06225774829855"
      ]
     },
     "execution_count": 23,
     "metadata": {},
     "output_type": "execute_result"
    }
   ],
   "source": [
    "inst_1.distance(inst_2)"
   ]
  },
  {
   "cell_type": "markdown",
   "id": "2db0735a",
   "metadata": {},
   "source": [
    "### f. Call the __dict__ by the class name. "
   ]
  },
  {
   "cell_type": "code",
   "execution_count": 24,
   "id": "43b5e4dd",
   "metadata": {},
   "outputs": [
    {
     "name": "stdout",
     "output_type": "stream",
     "text": [
      "mappingproxy({'__dict__': <attribute '__dict__' of 'Point' objects>,\n",
      "              '__doc__': 'A 2D coordinates system which has following '\n",
      "                         'parameters\\n'\n",
      "                         '            x and y\\n'\n",
      "                         '    ',\n",
      "              '__init__': <function Point.__init__ at 0x0000021A9F379D00>,\n",
      "              '__module__': '__main__',\n",
      "              '__repr__': <function Point.__repr__ at 0x0000021A9F379BC0>,\n",
      "              '__str__': <function Point.__str__ at 0x0000021A9F37ACA0>,\n",
      "              '__weakref__': <attribute '__weakref__' of 'Point' objects>,\n",
      "              'display': <function Point.display at 0x0000021A9F379F80>,\n",
      "              'distance': <function Point.distance at 0x0000021A9F37A7A0>,\n",
      "              'distanceFromOrigin': <function Point.distanceFromOrigin at 0x0000021A9F37AA20>})\n"
     ]
    }
   ],
   "source": [
    "from pprint import pprint\n",
    "pprint(Point.__dict__)"
   ]
  },
  {
   "cell_type": "markdown",
   "id": "6542711a",
   "metadata": {},
   "source": [
    "g. Also pass the class name to the vars built-in function"
   ]
  },
  {
   "cell_type": "code",
   "execution_count": 25,
   "id": "c2194e9c",
   "metadata": {},
   "outputs": [
    {
     "name": "stdout",
     "output_type": "stream",
     "text": [
      "mappingproxy({'__dict__': <attribute '__dict__' of 'Point' objects>,\n",
      "              '__doc__': 'A 2D coordinates system which has following '\n",
      "                         'parameters\\n'\n",
      "                         '            x and y\\n'\n",
      "                         '    ',\n",
      "              '__init__': <function Point.__init__ at 0x0000021A9F379D00>,\n",
      "              '__module__': '__main__',\n",
      "              '__repr__': <function Point.__repr__ at 0x0000021A9F379BC0>,\n",
      "              '__str__': <function Point.__str__ at 0x0000021A9F37ACA0>,\n",
      "              '__weakref__': <attribute '__weakref__' of 'Point' objects>,\n",
      "              'display': <function Point.display at 0x0000021A9F379F80>,\n",
      "              'distance': <function Point.distance at 0x0000021A9F37A7A0>,\n",
      "              'distanceFromOrigin': <function Point.distanceFromOrigin at 0x0000021A9F37AA20>})\n"
     ]
    }
   ],
   "source": [
    "pprint(vars(Point))"
   ]
  },
  {
   "cell_type": "markdown",
   "id": "5028cbae",
   "metadata": {},
   "source": [
    "### h. Call the __dict__ on the object of the class. "
   ]
  },
  {
   "cell_type": "code",
   "execution_count": 26,
   "id": "7039e3c5",
   "metadata": {},
   "outputs": [
    {
     "name": "stdout",
     "output_type": "stream",
     "text": [
      "{'x': 3, 'y': 5}\n"
     ]
    }
   ],
   "source": [
    "print(inst_1.__dict__)"
   ]
  },
  {
   "cell_type": "code",
   "execution_count": 27,
   "id": "d010f5bb",
   "metadata": {},
   "outputs": [
    {
     "name": "stdout",
     "output_type": "stream",
     "text": [
      "{'x': 7, 'y': -2}\n"
     ]
    }
   ],
   "source": [
    "print(inst_2.__dict__)"
   ]
  },
  {
   "cell_type": "markdown",
   "id": "a9db7b60",
   "metadata": {},
   "source": [
    "### i. Pass the class name to help. "
   ]
  },
  {
   "cell_type": "code",
   "execution_count": 28,
   "id": "b6103b2f",
   "metadata": {},
   "outputs": [
    {
     "name": "stdout",
     "output_type": "stream",
     "text": [
      "Help on class Point in module __main__:\n",
      "\n",
      "class Point(builtins.object)\n",
      " |  Point(x=1, y=1)\n",
      " |  \n",
      " |  A 2D coordinates system which has following parameters\n",
      " |  x and y\n",
      " |  \n",
      " |  Methods defined here:\n",
      " |  \n",
      " |  __init__(self, x=1, y=1)\n",
      " |      Initiate the class with attributes of x and y\n",
      " |  \n",
      " |  __repr__(self)\n",
      " |      Use to display the class name and the parameters in the class and we can reuse it  as object\n",
      " |  \n",
      " |  __str__(self)\n",
      " |      Use to display the class attributes only\n",
      " |  \n",
      " |  display(self) -> str\n",
      " |      To display where is the points are locate or in which quadrant is that points\n",
      " |  \n",
      " |  distance(self, point) -> float\n",
      " |      To calculate the distance between two points\n",
      " |  \n",
      " |  distanceFromOrigin(self) -> float\n",
      " |      To calculate the distance from origin\n",
      " |  \n",
      " |  ----------------------------------------------------------------------\n",
      " |  Data descriptors defined here:\n",
      " |  \n",
      " |  __dict__\n",
      " |      dictionary for instance variables (if defined)\n",
      " |  \n",
      " |  __weakref__\n",
      " |      list of weak references to the object (if defined)\n",
      "\n"
     ]
    }
   ],
   "source": [
    "help(Point)"
   ]
  },
  {
   "cell_type": "markdown",
   "id": "d5c253c5",
   "metadata": {},
   "source": [
    "### j. Print the doc-string and annotations of both the class and each instance method. "
   ]
  },
  {
   "cell_type": "code",
   "execution_count": 29,
   "id": "2e98561b",
   "metadata": {},
   "outputs": [
    {
     "name": "stdout",
     "output_type": "stream",
     "text": [
      "A 2D coordinates system which has following parameters\n",
      "            x and y\n",
      "    \n",
      "Initiate the class with attributes of x and y\n",
      "        \n",
      "{'return': <class 'float'>}\n",
      "To calculate the distance between two points\n",
      "        \n",
      "{'return': <class 'float'>}\n",
      "To calculate the distance from origin\n",
      "        \n",
      "To display where is the points are locate or in which quadrant is that points\n",
      "        \n",
      "{'return': <class 'str'>}\n"
     ]
    }
   ],
   "source": [
    "print(Point.__doc__)\n",
    "print(Point.__init__.__doc__)\n",
    "print(Point.distance.__annotations__)\n",
    "print(Point.distance.__doc__)\n",
    "print(Point.distanceFromOrigin.__annotations__)\n",
    "print(Point.distanceFromOrigin.__doc__)\n",
    "print(Point.display.__doc__)\n",
    "print(Point.display.__annotations__)"
   ]
  },
  {
   "cell_type": "markdown",
   "id": "55fda66c",
   "metadata": {},
   "source": [
    "### k. Modify the __init__ by by making its parameters default and verify by instances."
   ]
  },
  {
   "cell_type": "code",
   "execution_count": 30,
   "id": "7ee4f142",
   "metadata": {},
   "outputs": [
    {
     "name": "stdout",
     "output_type": "stream",
     "text": [
      "Points are (1,1)\n"
     ]
    },
    {
     "data": {
      "text/plain": [
       "Point (1,1)"
      ]
     },
     "execution_count": 30,
     "metadata": {},
     "output_type": "execute_result"
    }
   ],
   "source": [
    "p3 = Point()\n",
    "print(p3)\n",
    "p3"
   ]
  },
  {
   "cell_type": "markdown",
   "id": "04365ece",
   "metadata": {},
   "source": [
    "# Class Definition: Circle with Cylinder Volume and Properties\n",
    "\n",
    "## Problem Requirements\n",
    "1. **Class Definition**:\n",
    "   - Define a `Circle` class with an appropriate `__init__` method to initialize the radius.\n",
    "2. **Volume of a Cylinder**:\n",
    "   - Add an instance method to calculate the volume of a cylinder given its height.\n",
    "3. **Property Methods**:\n",
    "   - Add properties for the **area**, **circumference**, and **diameter** of the circle.\n",
    "4. **String Representation**:\n",
    "   - Implement `__repr__` and `__str__` methods for the class.\n",
    "5. **Annotations and Documentation**:\n",
    "   - Use type annotations and provide docstrings for the class and its methods."
   ]
  },
  {
   "cell_type": "code",
   "execution_count": 31,
   "id": "3641732d",
   "metadata": {},
   "outputs": [],
   "source": [
    "import math\n",
    "class Circle:\n",
    "    \"\"\"A class representing a circle in a 2D space.\n",
    "    \"\"\"\n",
    "    def __init__(self, radius: float):\n",
    "        \"\"\"\n",
    "        Initializes a Circle instance.\n",
    "        \n",
    "        Parameters:\n",
    "        - radius: The radius of the circle in float.\n",
    "        \"\"\"\n",
    "        self.radius = radius\n",
    "    def area(self) -> float:\n",
    "        \"\"\"\n",
    "        Calculates the area of the circle.\n",
    "        Returns: The area of the circle in float.\n",
    "        \"\"\"\n",
    "        return pi * self.radius ** 2\n",
    "    def circumference(self) -> float:\n",
    "        \"\"\"\n",
    "        Calculates the circumference of the circle.  \n",
    "        Returns: The circumference of the circle in float.\n",
    "        \"\"\"\n",
    "        return 2 * pi * self.radius\n",
    "    \n",
    "    def diameter(self) -> float:\n",
    "        \"\"\"\n",
    "        Calculates the diameter of the circle.\n",
    "        Returns: The diameter of the circle in  float.\n",
    "        \"\"\"\n",
    "        return 2 * self.radius\n",
    "    \n",
    "    def cylinder_volume(self, height: float) -> float:\n",
    "        \"\"\"\n",
    "        Calculates the volume of a cylinder with the circle as the base.\n",
    "        \n",
    "        Parameters:\n",
    "                    Height\n",
    "        \"\"\"\n",
    "    def __repr__(self):\n",
    "        return f\"{type(self).__name__}({self.radius})\"\n",
    "    def __str__(self):\n",
    "        return f\"Circle of Radius ({self.radius})\""
   ]
  },
  {
   "cell_type": "markdown",
   "id": "dd1d1b73",
   "metadata": {},
   "source": [
    "## a. Define inst_1 \n",
    "#### -  Make another instance inst2. "
   ]
  },
  {
   "cell_type": "code",
   "execution_count": 32,
   "id": "1d2d1165",
   "metadata": {},
   "outputs": [],
   "source": [
    "inst_1 = Circle(8)\n",
    "inst_2 = Circle(4)"
   ]
  },
  {
   "cell_type": "markdown",
   "id": "713e2ba5",
   "metadata": {},
   "source": [
    "### l. Print inst_1 and inst_2, for this use the print command and pass the inst_1 and inst_2. "
   ]
  },
  {
   "cell_type": "code",
   "execution_count": 33,
   "id": "b61c0821",
   "metadata": {},
   "outputs": [
    {
     "name": "stdout",
     "output_type": "stream",
     "text": [
      "Circle of Radius (8)\n",
      "Circle of Radius (4)\n"
     ]
    }
   ],
   "source": [
    "print(inst_1)\n",
    "print(inst_2)"
   ]
  },
  {
   "cell_type": "code",
   "execution_count": 34,
   "id": "342d9245",
   "metadata": {},
   "outputs": [
    {
     "data": {
      "text/plain": [
       "Circle(8)"
      ]
     },
     "execution_count": 34,
     "metadata": {},
     "output_type": "execute_result"
    }
   ],
   "source": [
    "inst_1"
   ]
  },
  {
   "cell_type": "code",
   "execution_count": 35,
   "id": "bc0009b9",
   "metadata": {},
   "outputs": [
    {
     "data": {
      "text/plain": [
       "Circle(4)"
      ]
     },
     "execution_count": 35,
     "metadata": {},
     "output_type": "execute_result"
    }
   ],
   "source": [
    "inst_2"
   ]
  },
  {
   "cell_type": "markdown",
   "id": "a6512b39",
   "metadata": {},
   "source": [
    "### m. Call the __dict__ by the class name"
   ]
  },
  {
   "cell_type": "code",
   "execution_count": 36,
   "id": "b8ed2ae4",
   "metadata": {},
   "outputs": [
    {
     "name": "stdout",
     "output_type": "stream",
     "text": [
      "mappingproxy({'__dict__': <attribute '__dict__' of 'Circle' objects>,\n",
      "              '__doc__': 'A class representing a circle in a 2D space.\\n    ',\n",
      "              '__init__': <function Circle.__init__ at 0x0000021A9F37AC00>,\n",
      "              '__module__': '__main__',\n",
      "              '__repr__': <function Circle.__repr__ at 0x0000021A9F37B880>,\n",
      "              '__str__': <function Circle.__str__ at 0x0000021A9F37B920>,\n",
      "              '__weakref__': <attribute '__weakref__' of 'Circle' objects>,\n",
      "              'area': <function Circle.area at 0x0000021A9F37B4C0>,\n",
      "              'circumference': <function Circle.circumference at 0x0000021A9F37B740>,\n",
      "              'cylinder_volume': <function Circle.cylinder_volume at 0x0000021A9F37B7E0>,\n",
      "              'diameter': <function Circle.diameter at 0x0000021A9F37B600>})\n"
     ]
    }
   ],
   "source": [
    "from pprint import pprint\n",
    "pprint(Circle.__dict__)"
   ]
  },
  {
   "cell_type": "markdown",
   "id": "180aeabe",
   "metadata": {},
   "source": [
    "### n. Also pass the class name to the vars built-in function."
   ]
  },
  {
   "cell_type": "code",
   "execution_count": 37,
   "id": "37a53cb8",
   "metadata": {},
   "outputs": [
    {
     "name": "stdout",
     "output_type": "stream",
     "text": [
      "mappingproxy({'__dict__': <attribute '__dict__' of 'Circle' objects>,\n",
      "              '__doc__': 'A class representing a circle in a 2D space.\\n    ',\n",
      "              '__init__': <function Circle.__init__ at 0x0000021A9F37AC00>,\n",
      "              '__module__': '__main__',\n",
      "              '__repr__': <function Circle.__repr__ at 0x0000021A9F37B880>,\n",
      "              '__str__': <function Circle.__str__ at 0x0000021A9F37B920>,\n",
      "              '__weakref__': <attribute '__weakref__' of 'Circle' objects>,\n",
      "              'area': <function Circle.area at 0x0000021A9F37B4C0>,\n",
      "              'circumference': <function Circle.circumference at 0x0000021A9F37B740>,\n",
      "              'cylinder_volume': <function Circle.cylinder_volume at 0x0000021A9F37B7E0>,\n",
      "              'diameter': <function Circle.diameter at 0x0000021A9F37B600>})\n"
     ]
    }
   ],
   "source": [
    "pprint(vars(Circle))"
   ]
  },
  {
   "cell_type": "markdown",
   "id": "105af0a7",
   "metadata": {},
   "source": [
    "### o. Call the __dict__ on the object of the class. "
   ]
  },
  {
   "cell_type": "code",
   "execution_count": 38,
   "id": "631618e1",
   "metadata": {},
   "outputs": [
    {
     "name": "stdout",
     "output_type": "stream",
     "text": [
      "{'radius': 8}\n",
      "{'radius': 4}\n"
     ]
    }
   ],
   "source": [
    "print(inst_1.__dict__)\n",
    "print(inst_2.__dict__)"
   ]
  },
  {
   "cell_type": "markdown",
   "id": "9b64cecb-7efd-42a0-a1d8-79a5199be773",
   "metadata": {},
   "source": [
    "### p. Pass the class name to help. "
   ]
  },
  {
   "cell_type": "code",
   "execution_count": 40,
   "id": "49bc701a",
   "metadata": {},
   "outputs": [
    {
     "name": "stdout",
     "output_type": "stream",
     "text": [
      "Help on class Circle in module __main__:\n",
      "\n",
      "class Circle(builtins.object)\n",
      " |  Circle(radius: float)\n",
      " |  \n",
      " |  A class representing a circle in a 2D space.\n",
      " |  \n",
      " |  Methods defined here:\n",
      " |  \n",
      " |  __init__(self, radius: float)\n",
      " |      Initializes a Circle instance.\n",
      " |      \n",
      " |      Parameters:\n",
      " |      - radius: The radius of the circle in float.\n",
      " |  \n",
      " |  __repr__(self)\n",
      " |      Return repr(self).\n",
      " |  \n",
      " |  __str__(self)\n",
      " |      Return str(self).\n",
      " |  \n",
      " |  area(self) -> float\n",
      " |      Calculates the area of the circle.\n",
      " |      Returns: The area of the circle in float.\n",
      " |  \n",
      " |  circumference(self) -> float\n",
      " |      Calculates the circumference of the circle.  \n",
      " |      Returns: The circumference of the circle in float.\n",
      " |  \n",
      " |  cylinder_volume(self, height: float) -> float\n",
      " |      Calculates the volume of a cylinder with the circle as the base.\n",
      " |      \n",
      " |      Parameters:\n",
      " |                  Height\n",
      " |  \n",
      " |  diameter(self) -> float\n",
      " |      Calculates the diameter of the circle.\n",
      " |      Returns: The diameter of the circle in  float.\n",
      " |  \n",
      " |  ----------------------------------------------------------------------\n",
      " |  Data descriptors defined here:\n",
      " |  \n",
      " |  __dict__\n",
      " |      dictionary for instance variables (if defined)\n",
      " |  \n",
      " |  __weakref__\n",
      " |      list of weak references to the object (if defined)\n",
      "\n"
     ]
    }
   ],
   "source": [
    "help(Circle)"
   ]
  },
  {
   "cell_type": "markdown",
   "id": "779baf15",
   "metadata": {},
   "source": [
    "### q. Print the doc-string and annotations of both the class and each instance method."
   ]
  },
  {
   "cell_type": "code",
   "execution_count": 41,
   "id": "d67e29a5",
   "metadata": {},
   "outputs": [
    {
     "name": "stdout",
     "output_type": "stream",
     "text": [
      "A class representing a circle in a 2D space.\n",
      "    \n",
      "\n",
      "        Initializes a Circle instance.\n",
      "        \n",
      "        Parameters:\n",
      "        - radius: The radius of the circle in float.\n",
      "        \n",
      "\n",
      "{'return': <class 'float'>}\n",
      "\n",
      "        Calculates the area of the circle.\n",
      "        Returns: The area of the circle in float.\n",
      "        \n",
      "\n",
      "{'return': <class 'float'>}\n",
      "\n",
      "        Calculates the circumference of the circle.  \n",
      "        Returns: The circumference of the circle in float.\n",
      "        \n",
      "\n",
      "\n",
      "        Calculates the diameter of the circle.\n",
      "        Returns: The diameter of the circle in  float.\n",
      "        \n",
      "{'return': <class 'float'>}\n",
      "\n",
      "\n",
      "        Calculates the volume of a cylinder with the circle as the base.\n",
      "        \n",
      "        Parameters:\n",
      "                    Height\n",
      "        \n",
      "{'height': <class 'float'>, 'return': <class 'float'>}\n"
     ]
    }
   ],
   "source": [
    "print(Circle.__doc__)\n",
    "print(Circle.__init__.__doc__)\n",
    "print()\n",
    "print(Circle.area.__annotations__)\n",
    "print(Circle.area.__doc__)\n",
    "print()\n",
    "print(Circle.circumference.__annotations__)\n",
    "print(Circle.circumference.__doc__)\n",
    "\n",
    "print()\n",
    "print(Circle.diameter.__doc__)\n",
    "print(Circle.diameter.__annotations__)\n",
    "print()\n",
    "print(Circle.cylinder_volume.__doc__)\n",
    "print(Circle.cylinder_volume.__annotations__)"
   ]
  },
  {
   "cell_type": "markdown",
   "id": "7d669cb9",
   "metadata": {},
   "source": [
    "# Class Definition: RLC for a Series RLC Circuit\n",
    "\n",
    "## Problem Requirements\n",
    "1. **Class Definition**:\n",
    "   - Define an `RLC` class with an appropriate `__init__` method to initialize resistance (R), inductance (L), and capacitance (C).\n",
    "2. **Property Methods**:\n",
    "   - Add properties for **impedance**, **phase angle**, and **power factor**.\n",
    "3. **Instance Method**:\n",
    "   - Add a method to calculate the current in the circuit for a given input voltage.\n",
    "4. **String Representation**:\n",
    "   - Implement `__repr__` and `__str__` methods for the class.\n",
    "5. **Annotations and Documentation**:\n",
    "   - Use type annotations and provide docstrings for the class and its methods.\n"
   ]
  },
  {
   "cell_type": "code",
   "execution_count": 42,
   "id": "a1e507e7",
   "metadata": {},
   "outputs": [],
   "source": [
    "import math\n",
    "class RLC:\n",
    "    \"\"\"A class representing a series RLC circuit with resistance (R), inductance (L), and capacitance (C).\"\"\"\n",
    "\n",
    "    def __init__(self, R: float = 1, XL: float = 1, XC: float = 1, F: float = 100):\n",
    "        \"\"\"\n",
    "        Initializes an RLC circuit instance.\n",
    "        \n",
    "        Parameters:\n",
    "        - resistance : Resistance (R) in ohms.\n",
    "        - inductance : Inductance (L) in henrys.\n",
    "        - capacitance : Capacitance (C) in farads.\n",
    "        - frequency : Frequency (f) of the AC source in hertz.\n",
    "        \"\"\"\n",
    "        self.R = R\n",
    "        self.XL = XL\n",
    "        self.XC = XC\n",
    "        self.F = F\n",
    "    def Z(self) -> float:\n",
    "        \"\"\"\n",
    "        Calculates the impedance of the RLC circuit.\n",
    "        Returns: The impedance in ohms in float.\n",
    "        \"\"\"\n",
    "        Frequency = math.pi * 2 *  self.F\n",
    "        reactance_inductive = Frequency * self.XL\n",
    "        reactance_capacitive = 1 / (Frequency * self.XC)\n",
    "        return sqrt(self.R ** 2 + (reactance_inductive - reactance_capacitive) ** 2)\n",
    "    def phase(self) -> float:\n",
    "        \"\"\"\n",
    "        Calculates the phase angle (in degrees) of the RLC circuit.\n",
    "        \n",
    "        Returns:\n",
    "        - float: The phase angle in degrees.\n",
    "        \"\"\"\n",
    "        return atan((reactance_inductive - reactance_capacitive) / self.R) * (180 / math.pi)\n",
    "    def power_factor(self) -> float:\n",
    "        \"\"\"\n",
    "        Calculates the power factor of the RLC circuit.\n",
    "        \n",
    "        Returns: The power factor.\n",
    "        \"\"\"\n",
    "        return math.cos(math.radians(self.phase))\n",
    "    def current(self, voltage: float) -> float:\n",
    "        \"\"\"\n",
    "        Calculates the current in the RLC circuit for a given input voltage.\n",
    "        \n",
    "        Parameters:\n",
    "        - voltage : The input voltage in volts.\n",
    "        \n",
    "        Returns: The current in amperes.\n",
    "        \"\"\"\n",
    "        return voltage / self.Z\n",
    "        \n",
    "    def __repr__(self) -> str:\n",
    "        \"\"\"\n",
    "        Returns a formal string representation of the RLC instance. \n",
    "        Returns: A representation of the RLC circuit with R, L, C, and frequency.\n",
    "        \"\"\"\n",
    "        return (f\"{type(self).__name__}(Resistance={self.R} ohm, \"\n",
    "                f\"Inductance={self.XL} H, Capacitance={self.XC} F, \"\n",
    "                f\"Frequency={self.F} Hz)\")\n",
    "\n",
    "    def __str__(self) -> str:\n",
    "        \"\"\"\n",
    "        Returns an informal string representation of the RLC instance.\n",
    "        \n",
    "        Returns:  A description of the RLC circuit components and properties.\n",
    "        \"\"\"\n",
    "        return (f\"Series RLC Circuit with R = {self.R} ohm, L = {self.XL} H, \"\n",
    "                f\"C = {self.XC} F, f = {self.F} Hz\")\n"
   ]
  },
  {
   "cell_type": "markdown",
   "id": "6f6a0c5d",
   "metadata": {},
   "source": [
    "## a. Define inst_1\n",
    "###  Make another instance inst2. "
   ]
  },
  {
   "cell_type": "code",
   "execution_count": 43,
   "id": "5e0293dd",
   "metadata": {},
   "outputs": [],
   "source": [
    "inst_1 = RLC(10,13,15,2800)\n",
    "inst_2 = RLC(13, 17, 20, 4000)"
   ]
  },
  {
   "cell_type": "markdown",
   "id": "1addc67d",
   "metadata": {},
   "source": [
    "### c. Print inst_1 and inst_2, for this use the print command and pass theinst_1 and inst_2."
   ]
  },
  {
   "cell_type": "code",
   "execution_count": 44,
   "id": "6428562f",
   "metadata": {},
   "outputs": [
    {
     "name": "stdout",
     "output_type": "stream",
     "text": [
      "Series RLC Circuit with R = 10 ohm, L = 13 H, C = 15 F, f = 2800 Hz\n",
      "Series RLC Circuit with R = 13 ohm, L = 17 H, C = 20 F, f = 4000 Hz\n"
     ]
    }
   ],
   "source": [
    "print(inst_1)\n",
    "print(inst_2)"
   ]
  },
  {
   "cell_type": "code",
   "execution_count": 45,
   "id": "c38068d7",
   "metadata": {
    "collapsed": true,
    "jupyter": {
     "outputs_hidden": true
    }
   },
   "outputs": [
    {
     "data": {
      "text/plain": [
       "RLC(Resistance=10 ohm, Inductance=13 H, Capacitance=15 F, Frequency=2800 Hz)"
      ]
     },
     "execution_count": 45,
     "metadata": {},
     "output_type": "execute_result"
    }
   ],
   "source": [
    "inst_1"
   ]
  },
  {
   "cell_type": "code",
   "execution_count": 46,
   "id": "e779c0e4",
   "metadata": {},
   "outputs": [
    {
     "data": {
      "text/plain": [
       "RLC(Resistance=13 ohm, Inductance=17 H, Capacitance=20 F, Frequency=4000 Hz)"
      ]
     },
     "execution_count": 46,
     "metadata": {},
     "output_type": "execute_result"
    }
   ],
   "source": [
    "inst_2"
   ]
  },
  {
   "cell_type": "markdown",
   "id": "5f61d1cf",
   "metadata": {},
   "source": [
    "### d. Call the __dict__ by the class name. "
   ]
  },
  {
   "cell_type": "code",
   "execution_count": 47,
   "id": "3271d3b4",
   "metadata": {},
   "outputs": [
    {
     "name": "stdout",
     "output_type": "stream",
     "text": [
      "mappingproxy({'Z': <function RLC.Z at 0x0000021A9F37AAC0>,\n",
      "              '__dict__': <attribute '__dict__' of 'RLC' objects>,\n",
      "              '__doc__': 'A class representing a series RLC circuit with '\n",
      "                         'resistance (R), inductance (L), and capacitance (C).',\n",
      "              '__init__': <function RLC.__init__ at 0x0000021A9F37B240>,\n",
      "              '__module__': '__main__',\n",
      "              '__repr__': <function RLC.__repr__ at 0x0000021A9F37BB00>,\n",
      "              '__str__': <function RLC.__str__ at 0x0000021A9F37BC40>,\n",
      "              '__weakref__': <attribute '__weakref__' of 'RLC' objects>,\n",
      "              'current': <function RLC.current at 0x0000021A9F37AFC0>,\n",
      "              'phase': <function RLC.phase at 0x0000021A9F37AF20>,\n",
      "              'power_factor': <function RLC.power_factor at 0x0000021A9F37AD40>})\n"
     ]
    }
   ],
   "source": [
    "from pprint import pprint\n",
    "pprint(RLC.__dict__)"
   ]
  },
  {
   "cell_type": "markdown",
   "id": "e17fb1a5",
   "metadata": {},
   "source": [
    "### e. Also pass the class name to the vars built-in function.\n"
   ]
  },
  {
   "cell_type": "code",
   "execution_count": 48,
   "id": "011c237e",
   "metadata": {},
   "outputs": [
    {
     "name": "stdout",
     "output_type": "stream",
     "text": [
      "mappingproxy({'Z': <function RLC.Z at 0x0000021A9F37AAC0>,\n",
      "              '__dict__': <attribute '__dict__' of 'RLC' objects>,\n",
      "              '__doc__': 'A class representing a series RLC circuit with '\n",
      "                         'resistance (R), inductance (L), and capacitance (C).',\n",
      "              '__init__': <function RLC.__init__ at 0x0000021A9F37B240>,\n",
      "              '__module__': '__main__',\n",
      "              '__repr__': <function RLC.__repr__ at 0x0000021A9F37BB00>,\n",
      "              '__str__': <function RLC.__str__ at 0x0000021A9F37BC40>,\n",
      "              '__weakref__': <attribute '__weakref__' of 'RLC' objects>,\n",
      "              'current': <function RLC.current at 0x0000021A9F37AFC0>,\n",
      "              'phase': <function RLC.phase at 0x0000021A9F37AF20>,\n",
      "              'power_factor': <function RLC.power_factor at 0x0000021A9F37AD40>})\n"
     ]
    }
   ],
   "source": [
    "pprint(vars(RLC))"
   ]
  },
  {
   "cell_type": "markdown",
   "id": "45be59ad",
   "metadata": {},
   "source": [
    "### f. Call the __dict__ on the object of the class. "
   ]
  },
  {
   "cell_type": "code",
   "execution_count": 49,
   "id": "eb9c0448",
   "metadata": {},
   "outputs": [
    {
     "name": "stdout",
     "output_type": "stream",
     "text": [
      "{'R': 10, 'XL': 13, 'XC': 15, 'F': 2800}\n"
     ]
    }
   ],
   "source": [
    "print(inst_1.__dict__)"
   ]
  },
  {
   "cell_type": "markdown",
   "id": "5c485bf5",
   "metadata": {},
   "source": [
    "### g. Pass the class name to help. "
   ]
  },
  {
   "cell_type": "code",
   "execution_count": 50,
   "id": "f1b1fcf0",
   "metadata": {},
   "outputs": [
    {
     "name": "stdout",
     "output_type": "stream",
     "text": [
      "Help on class RLC in module __main__:\n",
      "\n",
      "class RLC(builtins.object)\n",
      " |  RLC(R: float = 1, XL: float = 1, XC: float = 1, F: float = 100)\n",
      " |  \n",
      " |  A class representing a series RLC circuit with resistance (R), inductance (L), and capacitance (C).\n",
      " |  \n",
      " |  Methods defined here:\n",
      " |  \n",
      " |  Z(self) -> float\n",
      " |      Calculates the impedance of the RLC circuit.\n",
      " |      Returns: The impedance in ohms in float.\n",
      " |  \n",
      " |  __init__(self, R: float = 1, XL: float = 1, XC: float = 1, F: float = 100)\n",
      " |      Initializes an RLC circuit instance.\n",
      " |      \n",
      " |      Parameters:\n",
      " |      - resistance : Resistance (R) in ohms.\n",
      " |      - inductance : Inductance (L) in henrys.\n",
      " |      - capacitance : Capacitance (C) in farads.\n",
      " |      - frequency : Frequency (f) of the AC source in hertz.\n",
      " |  \n",
      " |  __repr__(self) -> str\n",
      " |      Returns a formal string representation of the RLC instance. \n",
      " |      Returns: A representation of the RLC circuit with R, L, C, and frequency.\n",
      " |  \n",
      " |  __str__(self) -> str\n",
      " |      Returns an informal string representation of the RLC instance.\n",
      " |      \n",
      " |      Returns:  A description of the RLC circuit components and properties.\n",
      " |  \n",
      " |  current(self, voltage: float) -> float\n",
      " |      Calculates the current in the RLC circuit for a given input voltage.\n",
      " |      \n",
      " |      Parameters:\n",
      " |      - voltage : The input voltage in volts.\n",
      " |      \n",
      " |      Returns: The current in amperes.\n",
      " |  \n",
      " |  phase(self) -> float\n",
      " |      Calculates the phase angle (in degrees) of the RLC circuit.\n",
      " |      \n",
      " |      Returns:\n",
      " |      - float: The phase angle in degrees.\n",
      " |  \n",
      " |  power_factor(self) -> float\n",
      " |      Calculates the power factor of the RLC circuit.\n",
      " |      \n",
      " |      Returns: The power factor.\n",
      " |  \n",
      " |  ----------------------------------------------------------------------\n",
      " |  Data descriptors defined here:\n",
      " |  \n",
      " |  __dict__\n",
      " |      dictionary for instance variables (if defined)\n",
      " |  \n",
      " |  __weakref__\n",
      " |      list of weak references to the object (if defined)\n",
      "\n"
     ]
    }
   ],
   "source": [
    "help(RLC)"
   ]
  },
  {
   "cell_type": "markdown",
   "id": "c54d320d",
   "metadata": {},
   "source": [
    "### h. Print the doc-string and annotations of both the class and each instance method. "
   ]
  },
  {
   "cell_type": "code",
   "execution_count": 51,
   "id": "903037fa",
   "metadata": {},
   "outputs": [
    {
     "name": "stdout",
     "output_type": "stream",
     "text": [
      "A class representing a series RLC circuit with resistance (R), inductance (L), and capacitance (C).\n",
      "{'R': <class 'float'>, 'XL': <class 'float'>, 'XC': <class 'float'>, 'F': <class 'float'>}\n",
      "\n",
      "\n",
      "        Calculates the impedance of the RLC circuit.\n",
      "        Returns: The impedance in ohms in float.\n",
      "        \n",
      "{'return': <class 'float'>}\n",
      "\n",
      "\n",
      "        Calculates the phase angle (in degrees) of the RLC circuit.\n",
      "        \n",
      "        Returns:\n",
      "        - float: The phase angle in degrees.\n",
      "        \n",
      "{'return': <class 'float'>}\n",
      "\n",
      "\n",
      "        Calculates the current in the RLC circuit for a given input voltage.\n",
      "        \n",
      "        Parameters:\n",
      "        - voltage : The input voltage in volts.\n",
      "        \n",
      "        Returns: The current in amperes.\n",
      "        \n",
      "{'voltage': <class 'float'>, 'return': <class 'float'>}\n",
      "\n",
      "{'return': <class 'str'>}\n",
      "\n",
      "        Returns a formal string representation of the RLC instance. \n",
      "        Returns: A representation of the RLC circuit with R, L, C, and frequency.\n",
      "        \n",
      "\n",
      "{'return': <class 'str'>}\n",
      "\n",
      "        Returns an informal string representation of the RLC instance.\n",
      "        \n",
      "        Returns:  A description of the RLC circuit components and properties.\n",
      "        \n"
     ]
    }
   ],
   "source": [
    "print(RLC.__doc__)\n",
    "print(RLC.__init__.__annotations__)\n",
    "print()\n",
    "print(RLC.Z.__doc__)\n",
    "print(RLC.Z.__annotations__)\n",
    "print()\n",
    "print(RLC.phase.__doc__)\n",
    "print(RLC.phase.__annotations__)\n",
    "print()\n",
    "print(RLC.current.__doc__)\n",
    "print(RLC.current.__annotations__)\n",
    "print()\n",
    "print(RLC.__repr__.__annotations__)\n",
    "print(RLC.__repr__.__doc__)\n",
    "print()\n",
    "print(RLC.__str__.__annotations__)\n",
    "print(RLC.__str__.__doc__)"
   ]
  },
  {
   "cell_type": "markdown",
   "id": "0451a6b0",
   "metadata": {},
   "source": [
    "### i. Modify the __init__ by making its parameters default and verify by instances"
   ]
  },
  {
   "cell_type": "code",
   "execution_count": 52,
   "id": "3f4cd822",
   "metadata": {},
   "outputs": [
    {
     "name": "stdout",
     "output_type": "stream",
     "text": [
      "Series RLC Circuit with R = 1 ohm, L = 1 H, C = 1 F, f = 100 Hz\n"
     ]
    }
   ],
   "source": [
    "inst_3 = RLC()\n",
    "print(inst_3)"
   ]
  },
  {
   "cell_type": "markdown",
   "id": "1e6a5c87",
   "metadata": {},
   "source": [
    "# Class Definition: Square\n",
    "\n",
    "## Problem Requirements\n",
    "1. **Class Definition**:\n",
    "   - Define a `Square` class with an appropriate `__init__` method to initialize the side length.\n",
    "2. **Property Methods**:\n",
    "   - Add properties for **area**, **perimeter**, and **diagonal**.\n",
    "3. **Instance Method**:\n",
    "   - Add a method to check if a given point lies inside the square.\n",
    "4. **String Representation**:\n",
    "   - Implement `__repr__` and `__str__` methods for the class.\n",
    "5. **Annotations and Documentation**:\n",
    "   - Use type annotations and provide docstrings for the class and its methods.\n"
   ]
  },
  {
   "cell_type": "code",
   "execution_count": 53,
   "id": "8f67b055",
   "metadata": {},
   "outputs": [],
   "source": [
    "class Square:\n",
    "    \"\"\"\n",
    "    Represents a square, a four-sided polygon (quadrilateral) with all sides of equal length and all angles 90 degrees.\n",
    "\n",
    "    This class provides methods to calculate the area and perimeter of the square and to compare its size with another square.\n",
    "\n",
    "    Attributes: side_length : float\n",
    "        The length of one side of the square.\n",
    "    \"\"\"\n",
    "\n",
    "    def __init__(self, side_length: float = 1.0):\n",
    "        \"\"\"\n",
    "        Initializes a square with a specified side length.\n",
    "        \n",
    "        Parameters: side_length : float\n",
    "            The length of each side of the square in units (default is 1.0).\n",
    "        \"\"\"\n",
    "        self.side_length = side_length\n",
    "    def area(self) -> float:\n",
    "        \"\"\"\n",
    "        Calculates the area of the square.\n",
    "\n",
    "        Returns: float\n",
    "            The area of the square (side_length^2).\n",
    "        \"\"\"\n",
    "        return self.side_length ** 2\n",
    "    def perimeter(self) -> float:\n",
    "        \"\"\"\n",
    "        Calculates the perimeter of the square.\n",
    "\n",
    "        Returns: float\n",
    "            The perimeter of the square (4 * side_length).\n",
    "        \"\"\"\n",
    "        return 4 * self.side_length\n",
    "    def __repr__(self) -> str:\n",
    "        \"\"\"\n",
    "        Returns a formal string representation of the Square instance.\n",
    "\n",
    "        Returns:  str\n",
    "            A representation of the Square with side length.\n",
    "        \"\"\"\n",
    "        return f\"{type(self).__name__}(side_length={self.side_length})\"\n",
    "\n",
    "    def __str__(self) -> str:\n",
    "        \"\"\"\n",
    "        Returns an informal string representation of the Square instance.\n",
    "\n",
    "        Returns: str\n",
    "            A description of the Square with its side length, area, and perimeter.\n",
    "        \"\"\"\n",
    "        return (f\"Square with side length = {self.side_length}\")\n"
   ]
  },
  {
   "cell_type": "code",
   "execution_count": 54,
   "id": "a69b1a35",
   "metadata": {},
   "outputs": [],
   "source": [
    "inst_1 = Square(12)\n",
    "inst_2 = Square(20)"
   ]
  },
  {
   "cell_type": "code",
   "execution_count": 55,
   "id": "682cb71f",
   "metadata": {},
   "outputs": [
    {
     "name": "stdout",
     "output_type": "stream",
     "text": [
      "Square with side length = 12\n",
      "Square with side length = 20\n"
     ]
    }
   ],
   "source": [
    "print(inst_1)\n",
    "print(inst_2)"
   ]
  },
  {
   "cell_type": "code",
   "execution_count": 56,
   "id": "6644e9f0",
   "metadata": {},
   "outputs": [
    {
     "data": {
      "text/plain": [
       "Square(side_length=12)"
      ]
     },
     "execution_count": 56,
     "metadata": {},
     "output_type": "execute_result"
    }
   ],
   "source": [
    "inst_1"
   ]
  },
  {
   "cell_type": "code",
   "execution_count": 57,
   "id": "0113fc3e",
   "metadata": {},
   "outputs": [
    {
     "data": {
      "text/plain": [
       "Square(side_length=20)"
      ]
     },
     "execution_count": 57,
     "metadata": {},
     "output_type": "execute_result"
    }
   ],
   "source": [
    "inst_2"
   ]
  },
  {
   "cell_type": "code",
   "execution_count": 58,
   "id": "1dc96ffc",
   "metadata": {},
   "outputs": [
    {
     "name": "stdout",
     "output_type": "stream",
     "text": [
      "mappingproxy({'__dict__': <attribute '__dict__' of 'Square' objects>,\n",
      "              '__doc__': '\\n'\n",
      "                         '    Represents a square, a four-sided polygon '\n",
      "                         '(quadrilateral) with all sides of equal length and '\n",
      "                         'all angles 90 degrees.\\n'\n",
      "                         '\\n'\n",
      "                         '    This class provides methods to calculate the '\n",
      "                         'area and perimeter of the square and to compare its '\n",
      "                         'size with another square.\\n'\n",
      "                         '\\n'\n",
      "                         '    Attributes: side_length : float\\n'\n",
      "                         '        The length of one side of the square.\\n'\n",
      "                         '    ',\n",
      "              '__init__': <function Square.__init__ at 0x0000021A9F37B420>,\n",
      "              '__module__': '__main__',\n",
      "              '__repr__': <function Square.__repr__ at 0x0000021A9F37BF60>,\n",
      "              '__str__': <function Square.__str__ at 0x0000021A9F770040>,\n",
      "              '__weakref__': <attribute '__weakref__' of 'Square' objects>,\n",
      "              'area': <function Square.area at 0x0000021A9F37B2E0>,\n",
      "              'perimeter': <function Square.perimeter at 0x0000021A9F37BEC0>})\n"
     ]
    }
   ],
   "source": [
    "from pprint import pprint\n",
    "pprint(Square.__dict__)"
   ]
  },
  {
   "cell_type": "code",
   "execution_count": 59,
   "id": "6a9777b1",
   "metadata": {},
   "outputs": [
    {
     "name": "stdout",
     "output_type": "stream",
     "text": [
      "mappingproxy({'__dict__': <attribute '__dict__' of 'Square' objects>,\n",
      "              '__doc__': '\\n'\n",
      "                         '    Represents a square, a four-sided polygon '\n",
      "                         '(quadrilateral) with all sides of equal length and '\n",
      "                         'all angles 90 degrees.\\n'\n",
      "                         '\\n'\n",
      "                         '    This class provides methods to calculate the '\n",
      "                         'area and perimeter of the square and to compare its '\n",
      "                         'size with another square.\\n'\n",
      "                         '\\n'\n",
      "                         '    Attributes: side_length : float\\n'\n",
      "                         '        The length of one side of the square.\\n'\n",
      "                         '    ',\n",
      "              '__init__': <function Square.__init__ at 0x0000021A9F37B420>,\n",
      "              '__module__': '__main__',\n",
      "              '__repr__': <function Square.__repr__ at 0x0000021A9F37BF60>,\n",
      "              '__str__': <function Square.__str__ at 0x0000021A9F770040>,\n",
      "              '__weakref__': <attribute '__weakref__' of 'Square' objects>,\n",
      "              'area': <function Square.area at 0x0000021A9F37B2E0>,\n",
      "              'perimeter': <function Square.perimeter at 0x0000021A9F37BEC0>})\n"
     ]
    }
   ],
   "source": [
    "pprint(vars(Square))"
   ]
  },
  {
   "cell_type": "code",
   "execution_count": 60,
   "id": "75f6c1c9",
   "metadata": {},
   "outputs": [
    {
     "name": "stdout",
     "output_type": "stream",
     "text": [
      "{'side_length': 12}\n",
      "{'side_length': 20}\n"
     ]
    }
   ],
   "source": [
    "print(inst_1.__dict__)\n",
    "print(inst_2.__dict__)"
   ]
  },
  {
   "cell_type": "code",
   "execution_count": 61,
   "id": "b38d810d",
   "metadata": {},
   "outputs": [
    {
     "name": "stdout",
     "output_type": "stream",
     "text": [
      "Help on class Square in module __main__:\n",
      "\n",
      "class Square(builtins.object)\n",
      " |  Square(side_length: float = 1.0)\n",
      " |  \n",
      " |  Represents a square, a four-sided polygon (quadrilateral) with all sides of equal length and all angles 90 degrees.\n",
      " |  \n",
      " |  This class provides methods to calculate the area and perimeter of the square and to compare its size with another square.\n",
      " |  \n",
      " |  Attributes: side_length : float\n",
      " |      The length of one side of the square.\n",
      " |  \n",
      " |  Methods defined here:\n",
      " |  \n",
      " |  __init__(self, side_length: float = 1.0)\n",
      " |      Initializes a square with a specified side length.\n",
      " |      \n",
      " |      Parameters: side_length : float\n",
      " |          The length of each side of the square in units (default is 1.0).\n",
      " |  \n",
      " |  __repr__(self) -> str\n",
      " |      Returns a formal string representation of the Square instance.\n",
      " |      \n",
      " |      Returns:  str\n",
      " |          A representation of the Square with side length.\n",
      " |  \n",
      " |  __str__(self) -> str\n",
      " |      Returns an informal string representation of the Square instance.\n",
      " |      \n",
      " |      Returns: str\n",
      " |          A description of the Square with its side length, area, and perimeter.\n",
      " |  \n",
      " |  area(self) -> float\n",
      " |      Calculates the area of the square.\n",
      " |      \n",
      " |      Returns: float\n",
      " |          The area of the square (side_length^2).\n",
      " |  \n",
      " |  perimeter(self) -> float\n",
      " |      Calculates the perimeter of the square.\n",
      " |      \n",
      " |      Returns: float\n",
      " |          The perimeter of the square (4 * side_length).\n",
      " |  \n",
      " |  ----------------------------------------------------------------------\n",
      " |  Data descriptors defined here:\n",
      " |  \n",
      " |  __dict__\n",
      " |      dictionary for instance variables (if defined)\n",
      " |  \n",
      " |  __weakref__\n",
      " |      list of weak references to the object (if defined)\n",
      "\n"
     ]
    }
   ],
   "source": [
    "help(Square)"
   ]
  },
  {
   "cell_type": "code",
   "execution_count": 62,
   "id": "e1e673d7",
   "metadata": {
    "scrolled": true
   },
   "outputs": [
    {
     "name": "stdout",
     "output_type": "stream",
     "text": [
      "\n",
      "    Represents a square, a four-sided polygon (quadrilateral) with all sides of equal length and all angles 90 degrees.\n",
      "\n",
      "    This class provides methods to calculate the area and perimeter of the square and to compare its size with another square.\n",
      "\n",
      "    Attributes: side_length : float\n",
      "        The length of one side of the square.\n",
      "    \n",
      "{'side_length': <class 'float'>}\n",
      "\n",
      "\n",
      "        Calculates the area of the square.\n",
      "\n",
      "        Returns: float\n",
      "            The area of the square (side_length^2).\n",
      "        \n",
      "{'return': <class 'float'>}\n",
      "\n",
      "\n",
      "        Calculates the perimeter of the square.\n",
      "\n",
      "        Returns: float\n",
      "            The perimeter of the square (4 * side_length).\n",
      "        \n",
      "{'return': <class 'float'>}\n",
      "\n",
      "{'return': <class 'str'>}\n",
      "\n",
      "        Returns a formal string representation of the Square instance.\n",
      "\n",
      "        Returns:  str\n",
      "            A representation of the Square with side length.\n",
      "        \n",
      "\n",
      "{'return': <class 'str'>}\n",
      "\n",
      "        Returns an informal string representation of the Square instance.\n",
      "\n",
      "        Returns: str\n",
      "            A description of the Square with its side length, area, and perimeter.\n",
      "        \n"
     ]
    }
   ],
   "source": [
    "print(Square.__doc__)\n",
    "print(Square.__init__.__annotations__)\n",
    "print()\n",
    "print(Square.area.__doc__)\n",
    "print(Square.area.__annotations__)\n",
    "print()\n",
    "print(Square.perimeter.__doc__)\n",
    "print(Square.perimeter.__annotations__)\n",
    "print()\n",
    "print(Square.__repr__.__annotations__)\n",
    "print(Square.__repr__.__doc__)\n",
    "print()\n",
    "print(Square.__str__.__annotations__)\n",
    "print(Square.__str__.__doc__)"
   ]
  },
  {
   "cell_type": "markdown",
   "id": "0ab0f10a",
   "metadata": {},
   "source": [
    "## Problem Requirements\n",
    "1. **Class Definition**:\n",
    "   - Define a `Rectangle` class with an appropriate `__init__` method to initialize the length and width.\n",
    "2. **Property Methods**:\n",
    "   - Add properties for **area**, **perimeter**, and **diagonal**.\n",
    "3. **Instance Method**:\n",
    "   - Add a method to check if a given point lies inside the rectangle.\n",
    "4. **String Representation**:\n",
    "   - Implement `__repr__` and `__str__` methods for the class.\n",
    "5. **Annotations and Documentation**:\n",
    "   - Use type annotations and provide docstrings for the class and its methods.\n"
   ]
  },
  {
   "cell_type": "code",
   "execution_count": 63,
   "id": "b34300e5",
   "metadata": {},
   "outputs": [],
   "source": [
    "class Rectangle:\n",
    "    \"\"\"\n",
    "    Represents a rectangle, a four-sided polygon where opposite sides are equal in length \n",
    "    and all angles are 90 degrees.   \n",
    "    This class provides methods to calculate the area, perimeter, and to check if two rectangles \n",
    "    are of the same size.    \n",
    "    Attributes: length : float\n",
    "        The length of the rectangle.\n",
    "    width : float\n",
    "        The width of the rectangle.\n",
    "    \"\"\"\n",
    "\n",
    "    def __init__(self, length = 2.0, width: float = 4.0):\n",
    "        \"\"\"\n",
    "        Initializes a Rectangle instance with specified length and width. \n",
    "        Parameters: length : float\n",
    "            The length of the rectangle.\n",
    "        width : float\n",
    "            The width of the rectangle.\n",
    "        \"\"\"\n",
    "        self.length = length\n",
    "        self.width = width\n",
    "    def area(self) -> float:\n",
    "        \"\"\"\n",
    "        Calculates the area of the rectangle.   \n",
    "        Returns: float\n",
    "            The area of the rectangle.\n",
    "        \"\"\"\n",
    "        return self.length * self.width\n",
    "    def perimeter(self) -> float:\n",
    "        \"\"\"\n",
    "        Calculates the perimeter of the rectangle.     \n",
    "        Returns: float\n",
    "            The perimeter of the rectangle.\n",
    "        \"\"\"\n",
    "        return 2 * (self.length + self.width)\n",
    "    def __repr__(self) -> str:\n",
    "        \"\"\"\n",
    "        Returns a formal string representation of the Rectangle instance.\n",
    "        Returns:  str\n",
    "            A string with the class name, length, and width.\n",
    "        \"\"\"\n",
    "        return f\"{type(self).__name__}(length={self.length}, width={self.width})\"\n",
    "\n",
    "    def __str__(self) -> str:\n",
    "        \"\"\"\n",
    "        Returns an informal string representation of the Rectangle instance.\n",
    "        Returns: str\n",
    "            A description of the rectangle with its dimensions, area, and perimeter.\n",
    "        \"\"\"\n",
    "        return (f\"Rectangle with length = {self.length}, width = {self.width}\")\n"
   ]
  },
  {
   "cell_type": "code",
   "execution_count": 64,
   "id": "7b1f8f18",
   "metadata": {},
   "outputs": [],
   "source": [
    "inst_1 = Rectangle(12,10)\n",
    "inst_2 = Rectangle(20,15)"
   ]
  },
  {
   "cell_type": "code",
   "execution_count": 65,
   "id": "9dc91202",
   "metadata": {},
   "outputs": [
    {
     "name": "stdout",
     "output_type": "stream",
     "text": [
      "Rectangle with length = 12, width = 10\n",
      "Rectangle with length = 20, width = 15\n"
     ]
    }
   ],
   "source": [
    "print(inst_1)\n",
    "print(inst_2)"
   ]
  },
  {
   "cell_type": "code",
   "execution_count": 66,
   "id": "6f0841bf",
   "metadata": {},
   "outputs": [
    {
     "data": {
      "text/plain": [
       "Rectangle(length=12, width=10)"
      ]
     },
     "execution_count": 66,
     "metadata": {},
     "output_type": "execute_result"
    }
   ],
   "source": [
    "inst_1"
   ]
  },
  {
   "cell_type": "code",
   "execution_count": 67,
   "id": "b69c79a9",
   "metadata": {},
   "outputs": [
    {
     "data": {
      "text/plain": [
       "Rectangle(length=20, width=15)"
      ]
     },
     "execution_count": 67,
     "metadata": {},
     "output_type": "execute_result"
    }
   ],
   "source": [
    "inst_2"
   ]
  },
  {
   "cell_type": "code",
   "execution_count": 68,
   "id": "e8ba5390",
   "metadata": {},
   "outputs": [
    {
     "name": "stdout",
     "output_type": "stream",
     "text": [
      "mappingproxy({'__dict__': <attribute '__dict__' of 'Rectangle' objects>,\n",
      "              '__doc__': '\\n'\n",
      "                         '    Represents a rectangle, a four-sided polygon '\n",
      "                         'where opposite sides are equal in length \\n'\n",
      "                         '    and all angles are 90 degrees.   \\n'\n",
      "                         '    This class provides methods to calculate the '\n",
      "                         'area, perimeter, and to check if two rectangles \\n'\n",
      "                         '    are of the same size.    \\n'\n",
      "                         '    Attributes: length : float\\n'\n",
      "                         '        The length of the rectangle.\\n'\n",
      "                         '    width : float\\n'\n",
      "                         '        The width of the rectangle.\\n'\n",
      "                         '    ',\n",
      "              '__init__': <function Rectangle.__init__ at 0x0000021A9F7705E0>,\n",
      "              '__module__': '__main__',\n",
      "              '__repr__': <function Rectangle.__repr__ at 0x0000021A9F770680>,\n",
      "              '__str__': <function Rectangle.__str__ at 0x0000021A9F770720>,\n",
      "              '__weakref__': <attribute '__weakref__' of 'Rectangle' objects>,\n",
      "              'area': <function Rectangle.area at 0x0000021A9F7704A0>,\n",
      "              'perimeter': <function Rectangle.perimeter at 0x0000021A9F770540>})\n"
     ]
    }
   ],
   "source": [
    "from pprint import pprint\n",
    "pprint(Rectangle.__dict__)"
   ]
  },
  {
   "cell_type": "code",
   "execution_count": 69,
   "id": "3371898f",
   "metadata": {},
   "outputs": [
    {
     "name": "stdout",
     "output_type": "stream",
     "text": [
      "mappingproxy({'__dict__': <attribute '__dict__' of 'Rectangle' objects>,\n",
      "              '__doc__': '\\n'\n",
      "                         '    Represents a rectangle, a four-sided polygon '\n",
      "                         'where opposite sides are equal in length \\n'\n",
      "                         '    and all angles are 90 degrees.   \\n'\n",
      "                         '    This class provides methods to calculate the '\n",
      "                         'area, perimeter, and to check if two rectangles \\n'\n",
      "                         '    are of the same size.    \\n'\n",
      "                         '    Attributes: length : float\\n'\n",
      "                         '        The length of the rectangle.\\n'\n",
      "                         '    width : float\\n'\n",
      "                         '        The width of the rectangle.\\n'\n",
      "                         '    ',\n",
      "              '__init__': <function Rectangle.__init__ at 0x0000021A9F7705E0>,\n",
      "              '__module__': '__main__',\n",
      "              '__repr__': <function Rectangle.__repr__ at 0x0000021A9F770680>,\n",
      "              '__str__': <function Rectangle.__str__ at 0x0000021A9F770720>,\n",
      "              '__weakref__': <attribute '__weakref__' of 'Rectangle' objects>,\n",
      "              'area': <function Rectangle.area at 0x0000021A9F7704A0>,\n",
      "              'perimeter': <function Rectangle.perimeter at 0x0000021A9F770540>})\n"
     ]
    }
   ],
   "source": [
    "pprint(vars(Rectangle))"
   ]
  },
  {
   "cell_type": "code",
   "execution_count": 70,
   "id": "24582bd6",
   "metadata": {},
   "outputs": [
    {
     "name": "stdout",
     "output_type": "stream",
     "text": [
      "{'length': 12, 'width': 10}\n",
      "{'length': 20, 'width': 15}\n"
     ]
    }
   ],
   "source": [
    "print(inst_1.__dict__)\n",
    "print(inst_2.__dict__)"
   ]
  },
  {
   "cell_type": "code",
   "execution_count": 71,
   "id": "73365589",
   "metadata": {},
   "outputs": [
    {
     "name": "stdout",
     "output_type": "stream",
     "text": [
      "Help on class Rectangle in module __main__:\n",
      "\n",
      "class Rectangle(builtins.object)\n",
      " |  Rectangle(length=2.0, width: float = 4.0)\n",
      " |  \n",
      " |  Represents a rectangle, a four-sided polygon where opposite sides are equal in length \n",
      " |  and all angles are 90 degrees.   \n",
      " |  This class provides methods to calculate the area, perimeter, and to check if two rectangles \n",
      " |  are of the same size.    \n",
      " |  Attributes: length : float\n",
      " |      The length of the rectangle.\n",
      " |  width : float\n",
      " |      The width of the rectangle.\n",
      " |  \n",
      " |  Methods defined here:\n",
      " |  \n",
      " |  __init__(self, length=2.0, width: float = 4.0)\n",
      " |      Initializes a Rectangle instance with specified length and width. \n",
      " |      Parameters: length : float\n",
      " |          The length of the rectangle.\n",
      " |      width : float\n",
      " |          The width of the rectangle.\n",
      " |  \n",
      " |  __repr__(self) -> str\n",
      " |      Returns a formal string representation of the Rectangle instance.\n",
      " |      Returns:  str\n",
      " |          A string with the class name, length, and width.\n",
      " |  \n",
      " |  __str__(self) -> str\n",
      " |      Returns an informal string representation of the Rectangle instance.\n",
      " |      Returns: str\n",
      " |          A description of the rectangle with its dimensions, area, and perimeter.\n",
      " |  \n",
      " |  area(self) -> float\n",
      " |      Calculates the area of the rectangle.   \n",
      " |      Returns: float\n",
      " |          The area of the rectangle.\n",
      " |  \n",
      " |  perimeter(self) -> float\n",
      " |      Calculates the perimeter of the rectangle.     \n",
      " |      Returns: float\n",
      " |          The perimeter of the rectangle.\n",
      " |  \n",
      " |  ----------------------------------------------------------------------\n",
      " |  Data descriptors defined here:\n",
      " |  \n",
      " |  __dict__\n",
      " |      dictionary for instance variables (if defined)\n",
      " |  \n",
      " |  __weakref__\n",
      " |      list of weak references to the object (if defined)\n",
      "\n"
     ]
    }
   ],
   "source": [
    "help(Rectangle)"
   ]
  },
  {
   "cell_type": "code",
   "execution_count": 72,
   "id": "d21cc0bc",
   "metadata": {},
   "outputs": [
    {
     "name": "stdout",
     "output_type": "stream",
     "text": [
      "\n",
      "    Represents a rectangle, a four-sided polygon where opposite sides are equal in length \n",
      "    and all angles are 90 degrees.   \n",
      "    This class provides methods to calculate the area, perimeter, and to check if two rectangles \n",
      "    are of the same size.    \n",
      "    Attributes: length : float\n",
      "        The length of the rectangle.\n",
      "    width : float\n",
      "        The width of the rectangle.\n",
      "    \n",
      "{'width': <class 'float'>}\n",
      "\n",
      "\n",
      "        Calculates the area of the rectangle.   \n",
      "        Returns: float\n",
      "            The area of the rectangle.\n",
      "        \n",
      "{'return': <class 'float'>}\n",
      "\n",
      "\n",
      "        Calculates the perimeter of the rectangle.     \n",
      "        Returns: float\n",
      "            The perimeter of the rectangle.\n",
      "        \n",
      "{'return': <class 'float'>}\n",
      "\n",
      "{'return': <class 'str'>}\n",
      "\n",
      "        Returns a formal string representation of the Rectangle instance.\n",
      "        Returns:  str\n",
      "            A string with the class name, length, and width.\n",
      "        \n",
      "\n",
      "{'return': <class 'str'>}\n",
      "\n",
      "        Returns an informal string representation of the Rectangle instance.\n",
      "        Returns: str\n",
      "            A description of the rectangle with its dimensions, area, and perimeter.\n",
      "        \n"
     ]
    }
   ],
   "source": [
    "print(Rectangle.__doc__)\n",
    "print(Rectangle.__init__.__annotations__)\n",
    "print()\n",
    "print(Rectangle.area.__doc__)\n",
    "print(Rectangle.area.__annotations__)\n",
    "print()\n",
    "print(Rectangle.perimeter.__doc__)\n",
    "print(Rectangle.perimeter.__annotations__)\n",
    "print()\n",
    "print(Rectangle.__repr__.__annotations__)\n",
    "print(Rectangle.__repr__.__doc__)\n",
    "print()\n",
    "print(Rectangle.__str__.__annotations__)\n",
    "print(Rectangle.__str__.__doc__)"
   ]
  },
  {
   "cell_type": "code",
   "execution_count": 73,
   "id": "8bc0c548",
   "metadata": {},
   "outputs": [],
   "source": [
    "inst_3 = Rectangle()"
   ]
  },
  {
   "cell_type": "code",
   "execution_count": 74,
   "id": "5db5446c",
   "metadata": {},
   "outputs": [
    {
     "name": "stdout",
     "output_type": "stream",
     "text": [
      "Rectangle with length = 2.0, width = 4.0\n"
     ]
    },
    {
     "data": {
      "text/plain": [
       "Rectangle(length=2.0, width=4.0)"
      ]
     },
     "execution_count": 74,
     "metadata": {},
     "output_type": "execute_result"
    }
   ],
   "source": [
    "print(inst_3)\n",
    "inst_3"
   ]
  },
  {
   "cell_type": "markdown",
   "id": "6e056509",
   "metadata": {},
   "source": [
    "# Class Definition: Triangle\n",
    "\n",
    "## Problem Requirements\n",
    "1. **Class Definition**:\n",
    "   - Define a `Triangle` class with an appropriate `__init__` method to initialize the three sides.\n",
    "2. **Property Methods**:\n",
    "   - Add properties for **area** and **perimeter**.\n",
    "3. **Instance Methods**:\n",
    "   - Add a method to check if the triangle is valid.\n",
    "   - Add a method to determine the type of triangle (e.g., equilateral, isosceles, or scalene).\n",
    "4. **String Representation**:\n",
    "   - Implement `__repr__` and `__str__` methods for the class.\n",
    "5. **Annotations and Documentation**:\n",
    "   - Use type annotations and provide docstrings for the class and its methods.\n"
   ]
  },
  {
   "cell_type": "code",
   "execution_count": 75,
   "id": "a611ad2a",
   "metadata": {},
   "outputs": [],
   "source": [
    "class Triangle:\n",
    "    \"\"\"\n",
    "    Represents a Triangle, a three side of equal  length   \n",
    "    This class provides methods to calculate the area, perimeter\n",
    "    \"\"\"\n",
    "    def __init__(self, a: float = 1.0, b: float = 1.0, c: float = 1.0) -> None:\n",
    "        \"\"\"To initiate the triangle with specific three side of equal length\"\"\"\n",
    "        self.a = a\n",
    "        self.b = b\n",
    "        self.c = c\n",
    "    def area(self) -> float:\n",
    "        \"\"\"To calculate  the area of the triangle\"\"\"\n",
    "        s = (self.a + self.b + self.c) / 2\n",
    "        return math.sqrt(s * (s - self.a) * (s - self.b) * (s - self.c))\n",
    "\n",
    "    def perimeter(self) -> float:\n",
    "        \"\"\"To calculate the perimeter of the triangle\"\"\"\n",
    "        return self.a + self.b + self.c\n",
    "\n",
    "    def __repr__(self) -> str:\n",
    "        \"\"\"Returns an informal string representation of the triagnle instance.\"\"\"\n",
    "\n",
    "        return f\"Triangle(a={self.a}, b={self.b}, c={self.c})\"\n",
    "\n",
    "    def __str__(self) -> str:\n",
    "        \"\"\"Returns a formal string representation of the triangle instance.\"\"\"\n",
    "        return (f\"Triangle with sides: a={self.a}, b={self.b}, c={self.c}\")\n"
   ]
  },
  {
   "cell_type": "code",
   "execution_count": 76,
   "id": "d3675aab",
   "metadata": {},
   "outputs": [],
   "source": [
    "t_1 = Triangle(9, 2, 6)\n",
    "t_2 = Triangle(7, 5, 3)"
   ]
  },
  {
   "cell_type": "code",
   "execution_count": 77,
   "id": "5ec5f3e3",
   "metadata": {},
   "outputs": [
    {
     "name": "stdout",
     "output_type": "stream",
     "text": [
      "Triangle with sides: a=9, b=2, c=6\n",
      "Triangle with sides: a=7, b=5, c=3\n"
     ]
    }
   ],
   "source": [
    "print(t_1)\n",
    "print(t_2)"
   ]
  },
  {
   "cell_type": "code",
   "execution_count": 78,
   "id": "144c0c50",
   "metadata": {},
   "outputs": [
    {
     "data": {
      "text/plain": [
       "Triangle(a=9, b=2, c=6)"
      ]
     },
     "execution_count": 78,
     "metadata": {},
     "output_type": "execute_result"
    }
   ],
   "source": [
    "t_1"
   ]
  },
  {
   "cell_type": "code",
   "execution_count": 79,
   "id": "fe17dc3a",
   "metadata": {},
   "outputs": [
    {
     "data": {
      "text/plain": [
       "Triangle(a=7, b=5, c=3)"
      ]
     },
     "execution_count": 79,
     "metadata": {},
     "output_type": "execute_result"
    }
   ],
   "source": [
    "t_2"
   ]
  },
  {
   "cell_type": "code",
   "execution_count": 80,
   "id": "a3c7bb1f",
   "metadata": {},
   "outputs": [
    {
     "name": "stdout",
     "output_type": "stream",
     "text": [
      "mappingproxy({'__dict__': <attribute '__dict__' of 'Triangle' objects>,\n",
      "              '__doc__': '\\n'\n",
      "                         '    Represents a Triangle, a three side of equal  '\n",
      "                         'length   \\n'\n",
      "                         '    This class provides methods to calculate the '\n",
      "                         'area, perimeter\\n'\n",
      "                         '    ',\n",
      "              '__init__': <function Triangle.__init__ at 0x0000021A9F770220>,\n",
      "              '__module__': '__main__',\n",
      "              '__repr__': <function Triangle.__repr__ at 0x0000021A9F770AE0>,\n",
      "              '__str__': <function Triangle.__str__ at 0x0000021A9F770900>,\n",
      "              '__weakref__': <attribute '__weakref__' of 'Triangle' objects>,\n",
      "              'area': <function Triangle.area at 0x0000021A9F770860>,\n",
      "              'perimeter': <function Triangle.perimeter at 0x0000021A9F7707C0>})\n"
     ]
    }
   ],
   "source": [
    "from  pprint import pprint\n",
    "pprint(Triangle.__dict__)"
   ]
  },
  {
   "cell_type": "code",
   "execution_count": 81,
   "id": "64f645dc",
   "metadata": {},
   "outputs": [
    {
     "name": "stdout",
     "output_type": "stream",
     "text": [
      "mappingproxy({'__dict__': <attribute '__dict__' of 'Triangle' objects>,\n",
      "              '__doc__': '\\n'\n",
      "                         '    Represents a Triangle, a three side of equal  '\n",
      "                         'length   \\n'\n",
      "                         '    This class provides methods to calculate the '\n",
      "                         'area, perimeter\\n'\n",
      "                         '    ',\n",
      "              '__init__': <function Triangle.__init__ at 0x0000021A9F770220>,\n",
      "              '__module__': '__main__',\n",
      "              '__repr__': <function Triangle.__repr__ at 0x0000021A9F770AE0>,\n",
      "              '__str__': <function Triangle.__str__ at 0x0000021A9F770900>,\n",
      "              '__weakref__': <attribute '__weakref__' of 'Triangle' objects>,\n",
      "              'area': <function Triangle.area at 0x0000021A9F770860>,\n",
      "              'perimeter': <function Triangle.perimeter at 0x0000021A9F7707C0>})\n"
     ]
    }
   ],
   "source": [
    "pprint(vars(Triangle))"
   ]
  },
  {
   "cell_type": "code",
   "execution_count": 82,
   "id": "cc643a9f",
   "metadata": {},
   "outputs": [
    {
     "name": "stdout",
     "output_type": "stream",
     "text": [
      "{'a': 9, 'b': 2, 'c': 6}\n",
      "{'a': 7, 'b': 5, 'c': 3}\n"
     ]
    }
   ],
   "source": [
    "print(t_1.__dict__)\n",
    "print(t_2.__dict__)"
   ]
  },
  {
   "cell_type": "code",
   "execution_count": 83,
   "id": "6b25660f",
   "metadata": {},
   "outputs": [
    {
     "name": "stdout",
     "output_type": "stream",
     "text": [
      "Help on class Triangle in module __main__:\n",
      "\n",
      "class Triangle(builtins.object)\n",
      " |  Triangle(a: float = 1.0, b: float = 1.0, c: float = 1.0) -> None\n",
      " |  \n",
      " |  Represents a Triangle, a three side of equal  length   \n",
      " |  This class provides methods to calculate the area, perimeter\n",
      " |  \n",
      " |  Methods defined here:\n",
      " |  \n",
      " |  __init__(self, a: float = 1.0, b: float = 1.0, c: float = 1.0) -> None\n",
      " |      To initiate the triangle with specific three side of equal length\n",
      " |  \n",
      " |  __repr__(self) -> str\n",
      " |      Returns an informal string representation of the triagnle instance.\n",
      " |  \n",
      " |  __str__(self) -> str\n",
      " |      Returns a formal string representation of the triangle instance.\n",
      " |  \n",
      " |  area(self) -> float\n",
      " |      To calculate  the area of the triangle\n",
      " |  \n",
      " |  perimeter(self) -> float\n",
      " |      To calculate the perimeter of the triangle\n",
      " |  \n",
      " |  ----------------------------------------------------------------------\n",
      " |  Data descriptors defined here:\n",
      " |  \n",
      " |  __dict__\n",
      " |      dictionary for instance variables (if defined)\n",
      " |  \n",
      " |  __weakref__\n",
      " |      list of weak references to the object (if defined)\n",
      "\n"
     ]
    }
   ],
   "source": [
    "help(Triangle)"
   ]
  },
  {
   "cell_type": "code",
   "execution_count": 84,
   "id": "00f36702",
   "metadata": {},
   "outputs": [
    {
     "name": "stdout",
     "output_type": "stream",
     "text": [
      "\n",
      "    Represents a Triangle, a three side of equal  length   \n",
      "    This class provides methods to calculate the area, perimeter\n",
      "    \n",
      "{'a': <class 'float'>, 'b': <class 'float'>, 'c': <class 'float'>, 'return': None}\n",
      "\n",
      "To calculate  the area of the triangle\n",
      "{'return': <class 'float'>}\n",
      "\n",
      "To calculate the perimeter of the triangle\n",
      "{'return': <class 'float'>}\n",
      "\n",
      "{'return': <class 'str'>}\n",
      "Returns an informal string representation of the triagnle instance.\n",
      "\n",
      "{'return': <class 'str'>}\n",
      "Returns a formal string representation of the triangle instance.\n"
     ]
    }
   ],
   "source": [
    "print(Triangle.__doc__)\n",
    "print(Triangle.__init__.__annotations__)\n",
    "print()\n",
    "print(Triangle.area.__doc__)\n",
    "print(Triangle.area.__annotations__)\n",
    "print()\n",
    "print(Triangle.perimeter.__doc__)\n",
    "print(Triangle.perimeter.__annotations__)\n",
    "print()\n",
    "print(Triangle.__repr__.__annotations__)\n",
    "print(Triangle.__repr__.__doc__)\n",
    "print()\n",
    "print(Triangle.__str__.__annotations__)\n",
    "print(Triangle.__str__.__doc__)"
   ]
  },
  {
   "cell_type": "code",
   "execution_count": 85,
   "id": "8bc20834",
   "metadata": {},
   "outputs": [],
   "source": [
    "t_3 = Triangle()"
   ]
  },
  {
   "cell_type": "code",
   "execution_count": 86,
   "id": "951b5c21",
   "metadata": {},
   "outputs": [
    {
     "name": "stdout",
     "output_type": "stream",
     "text": [
      "Triangle with sides: a=1.0, b=1.0, c=1.0\n"
     ]
    },
    {
     "data": {
      "text/plain": [
       "Triangle(a=1.0, b=1.0, c=1.0)"
      ]
     },
     "execution_count": 86,
     "metadata": {},
     "output_type": "execute_result"
    }
   ],
   "source": [
    "print(t_3)\n",
    "t_3"
   ]
  },
  {
   "cell_type": "markdown",
   "id": "9c8ab4c5",
   "metadata": {},
   "source": [
    "# Class Definition: Trapezoid\n",
    "\n",
    "## Problem Requirements\n",
    "1. **Class Definition**:\n",
    "   - Define a `Trapezoid` class with an appropriate `__init__` method to initialize the lengths of the bases and the height.\n",
    "2. **Property Methods**:\n",
    "   - Add properties for **area** and **perimeter**.\n",
    "3. **Instance Methods**:\n",
    "   - Add a method to check if the trapezoid is an isosceles trapezoid.\n",
    "4. **String Representation**:\n",
    "   - Implement `__repr__` and `__str__` methods for the class.\n",
    "5. **Annotations and Documentation**:\n",
    "   - Use type annotations and provide docstrings for the class and its methods.\n"
   ]
  },
  {
   "cell_type": "code",
   "execution_count": 87,
   "id": "ce9f9699",
   "metadata": {},
   "outputs": [],
   "source": [
    "class Trapezoid:\n",
    "    \"\"\"A class represent Trapezoid with two  bases and heigth\"\"\"\n",
    "    def __init__(self, base1: float = 1.0, base2: float = 1.0, height: float = 1.0) -> None:\n",
    "        \"\"\"To initate the class with specific value of bases and heigth\"\"\"\n",
    "        self.base1 = base1\n",
    "        self.base2 = base2\n",
    "        self.height = height\n",
    "    def area(self) -> float:\n",
    "        \"\"\"To calculate the area of trapezoid\"\"\"\n",
    "        return (self.base1 + self.base2) * self.height / 2\n",
    "\n",
    "    def perimeter(self) -> float:\n",
    "        \"\"\"To  calculate the perimeter of a trapezoid\"\"\"\n",
    "        raise NotImplementedError(\"Perimeter calculation requires lengths of non-parallel sides.\")\n",
    "\n",
    "    def __repr__(self) -> str:\n",
    "        \"\"\"Returns an informal string representation of the trapezoid instance.\"\"\"\n",
    "        return f\"Trapezoid(base1={self.base1}, base2={self.base2}, height={self.height})\"\n",
    "\n",
    "    def __str__(self) -> str:\n",
    "        \"\"\"Returns a formal string representation of the trapezoid instance.\"\"\"\n",
    "        return (f\"Trapezoid with base1: {self.base1}, base2: {self.base2}, \"\n",
    "                f\"height: {self.height}, area: {self.area}\")\n"
   ]
  },
  {
   "cell_type": "code",
   "execution_count": 88,
   "id": "e07f12ab",
   "metadata": {},
   "outputs": [],
   "source": [
    "trapezoid = Trapezoid(base1=2, base2=4, height=6)"
   ]
  },
  {
   "cell_type": "code",
   "execution_count": 89,
   "id": "7508dca0",
   "metadata": {},
   "outputs": [
    {
     "name": "stdout",
     "output_type": "stream",
     "text": [
      "Trapezoid with base1: 2, base2: 4, height: 6, area: <bound method Trapezoid.area of Trapezoid(base1=2, base2=4, height=6)>\n"
     ]
    }
   ],
   "source": [
    "print(trapezoid)"
   ]
  },
  {
   "cell_type": "code",
   "execution_count": 90,
   "id": "796e5da0",
   "metadata": {},
   "outputs": [
    {
     "data": {
      "text/plain": [
       "Trapezoid(base1=2, base2=4, height=6)"
      ]
     },
     "execution_count": 90,
     "metadata": {},
     "output_type": "execute_result"
    }
   ],
   "source": [
    "trapezoid"
   ]
  },
  {
   "cell_type": "code",
   "execution_count": 91,
   "id": "f3886fc4",
   "metadata": {},
   "outputs": [
    {
     "name": "stdout",
     "output_type": "stream",
     "text": [
      "mappingproxy({'__dict__': <attribute '__dict__' of 'Trapezoid' objects>,\n",
      "              '__doc__': 'A class represent Trapezoid with two  bases and '\n",
      "                         'heigth',\n",
      "              '__init__': <function Trapezoid.__init__ at 0x0000021A9F770C20>,\n",
      "              '__module__': '__main__',\n",
      "              '__repr__': <function Trapezoid.__repr__ at 0x0000021A9F770F40>,\n",
      "              '__str__': <function Trapezoid.__str__ at 0x0000021A9F770EA0>,\n",
      "              '__weakref__': <attribute '__weakref__' of 'Trapezoid' objects>,\n",
      "              'area': <function Trapezoid.area at 0x0000021A9F770A40>,\n",
      "              'perimeter': <function Trapezoid.perimeter at 0x0000021A9F770D60>})\n"
     ]
    }
   ],
   "source": [
    "from pprint import pprint\n",
    "pprint(Trapezoid.__dict__)"
   ]
  },
  {
   "cell_type": "code",
   "execution_count": 92,
   "id": "4d872998",
   "metadata": {},
   "outputs": [
    {
     "name": "stdout",
     "output_type": "stream",
     "text": [
      "mappingproxy({'__dict__': <attribute '__dict__' of 'Trapezoid' objects>,\n",
      "              '__doc__': 'A class represent Trapezoid with two  bases and '\n",
      "                         'heigth',\n",
      "              '__init__': <function Trapezoid.__init__ at 0x0000021A9F770C20>,\n",
      "              '__module__': '__main__',\n",
      "              '__repr__': <function Trapezoid.__repr__ at 0x0000021A9F770F40>,\n",
      "              '__str__': <function Trapezoid.__str__ at 0x0000021A9F770EA0>,\n",
      "              '__weakref__': <attribute '__weakref__' of 'Trapezoid' objects>,\n",
      "              'area': <function Trapezoid.area at 0x0000021A9F770A40>,\n",
      "              'perimeter': <function Trapezoid.perimeter at 0x0000021A9F770D60>})\n"
     ]
    }
   ],
   "source": [
    "pprint(vars(Trapezoid))"
   ]
  },
  {
   "cell_type": "code",
   "execution_count": 93,
   "id": "b191642a",
   "metadata": {},
   "outputs": [
    {
     "name": "stdout",
     "output_type": "stream",
     "text": [
      "{'base1': 2, 'base2': 4, 'height': 6}\n"
     ]
    }
   ],
   "source": [
    "print(trapezoid.__dict__)"
   ]
  },
  {
   "cell_type": "code",
   "execution_count": 94,
   "id": "69db7a71",
   "metadata": {},
   "outputs": [
    {
     "name": "stdout",
     "output_type": "stream",
     "text": [
      "Help on Trapezoid in module __main__ object:\n",
      "\n",
      "class Trapezoid(builtins.object)\n",
      " |  Trapezoid(base1: float = 1.0, base2: float = 1.0, height: float = 1.0) -> None\n",
      " |  \n",
      " |  A class represent Trapezoid with two  bases and heigth\n",
      " |  \n",
      " |  Methods defined here:\n",
      " |  \n",
      " |  __init__(self, base1: float = 1.0, base2: float = 1.0, height: float = 1.0) -> None\n",
      " |      To initate the class with specific value of bases and heigth\n",
      " |  \n",
      " |  __repr__(self) -> str\n",
      " |      Returns an informal string representation of the trapezoid instance.\n",
      " |  \n",
      " |  __str__(self) -> str\n",
      " |      Returns a formal string representation of the trapezoid instance.\n",
      " |  \n",
      " |  area(self) -> float\n",
      " |      To calculate the area of trapezoid\n",
      " |  \n",
      " |  perimeter(self) -> float\n",
      " |      To  calculate the perimeter of a trapezoid\n",
      " |  \n",
      " |  ----------------------------------------------------------------------\n",
      " |  Data descriptors defined here:\n",
      " |  \n",
      " |  __dict__\n",
      " |      dictionary for instance variables (if defined)\n",
      " |  \n",
      " |  __weakref__\n",
      " |      list of weak references to the object (if defined)\n",
      "\n"
     ]
    }
   ],
   "source": [
    "help(trapezoid)"
   ]
  },
  {
   "cell_type": "code",
   "execution_count": 95,
   "id": "3dbed6ee",
   "metadata": {},
   "outputs": [
    {
     "name": "stdout",
     "output_type": "stream",
     "text": [
      "A class represent Trapezoid with two  bases and heigth\n",
      "{'base1': <class 'float'>, 'base2': <class 'float'>, 'height': <class 'float'>, 'return': None}\n",
      "\n",
      "To calculate the area of trapezoid\n",
      "{'return': <class 'float'>}\n",
      "\n",
      "To  calculate the perimeter of a trapezoid\n",
      "{'return': <class 'float'>}\n",
      "\n",
      "{'return': <class 'str'>}\n",
      "Returns an informal string representation of the trapezoid instance.\n",
      "\n",
      "{'return': <class 'str'>}\n",
      "Returns a formal string representation of the trapezoid instance.\n"
     ]
    }
   ],
   "source": [
    "print(Trapezoid.__doc__)\n",
    "print(Trapezoid.__init__.__annotations__)\n",
    "print()\n",
    "print(Trapezoid.area.__doc__)\n",
    "print(Trapezoid.area.__annotations__)\n",
    "print()\n",
    "print(Trapezoid.perimeter.__doc__)\n",
    "print(Trapezoid.perimeter.__annotations__)\n",
    "print()\n",
    "print(Trapezoid.__repr__.__annotations__)\n",
    "print(Trapezoid.__repr__.__doc__)\n",
    "print()\n",
    "print(Trapezoid.__str__.__annotations__)\n",
    "print(Trapezoid.__str__.__doc__)"
   ]
  },
  {
   "cell_type": "markdown",
   "id": "bcabceea",
   "metadata": {},
   "source": [
    "# Class Definition: Parallelogram\n",
    "\n",
    "## Problem Requirements\n",
    "1. **Class Definition**:\n",
    "   - Define a `Parallelogram` class with an appropriate `__init__` method to initialize the base length, height, and the side lengths.\n",
    "2. **Property Methods**:\n",
    "   - Add properties for **area** and **perimeter**.\n",
    "3. **Instance Methods**:\n",
    "   - Add a method to check if the parallelogram is a rhombus (all sides equal).\n",
    "4. **String Representation**:\n",
    "   - Implement `__repr__` and `__str__` methods for the class.\n",
    "5. **Annotations and Documentation**:\n",
    "   - Use type annotations and provide docstrings for the class and its methods.\n"
   ]
  },
  {
   "cell_type": "code",
   "execution_count": 96,
   "id": "fa97eac3",
   "metadata": {},
   "outputs": [],
   "source": [
    "class Parallelogram:\n",
    "    \"\"\"A Class which represent Parallelogram with one base and height \"\"\"\n",
    "    def __init__(self, base: float = 1.0, height: float = 1.0) -> None:\n",
    "        self.base = base\n",
    "        self.height = height\n",
    "    def area(self) -> float:\n",
    "        \"\"\"To calculate the area of the Parallelogram\"\"\"\n",
    "        return self.base * self.height\n",
    "    def perimeter(self) -> float:\n",
    "        \"\"\"To calculate the perimeter of Parallelogram\"\"\"\n",
    "        return 2 * (self.base + self.height)\n",
    "            \n",
    "    def __repr__(self) -> str:\n",
    "        \"\"\"Return a string representation of the rhombus.\"\"\"\n",
    "        return f\"Parallelogram(base={self.base}, height={self.height})\"\n",
    "\n",
    "    def __str__(self) -> str:\n",
    "        \"\"\"Return a user-friendly string representation of the rhombus.\"\"\"\n",
    "        return (f\"Parallelogram with base: {self.base}, height: {self.height}\")\n"
   ]
  },
  {
   "cell_type": "code",
   "execution_count": 97,
   "id": "54426973",
   "metadata": {},
   "outputs": [],
   "source": [
    "p_1 = Parallelogram(base=6, height=9)\n",
    "p_2 = Parallelogram(base=4, height=7)"
   ]
  },
  {
   "cell_type": "code",
   "execution_count": 98,
   "id": "92be976a",
   "metadata": {},
   "outputs": [
    {
     "name": "stdout",
     "output_type": "stream",
     "text": [
      "Parallelogram with base: 6, height: 9\n",
      "Parallelogram with base: 4, height: 7\n"
     ]
    }
   ],
   "source": [
    "print(p_1)\n",
    "print(p_2)"
   ]
  },
  {
   "cell_type": "code",
   "execution_count": 99,
   "id": "dd81a1fe",
   "metadata": {},
   "outputs": [
    {
     "data": {
      "text/plain": [
       "Parallelogram(base=6, height=9)"
      ]
     },
     "execution_count": 99,
     "metadata": {},
     "output_type": "execute_result"
    }
   ],
   "source": [
    "p_1"
   ]
  },
  {
   "cell_type": "code",
   "execution_count": 100,
   "id": "c253bb58",
   "metadata": {},
   "outputs": [
    {
     "data": {
      "text/plain": [
       "Parallelogram(base=4, height=7)"
      ]
     },
     "execution_count": 100,
     "metadata": {},
     "output_type": "execute_result"
    }
   ],
   "source": [
    "p_2"
   ]
  },
  {
   "cell_type": "code",
   "execution_count": 101,
   "id": "83d38fe9",
   "metadata": {},
   "outputs": [
    {
     "name": "stdout",
     "output_type": "stream",
     "text": [
      "mappingproxy({'__dict__': <attribute '__dict__' of 'Parallelogram' objects>,\n",
      "              '__doc__': 'A Class which represent Parallelogram with one base '\n",
      "                         'and height ',\n",
      "              '__init__': <function Parallelogram.__init__ at 0x0000021A9F771260>,\n",
      "              '__module__': '__main__',\n",
      "              '__repr__': <function Parallelogram.__repr__ at 0x0000021A9F771440>,\n",
      "              '__str__': <function Parallelogram.__str__ at 0x0000021A9F771300>,\n",
      "              '__weakref__': <attribute '__weakref__' of 'Parallelogram' objects>,\n",
      "              'area': <function Parallelogram.area at 0x0000021A9F770CC0>,\n",
      "              'perimeter': <function Parallelogram.perimeter at 0x0000021A9F771120>})\n"
     ]
    }
   ],
   "source": [
    "pprint(Parallelogram.__dict__)"
   ]
  },
  {
   "cell_type": "code",
   "execution_count": 102,
   "id": "811970f2",
   "metadata": {},
   "outputs": [
    {
     "name": "stdout",
     "output_type": "stream",
     "text": [
      "mappingproxy({'__dict__': <attribute '__dict__' of 'Parallelogram' objects>,\n",
      "              '__doc__': 'A Class which represent Parallelogram with one base '\n",
      "                         'and height ',\n",
      "              '__init__': <function Parallelogram.__init__ at 0x0000021A9F771260>,\n",
      "              '__module__': '__main__',\n",
      "              '__repr__': <function Parallelogram.__repr__ at 0x0000021A9F771440>,\n",
      "              '__str__': <function Parallelogram.__str__ at 0x0000021A9F771300>,\n",
      "              '__weakref__': <attribute '__weakref__' of 'Parallelogram' objects>,\n",
      "              'area': <function Parallelogram.area at 0x0000021A9F770CC0>,\n",
      "              'perimeter': <function Parallelogram.perimeter at 0x0000021A9F771120>})\n"
     ]
    }
   ],
   "source": [
    "pprint(vars(Parallelogram))"
   ]
  },
  {
   "cell_type": "code",
   "execution_count": 103,
   "id": "2fad5fa8",
   "metadata": {},
   "outputs": [
    {
     "name": "stdout",
     "output_type": "stream",
     "text": [
      "Help on class Parallelogram in module __main__:\n",
      "\n",
      "class Parallelogram(builtins.object)\n",
      " |  Parallelogram(base: float = 1.0, height: float = 1.0) -> None\n",
      " |  \n",
      " |  A Class which represent Parallelogram with one base and height\n",
      " |  \n",
      " |  Methods defined here:\n",
      " |  \n",
      " |  __init__(self, base: float = 1.0, height: float = 1.0) -> None\n",
      " |      Initialize self.  See help(type(self)) for accurate signature.\n",
      " |  \n",
      " |  __repr__(self) -> str\n",
      " |      Return a string representation of the rhombus.\n",
      " |  \n",
      " |  __str__(self) -> str\n",
      " |      Return a user-friendly string representation of the rhombus.\n",
      " |  \n",
      " |  area(self) -> float\n",
      " |      To calculate the area of the Parallelogram\n",
      " |  \n",
      " |  perimeter(self) -> float\n",
      " |      To calculate the perimeter of Parallelogram\n",
      " |  \n",
      " |  ----------------------------------------------------------------------\n",
      " |  Data descriptors defined here:\n",
      " |  \n",
      " |  __dict__\n",
      " |      dictionary for instance variables (if defined)\n",
      " |  \n",
      " |  __weakref__\n",
      " |      list of weak references to the object (if defined)\n",
      "\n"
     ]
    }
   ],
   "source": [
    "help(Parallelogram)"
   ]
  },
  {
   "cell_type": "code",
   "execution_count": 104,
   "id": "5fc7676a",
   "metadata": {},
   "outputs": [
    {
     "name": "stdout",
     "output_type": "stream",
     "text": [
      "A Class which represent Parallelogram with one base and height \n",
      "{'base': <class 'float'>, 'height': <class 'float'>, 'return': None}\n",
      "To calculate the area of the Parallelogram\n",
      "{'return': <class 'float'>}\n",
      "To calculate the perimeter of Parallelogram\n",
      "{'return': <class 'float'>}\n",
      "{'return': <class 'str'>}\n",
      "Return a string representation of the rhombus.\n",
      "{'return': <class 'str'>}\n",
      "Return a user-friendly string representation of the rhombus.\n"
     ]
    }
   ],
   "source": [
    "print(Parallelogram.__doc__)\n",
    "print(Parallelogram.__init__.__annotations__)\n",
    "print(Parallelogram.area.__doc__)\n",
    "print(Parallelogram.area.__annotations__)\n",
    "print(Parallelogram.perimeter.__doc__)\n",
    "print(Parallelogram.perimeter.__annotations__)\n",
    "print(Parallelogram.__repr__.__annotations__)\n",
    "print(Parallelogram.__repr__.__doc__)\n",
    "print(Parallelogram.__str__.__annotations__)\n",
    "print(Parallelogram.__str__.__doc__)"
   ]
  },
  {
   "cell_type": "code",
   "execution_count": 105,
   "id": "4a3eabc1",
   "metadata": {},
   "outputs": [],
   "source": [
    "p_3 = Parallelogram()"
   ]
  },
  {
   "cell_type": "code",
   "execution_count": 106,
   "id": "e2d54c10",
   "metadata": {},
   "outputs": [
    {
     "name": "stdout",
     "output_type": "stream",
     "text": [
      "Parallelogram with base: 1.0, height: 1.0\n"
     ]
    },
    {
     "data": {
      "text/plain": [
       "Parallelogram(base=1.0, height=1.0)"
      ]
     },
     "execution_count": 106,
     "metadata": {},
     "output_type": "execute_result"
    }
   ],
   "source": [
    "print(p_3)\n",
    "p_3"
   ]
  },
  {
   "cell_type": "markdown",
   "id": "7254c7fd",
   "metadata": {},
   "source": [
    "# Class Definition: Rhombus\n",
    "\n",
    "## Problem Requirements\n",
    "1. **Class Definition**:\n",
    "   - Define a `Rhombus` class with an appropriate `__init__` method to initialize the side length and diagonals.\n",
    "2. **Property Methods**:\n",
    "   - Add properties for **area** and **perimeter**.\n",
    "3. **Instance Methods**:\n",
    "   - Add a method to check if the rhombus is a square (all angles 90 degrees).\n",
    "4. **String Representation**:\n",
    "   - Implement `__repr__` and `__str__` methods for the class.\n",
    "5. **Annotations and Documentation**:\n",
    "   - Use type annotations and provide docstrings for the class and its methods.\n"
   ]
  },
  {
   "cell_type": "code",
   "execution_count": 107,
   "id": "f9efdb9b",
   "metadata": {},
   "outputs": [],
   "source": [
    "class Rhombus:\n",
    "    \"\"\"A class to represent a rhombus, a parallelogram with all sides equal.\"\"\"\n",
    "    \n",
    "    def __init__(self, side_length: float = 1.0, height: float = 1.0) -> None:\n",
    "        \"\"\"Initialize the rhombus with the length of its sides and height.\n",
    "        \n",
    "        Args:\n",
    "            side_length (float): Length of each side. Defaults to 1.0.\n",
    "            height (float): Height of the rhombus. Defaults to 1.0.\n",
    "        \"\"\"\n",
    "        self.side_length = side_length\n",
    "        self.height = height\n",
    "    def area(self) -> float:\n",
    "        \"\"\"Calculate the area of the rhombus.\"\"\"\n",
    "        return self.side_length * self.height\n",
    "\n",
    "    def perimeter(self) -> float:\n",
    "        \"\"\"Calculate the perimeter of the rhombus.\"\"\"\n",
    "        return 4 * self.side_length\n",
    "\n",
    "    def __repr__(self) -> str:\n",
    "        \"\"\"Return a string representation of the rhombus.\"\"\"\n",
    "        return f\"Rhombus(side_length={self.side_length}, height={self.height})\"\n",
    "\n",
    "    def __str__(self) -> str:\n",
    "        \"\"\"Return a user-friendly string representation of the rhombus.\"\"\"\n",
    "        return (f\"Rhombus with side length: {self.side_length}, height: {self.height}\")\n"
   ]
  },
  {
   "cell_type": "code",
   "execution_count": 108,
   "id": "668bbd32",
   "metadata": {},
   "outputs": [],
   "source": [
    "R_1 = Rhombus(3, 2)\n",
    "R_2 = Rhombus(9, 6)"
   ]
  },
  {
   "cell_type": "code",
   "execution_count": 109,
   "id": "a69fff1b",
   "metadata": {},
   "outputs": [
    {
     "name": "stdout",
     "output_type": "stream",
     "text": [
      "Rhombus with side length: 3, height: 2\n",
      "Rhombus with side length: 9, height: 6\n"
     ]
    }
   ],
   "source": [
    "print(R_1)\n",
    "print(R_2)"
   ]
  },
  {
   "cell_type": "code",
   "execution_count": 110,
   "id": "592aecce",
   "metadata": {},
   "outputs": [
    {
     "data": {
      "text/plain": [
       "Rhombus(side_length=3, height=2)"
      ]
     },
     "execution_count": 110,
     "metadata": {},
     "output_type": "execute_result"
    }
   ],
   "source": [
    "R_1"
   ]
  },
  {
   "cell_type": "code",
   "execution_count": 111,
   "id": "dc1a9e95",
   "metadata": {},
   "outputs": [
    {
     "data": {
      "text/plain": [
       "Rhombus(side_length=9, height=6)"
      ]
     },
     "execution_count": 111,
     "metadata": {},
     "output_type": "execute_result"
    }
   ],
   "source": [
    "R_2"
   ]
  },
  {
   "cell_type": "code",
   "execution_count": 112,
   "id": "085a72a9",
   "metadata": {},
   "outputs": [
    {
     "name": "stdout",
     "output_type": "stream",
     "text": [
      "mappingproxy({'__dict__': <attribute '__dict__' of 'Rhombus' objects>,\n",
      "              '__doc__': 'A class to represent a rhombus, a parallelogram with '\n",
      "                         'all sides equal.',\n",
      "              '__init__': <function Rhombus.__init__ at 0x0000021A9F771800>,\n",
      "              '__module__': '__main__',\n",
      "              '__repr__': <function Rhombus.__repr__ at 0x0000021A9F771B20>,\n",
      "              '__str__': <function Rhombus.__str__ at 0x0000021A9F771BC0>,\n",
      "              '__weakref__': <attribute '__weakref__' of 'Rhombus' objects>,\n",
      "              'area': <function Rhombus.area at 0x0000021A9F7718A0>,\n",
      "              'perimeter': <function Rhombus.perimeter at 0x0000021A9F771A80>})\n"
     ]
    }
   ],
   "source": [
    "pprint(Rhombus.__dict__)"
   ]
  },
  {
   "cell_type": "code",
   "execution_count": 113,
   "id": "3a0b51ce",
   "metadata": {},
   "outputs": [
    {
     "name": "stdout",
     "output_type": "stream",
     "text": [
      "mappingproxy({'__dict__': <attribute '__dict__' of 'Rhombus' objects>,\n",
      "              '__doc__': 'A class to represent a rhombus, a parallelogram with '\n",
      "                         'all sides equal.',\n",
      "              '__init__': <function Rhombus.__init__ at 0x0000021A9F771800>,\n",
      "              '__module__': '__main__',\n",
      "              '__repr__': <function Rhombus.__repr__ at 0x0000021A9F771B20>,\n",
      "              '__str__': <function Rhombus.__str__ at 0x0000021A9F771BC0>,\n",
      "              '__weakref__': <attribute '__weakref__' of 'Rhombus' objects>,\n",
      "              'area': <function Rhombus.area at 0x0000021A9F7718A0>,\n",
      "              'perimeter': <function Rhombus.perimeter at 0x0000021A9F771A80>})\n"
     ]
    }
   ],
   "source": [
    "pprint(vars(Rhombus))"
   ]
  },
  {
   "cell_type": "code",
   "execution_count": 114,
   "id": "a0a4eb3d",
   "metadata": {},
   "outputs": [
    {
     "name": "stdout",
     "output_type": "stream",
     "text": [
      "{'side_length': 3, 'height': 2}\n",
      "{'side_length': 9, 'height': 6}\n"
     ]
    }
   ],
   "source": [
    "print(R_1.__dict__)\n",
    "print(R_2.__dict__)"
   ]
  },
  {
   "cell_type": "code",
   "execution_count": 115,
   "id": "5b148b9b",
   "metadata": {},
   "outputs": [
    {
     "name": "stdout",
     "output_type": "stream",
     "text": [
      "Help on class Rhombus in module __main__:\n",
      "\n",
      "class Rhombus(builtins.object)\n",
      " |  Rhombus(side_length: float = 1.0, height: float = 1.0) -> None\n",
      " |  \n",
      " |  A class to represent a rhombus, a parallelogram with all sides equal.\n",
      " |  \n",
      " |  Methods defined here:\n",
      " |  \n",
      " |  __init__(self, side_length: float = 1.0, height: float = 1.0) -> None\n",
      " |      Initialize the rhombus with the length of its sides and height.\n",
      " |      \n",
      " |      Args:\n",
      " |          side_length (float): Length of each side. Defaults to 1.0.\n",
      " |          height (float): Height of the rhombus. Defaults to 1.0.\n",
      " |  \n",
      " |  __repr__(self) -> str\n",
      " |      Return a string representation of the rhombus.\n",
      " |  \n",
      " |  __str__(self) -> str\n",
      " |      Return a user-friendly string representation of the rhombus.\n",
      " |  \n",
      " |  area(self) -> float\n",
      " |      Calculate the area of the rhombus.\n",
      " |  \n",
      " |  perimeter(self) -> float\n",
      " |      Calculate the perimeter of the rhombus.\n",
      " |  \n",
      " |  ----------------------------------------------------------------------\n",
      " |  Data descriptors defined here:\n",
      " |  \n",
      " |  __dict__\n",
      " |      dictionary for instance variables (if defined)\n",
      " |  \n",
      " |  __weakref__\n",
      " |      list of weak references to the object (if defined)\n",
      "\n"
     ]
    }
   ],
   "source": [
    "help(Rhombus)"
   ]
  },
  {
   "cell_type": "code",
   "execution_count": 116,
   "id": "0703b4b6",
   "metadata": {},
   "outputs": [
    {
     "name": "stdout",
     "output_type": "stream",
     "text": [
      "A class to represent a rhombus, a parallelogram with all sides equal.\n",
      "{'side_length': <class 'float'>, 'height': <class 'float'>, 'return': None}\n",
      "\n",
      "Calculate the area of the rhombus.\n",
      "{'return': <class 'float'>}\n",
      "\n",
      "Calculate the perimeter of the rhombus.\n",
      "{'return': <class 'float'>}\n",
      "\n",
      "{'return': <class 'str'>}\n",
      "Return a string representation of the rhombus.\n",
      "\n",
      "{'return': <class 'str'>}\n",
      "Return a user-friendly string representation of the rhombus.\n"
     ]
    }
   ],
   "source": [
    "print(Rhombus.__doc__)\n",
    "print(Rhombus.__init__.__annotations__)\n",
    "print()\n",
    "print(Rhombus.area.__doc__)\n",
    "print(Rhombus.area.__annotations__)\n",
    "print()\n",
    "print(Rhombus.perimeter.__doc__)\n",
    "print(Rhombus.perimeter.__annotations__)\n",
    "print()\n",
    "print(Rhombus.__repr__.__annotations__)\n",
    "print(Rhombus.__repr__.__doc__)\n",
    "print()\n",
    "print(Rhombus.__str__.__annotations__)\n",
    "print(Rhombus.__str__.__doc__)"
   ]
  },
  {
   "cell_type": "code",
   "execution_count": 117,
   "id": "0a694cb5",
   "metadata": {},
   "outputs": [],
   "source": [
    "R_3 = Rhombus()"
   ]
  },
  {
   "cell_type": "code",
   "execution_count": 118,
   "id": "a4c7edf7",
   "metadata": {},
   "outputs": [
    {
     "name": "stdout",
     "output_type": "stream",
     "text": [
      "Rhombus with side length: 1.0, height: 1.0\n"
     ]
    },
    {
     "data": {
      "text/plain": [
       "Rhombus(side_length=1.0, height=1.0)"
      ]
     },
     "execution_count": 118,
     "metadata": {},
     "output_type": "execute_result"
    }
   ],
   "source": [
    "print(R_3)\n",
    "R_3"
   ]
  },
  {
   "cell_type": "markdown",
   "id": "d88b8de9",
   "metadata": {},
   "source": [
    "# Class Definition: Resistor\n",
    "\n",
    "## Problem Requirements\n",
    "1. **Class Definition**:\n",
    "   - Define a `Resistor` class with an appropriate `__init__` method to initialize resistance, tolerance, and power rating.\n",
    "2. **Property Methods**:\n",
    "   - Add properties for **voltage** (using Ohm's Law: \\(V = I \\times R\\)), **current**, and **power**.\n",
    "3. **Instance Methods**:\n",
    "   - Add a method to calculate **current** for a given voltage, and a method to calculate **power**.\n",
    "4. **String Representation**:\n",
    "   - Implement `__repr__` and `__str__` methods for the class.\n",
    "5. **Annotations and Documentation**:\n",
    "   - Use type annotations and provide docstrings for the class and its methods."
   ]
  },
  {
   "cell_type": "code",
   "execution_count": 119,
   "id": "2e6847fe",
   "metadata": {},
   "outputs": [],
   "source": [
    "class Resister:\n",
    "    \"\"\"A class to represent a simple circuit with a single resistor.\"\"\"\n",
    "    \n",
    "    def __init__(self, resistance: float = 1.0) -> None:\n",
    "        \"\"\"Initialize the resistor with the given resistance value.\n",
    "        \n",
    "        Args:\n",
    "            resistance (float): Resistance in ohms. Defaults to 1.0.\n",
    "        \"\"\"\n",
    "        self.resistance = resistance\n",
    "\n",
    "    def resistance(self) -> float:\n",
    "        \"\"\"Get the resistance value.\"\"\"\n",
    "        return self.resistance\n",
    "\n",
    "    def __repr__(self) -> str:\n",
    "        \"\"\"Return a string representation of the Resister.\"\"\"\n",
    "\n",
    "        return f\"Resistor(resistance={self.resistance})\"\n",
    "\n",
    "    def __str__(self) -> str:\n",
    "        \"\"\"Return a user-friendly string representation of the Resister.\"\"\"\n",
    "\n",
    "        return f\"Resistor with resistance: {self.resistance} ohms\"\n"
   ]
  },
  {
   "cell_type": "code",
   "execution_count": 120,
   "id": "dba2ce38",
   "metadata": {},
   "outputs": [],
   "source": [
    "r_1 = Resister(10)\n",
    "r_2 = Resister(35)"
   ]
  },
  {
   "cell_type": "code",
   "execution_count": 121,
   "id": "5315cb6b",
   "metadata": {},
   "outputs": [
    {
     "name": "stdout",
     "output_type": "stream",
     "text": [
      "Resistor with resistance: 10 ohms\n",
      "Resistor with resistance: 35 ohms\n"
     ]
    }
   ],
   "source": [
    "print(r_1)\n",
    "print(r_2)"
   ]
  },
  {
   "cell_type": "code",
   "execution_count": 122,
   "id": "6939dac8",
   "metadata": {},
   "outputs": [
    {
     "data": {
      "text/plain": [
       "Resistor(resistance=10)"
      ]
     },
     "execution_count": 122,
     "metadata": {},
     "output_type": "execute_result"
    }
   ],
   "source": [
    "r_1"
   ]
  },
  {
   "cell_type": "code",
   "execution_count": 123,
   "id": "fd30f43a",
   "metadata": {},
   "outputs": [
    {
     "data": {
      "text/plain": [
       "Resistor(resistance=35)"
      ]
     },
     "execution_count": 123,
     "metadata": {},
     "output_type": "execute_result"
    }
   ],
   "source": [
    "r_2"
   ]
  },
  {
   "cell_type": "code",
   "execution_count": 124,
   "id": "c35d7c31",
   "metadata": {},
   "outputs": [
    {
     "name": "stdout",
     "output_type": "stream",
     "text": [
      "mappingproxy({'__dict__': <attribute '__dict__' of 'Resister' objects>,\n",
      "              '__doc__': 'A class to represent a simple circuit with a single '\n",
      "                         'resistor.',\n",
      "              '__init__': <function Resister.__init__ at 0x0000021A9F771D00>,\n",
      "              '__module__': '__main__',\n",
      "              '__repr__': <function Resister.__repr__ at 0x0000021A9F771DA0>,\n",
      "              '__str__': <function Resister.__str__ at 0x0000021A9F771EE0>,\n",
      "              '__weakref__': <attribute '__weakref__' of 'Resister' objects>,\n",
      "              'resistance': <function Resister.resistance at 0x0000021A9F771620>})\n"
     ]
    }
   ],
   "source": [
    "pprint(Resister.__dict__)"
   ]
  },
  {
   "cell_type": "code",
   "execution_count": 125,
   "id": "0feb799b",
   "metadata": {},
   "outputs": [
    {
     "name": "stdout",
     "output_type": "stream",
     "text": [
      "mappingproxy({'__dict__': <attribute '__dict__' of 'Resister' objects>,\n",
      "              '__doc__': 'A class to represent a simple circuit with a single '\n",
      "                         'resistor.',\n",
      "              '__init__': <function Resister.__init__ at 0x0000021A9F771D00>,\n",
      "              '__module__': '__main__',\n",
      "              '__repr__': <function Resister.__repr__ at 0x0000021A9F771DA0>,\n",
      "              '__str__': <function Resister.__str__ at 0x0000021A9F771EE0>,\n",
      "              '__weakref__': <attribute '__weakref__' of 'Resister' objects>,\n",
      "              'resistance': <function Resister.resistance at 0x0000021A9F771620>})\n"
     ]
    }
   ],
   "source": [
    "pprint(vars(Resister))"
   ]
  },
  {
   "cell_type": "code",
   "execution_count": 126,
   "id": "56016209",
   "metadata": {},
   "outputs": [
    {
     "name": "stdout",
     "output_type": "stream",
     "text": [
      "{'resistance': 10}\n"
     ]
    }
   ],
   "source": [
    "print(r_1.__dict__)"
   ]
  },
  {
   "cell_type": "code",
   "execution_count": 127,
   "id": "870eac36",
   "metadata": {},
   "outputs": [
    {
     "name": "stdout",
     "output_type": "stream",
     "text": [
      "{'resistance': 35}\n"
     ]
    }
   ],
   "source": [
    "print(r_2.__dict__)"
   ]
  },
  {
   "cell_type": "code",
   "execution_count": 128,
   "id": "a5f6fe76",
   "metadata": {},
   "outputs": [
    {
     "name": "stdout",
     "output_type": "stream",
     "text": [
      "Help on class Resister in module __main__:\n",
      "\n",
      "class Resister(builtins.object)\n",
      " |  Resister(resistance: float = 1.0) -> None\n",
      " |  \n",
      " |  A class to represent a simple circuit with a single resistor.\n",
      " |  \n",
      " |  Methods defined here:\n",
      " |  \n",
      " |  __init__(self, resistance: float = 1.0) -> None\n",
      " |      Initialize the resistor with the given resistance value.\n",
      " |      \n",
      " |      Args:\n",
      " |          resistance (float): Resistance in ohms. Defaults to 1.0.\n",
      " |  \n",
      " |  __repr__(self) -> str\n",
      " |      Return a string representation of the Resister.\n",
      " |  \n",
      " |  __str__(self) -> str\n",
      " |      Return a user-friendly string representation of the Resister.\n",
      " |  \n",
      " |  resistance(self) -> float\n",
      " |      Get the resistance value.\n",
      " |  \n",
      " |  ----------------------------------------------------------------------\n",
      " |  Data descriptors defined here:\n",
      " |  \n",
      " |  __dict__\n",
      " |      dictionary for instance variables (if defined)\n",
      " |  \n",
      " |  __weakref__\n",
      " |      list of weak references to the object (if defined)\n",
      "\n"
     ]
    }
   ],
   "source": [
    "help(Resister)"
   ]
  },
  {
   "cell_type": "code",
   "execution_count": 129,
   "id": "640f8fff",
   "metadata": {},
   "outputs": [
    {
     "name": "stdout",
     "output_type": "stream",
     "text": [
      "A class to represent a simple circuit with a single resistor.\n",
      "{'resistance': <class 'float'>, 'return': None}\n",
      "\n",
      "Get the resistance value.\n",
      "{'return': <class 'float'>}\n",
      "\n",
      "{'return': <class 'str'>}\n",
      "Return a string representation of the Resister.\n",
      "\n",
      "{'return': <class 'str'>}\n",
      "Return a user-friendly string representation of the Resister.\n"
     ]
    }
   ],
   "source": [
    "print(Resister.__doc__)\n",
    "print(Resister.__init__.__annotations__)\n",
    "print()\n",
    "print(Resister.resistance.__doc__)\n",
    "print(Resister.resistance.__annotations__)\n",
    "print()\n",
    "print(Resister.__repr__.__annotations__)\n",
    "print(Resister.__repr__.__doc__)\n",
    "print()\n",
    "print(Resister.__str__.__annotations__)\n",
    "print(Resister.__str__.__doc__)"
   ]
  },
  {
   "cell_type": "markdown",
   "id": "28254e9d",
   "metadata": {},
   "source": [
    "# Class Definition: RL Circuit\n",
    "\n",
    "## Problem Requirements\n",
    "1. **Class Definition**:\n",
    "   - Define an `RLCircuit` class to represent an RL circuit with given resistance and inductance values.\n",
    "2. **Property Methods**:\n",
    "   - Add properties for **impedance**, **current**, and **voltage** (using Ohm's Law).\n",
    "3. **Instance Methods**:\n",
    "   - Add methods to calculate **impedance**, **current** for a given voltage, and **power**.\n",
    "4. **String Representation**:\n",
    "   - Implement `__repr__` and `__str__` methods for the class.\n",
    "5. **Annotations and Documentation**:\n",
    "   - Use type annotations and provide docstrings for the class and its methods."
   ]
  },
  {
   "cell_type": "code",
   "execution_count": 2,
   "id": "03476d8f",
   "metadata": {},
   "outputs": [],
   "source": [
    "class RL_Circuit:\n",
    "    \"\"\"A class to represent an RL circuit (Resistor and Inductor).\"\"\"\n",
    "    \n",
    "    def __init__(self, resistance: float = 1.0, inductance: float = 1.0) -> None:\n",
    "        \"\"\"Initialize the RL circuit with resistance and inductance.\n",
    "        \n",
    "        Args:\n",
    "            resistance (float): Resistance in ohms. Defaults to 1.0.\n",
    "            inductance (float): Inductance in henries. Defaults to 1.0.\n",
    "        \"\"\"\n",
    "        self.resistance = resistance\n",
    "        self.inductance = inductance\n",
    "    def reactance(self,frequency: float) -> float:\n",
    "        \"\"\"Calculate the reactance of the inductor\"\"\"\n",
    "        return 2 * math.pi * frequency * self.inductance\n",
    "    def impedance(self) -> float:\n",
    "        \"\"\"Calculate the impedance of the RL circuit.\n",
    "        \n",
    "        Args:\n",
    "            frequency (float): Frequency in hertz.\n",
    "        \n",
    "        Returns:\n",
    "            float: Impedance in ohms.\n",
    "        \"\"\"\n",
    "        return math.sqrt((self.resistance**2) + (self.reactance)**2)\n",
    "\n",
    "    def __repr__(self) -> str:\n",
    "        \"\"\"Return a string representation of the RL Circuit.\"\"\"\n",
    "\n",
    "        return f\"RLCircuit(resistor={self.resistance}, inductance={self.inductance})\"\n",
    "\n",
    "    def __str__(self) -> str:\n",
    "        \"\"\"Return a user-friendly string representation of the RL Circuit.\"\"\"\n",
    "        return (f\"RL Circuit with {self.resistance} ohm, inductance: {self.inductance} H\")\n"
   ]
  },
  {
   "cell_type": "code",
   "execution_count": 3,
   "id": "4ee55b76",
   "metadata": {},
   "outputs": [],
   "source": [
    "RL_1 = RL_Circuit(10,0.1)\n",
    "RL_2 = RL_Circuit(30,0.001)"
   ]
  },
  {
   "cell_type": "code",
   "execution_count": 4,
   "id": "de183dba",
   "metadata": {},
   "outputs": [
    {
     "name": "stdout",
     "output_type": "stream",
     "text": [
      "RL Circuit with 10 ohm, inductance: 0.1 H\n",
      "RL Circuit with 30 ohm, inductance: 0.001 H\n"
     ]
    }
   ],
   "source": [
    "print(RL_1)\n",
    "print(RL_2)"
   ]
  },
  {
   "cell_type": "code",
   "execution_count": 5,
   "id": "671e2bee",
   "metadata": {},
   "outputs": [
    {
     "data": {
      "text/plain": [
       "RLCircuit(resistor=10, inductance=0.1)"
      ]
     },
     "execution_count": 5,
     "metadata": {},
     "output_type": "execute_result"
    }
   ],
   "source": [
    "RL_1"
   ]
  },
  {
   "cell_type": "code",
   "execution_count": 6,
   "id": "69f0ed2b",
   "metadata": {},
   "outputs": [
    {
     "data": {
      "text/plain": [
       "RLCircuit(resistor=30, inductance=0.001)"
      ]
     },
     "execution_count": 6,
     "metadata": {},
     "output_type": "execute_result"
    }
   ],
   "source": [
    "RL_2"
   ]
  },
  {
   "cell_type": "code",
   "execution_count": 9,
   "id": "9d9e68e5",
   "metadata": {},
   "outputs": [
    {
     "name": "stdout",
     "output_type": "stream",
     "text": [
      "mappingproxy({'__dict__': <attribute '__dict__' of 'RL_Circuit' objects>,\n",
      "              '__doc__': 'A class to represent an RL circuit (Resistor and '\n",
      "                         'Inductor).',\n",
      "              '__init__': <function RL_Circuit.__init__ at 0x0000020F3EC24160>,\n",
      "              '__module__': '__main__',\n",
      "              '__repr__': <function RL_Circuit.__repr__ at 0x0000020F3EC24670>,\n",
      "              '__str__': <function RL_Circuit.__str__ at 0x0000020F3EC6B040>,\n",
      "              '__weakref__': <attribute '__weakref__' of 'RL_Circuit' objects>,\n",
      "              'impedance': <function RL_Circuit.impedance at 0x0000020F3EC24D30>,\n",
      "              'reactance': <function RL_Circuit.reactance at 0x0000020F3EC24790>})\n"
     ]
    }
   ],
   "source": [
    "from pprint import pprint\n",
    "pprint(RL_Circuit.__dict__)"
   ]
  },
  {
   "cell_type": "code",
   "execution_count": 11,
   "id": "7a5ad191",
   "metadata": {},
   "outputs": [
    {
     "name": "stdout",
     "output_type": "stream",
     "text": [
      "mappingproxy({'__dict__': <attribute '__dict__' of 'RL_Circuit' objects>,\n",
      "              '__doc__': 'A class to represent an RL circuit (Resistor and '\n",
      "                         'Inductor).',\n",
      "              '__init__': <function RL_Circuit.__init__ at 0x0000020F3EC24160>,\n",
      "              '__module__': '__main__',\n",
      "              '__repr__': <function RL_Circuit.__repr__ at 0x0000020F3EC24670>,\n",
      "              '__str__': <function RL_Circuit.__str__ at 0x0000020F3EC6B040>,\n",
      "              '__weakref__': <attribute '__weakref__' of 'RL_Circuit' objects>,\n",
      "              'impedance': <function RL_Circuit.impedance at 0x0000020F3EC24D30>,\n",
      "              'reactance': <function RL_Circuit.reactance at 0x0000020F3EC24790>})\n"
     ]
    }
   ],
   "source": [
    "pprint(vars(RL_Circuit))"
   ]
  },
  {
   "cell_type": "code",
   "execution_count": null,
   "id": "f950e363",
   "metadata": {},
   "outputs": [],
   "source": [
    "print(RL_1.__dict__)\n",
    "print(RL_2.__dict__)"
   ]
  },
  {
   "cell_type": "code",
   "execution_count": null,
   "id": "04dcb9d8",
   "metadata": {},
   "outputs": [],
   "source": [
    "help(RL_Circuit)"
   ]
  },
  {
   "cell_type": "code",
   "execution_count": null,
   "id": "fa79dea1",
   "metadata": {},
   "outputs": [],
   "source": [
    "print(RL_Circuit.__doc__)\n",
    "print(RL_Circuit.__init__.__annotations__)\n",
    "print()\n",
    "print(RL_Circuit.reactance.__doc__)\n",
    "print(RL_Circuit.reactance.__annotations__)\n",
    "print()\n",
    "print(RL_Circuit.impedance.__doc__)\n",
    "print(RL_Circuit.impedance.__annotations__)\n",
    "print()\n",
    "print(RL_Circuit.__repr__.__annotations__)\n",
    "print(RL_Circuit.__repr__.__doc__)\n",
    "print()\n",
    "print(RL_Circuit.__str__.__annotations__)\n",
    "print(RL_Circuit.__str__.__doc__)"
   ]
  },
  {
   "cell_type": "code",
   "execution_count": null,
   "id": "d5e434d7",
   "metadata": {},
   "outputs": [],
   "source": [
    "RL_3 = RL_Circuit()"
   ]
  },
  {
   "cell_type": "code",
   "execution_count": null,
   "id": "66a62b97",
   "metadata": {},
   "outputs": [],
   "source": [
    "print(RL_3)\n",
    "RL_3"
   ]
  },
  {
   "cell_type": "markdown",
   "id": "cd3e64a7",
   "metadata": {},
   "source": [
    "# Class Definition: RC Circuit\n",
    "\n",
    "## Problem Requirements\n",
    "1. **Class Definition**:\n",
    "   - Define an `RCCircuit` class to represent an RC circuit with given resistance and capacitance values.\n",
    "2. **Property Methods**:\n",
    "   - Add properties for **impedance**, **current**, and **voltage** (using Ohm's Law).\n",
    "3. **Instance Methods**:\n",
    "   - Add methods to calculate **impedance**, **current** for a given voltage, and **power**.\n",
    "4. **String Representation**:\n",
    "   - Implement `__repr__` and `__str__` methods for the class.\n",
    "5. **Annotations and Documentation**:\n",
    "   - Use type annotations and provide docstrings for the class and its methods."
   ]
  },
  {
   "cell_type": "code",
   "execution_count": 1,
   "id": "71ac3f40",
   "metadata": {},
   "outputs": [],
   "source": [
    "class RC_Circuit:\n",
    "    \"\"\"A class to represent an RC circuit (Resistor and Capacitor).\"\"\"\n",
    "    \n",
    "    def __init__(self, resistance: float = 1.0, capacitance: float = 1.0) -> None:\n",
    "        \"\"\"Initialize the RC circuit with resistance and capacitance.\n",
    "        \n",
    "        Args:\n",
    "            resistance (float): Resistance in ohms. Defaults to 1.0.\n",
    "            capacitance (float): Capacitance in farads. Defaults to 1.0.\n",
    "        \"\"\"\n",
    "        self.resistance = resistance\n",
    "        self.capacitance = capacitance\n",
    "    def  reactance(self,frequency: float) -> float:\n",
    "        return 1 / (2 * math.pi * frequency * self.capacitance)\n",
    "    def impedance(self) -> float:\n",
    "        \"\"\"Calculate the impedance of the RC circuit.\n",
    "        \n",
    "        Args:\n",
    "            frequency (float): Frequency in hertz.\n",
    "        \n",
    "        Returns:\n",
    "            float: Impedance in ohms.\n",
    "        \"\"\"\n",
    "        return math.sqrt(self.resistance**2 + (self.reactance)**2)\n",
    "\n",
    "    def __repr__(self) -> str:\n",
    "        \"\"\"Return a string representation of the RC Circuit.\"\"\"\n",
    "\n",
    "        return f\"RCCircuit(resistor={self.resistance}, capacitance={self.capacitance})\"\n",
    "\n",
    "    def __str__(self) -> str:\n",
    "        \"\"\"Return a user-friendly string representation of the RC Circuit.\"\"\"\n",
    "\n",
    "        return (f\"RC Circuit with {self.resistance} ohm, capacitance: {self.capacitance} F\")\n"
   ]
  },
  {
   "cell_type": "code",
   "execution_count": 2,
   "id": "9d052770",
   "metadata": {},
   "outputs": [],
   "source": [
    "RC_1 = RC_Circuit(10, 0.001)\n",
    "RC_2 = RC_Circuit(15,0.000001)"
   ]
  },
  {
   "cell_type": "code",
   "execution_count": 3,
   "id": "7ae87c4e",
   "metadata": {},
   "outputs": [
    {
     "name": "stdout",
     "output_type": "stream",
     "text": [
      "RC Circuit with 10 ohm, capacitance: 0.001 F\n",
      "RC Circuit with 15 ohm, capacitance: 1e-06 F\n"
     ]
    }
   ],
   "source": [
    "print(RC_1)\n",
    "print(RC_2)"
   ]
  },
  {
   "cell_type": "code",
   "execution_count": 4,
   "id": "66b10fdf",
   "metadata": {},
   "outputs": [
    {
     "data": {
      "text/plain": [
       "RCCircuit(resistor=10, capacitance=0.001)"
      ]
     },
     "execution_count": 4,
     "metadata": {},
     "output_type": "execute_result"
    }
   ],
   "source": [
    "RC_1"
   ]
  },
  {
   "cell_type": "code",
   "execution_count": 5,
   "id": "4997375c",
   "metadata": {},
   "outputs": [
    {
     "data": {
      "text/plain": [
       "RCCircuit(resistor=15, capacitance=1e-06)"
      ]
     },
     "execution_count": 5,
     "metadata": {},
     "output_type": "execute_result"
    }
   ],
   "source": [
    "RC_2"
   ]
  },
  {
   "cell_type": "code",
   "execution_count": 6,
   "id": "20dbf503",
   "metadata": {},
   "outputs": [
    {
     "name": "stdout",
     "output_type": "stream",
     "text": [
      "Pretty printing has been turned OFF\n"
     ]
    }
   ],
   "source": [
    "pprint(RC_Circuit.__dict__)"
   ]
  },
  {
   "cell_type": "code",
   "execution_count": 7,
   "id": "363d8cc5",
   "metadata": {},
   "outputs": [
    {
     "name": "stdout",
     "output_type": "stream",
     "text": [
      "Pretty printing has been turned ON\n"
     ]
    }
   ],
   "source": [
    "pprint(vars(RC_Circuit))"
   ]
  },
  {
   "cell_type": "code",
   "execution_count": 8,
   "id": "e734a5a9",
   "metadata": {},
   "outputs": [
    {
     "name": "stdout",
     "output_type": "stream",
     "text": [
      "{'resistance': 10, 'capacitance': 0.001}\n",
      "{'resistance': 15, 'capacitance': 1e-06}\n"
     ]
    }
   ],
   "source": [
    "print(RC_1.__dict__)\n",
    "print(RC_2.__dict__)"
   ]
  },
  {
   "cell_type": "code",
   "execution_count": 9,
   "id": "149c07bf",
   "metadata": {},
   "outputs": [
    {
     "name": "stdout",
     "output_type": "stream",
     "text": [
      "Help on class RC_Circuit in module __main__:\n",
      "\n",
      "class RC_Circuit(builtins.object)\n",
      " |  RC_Circuit(resistance: float = 1.0, capacitance: float = 1.0) -> None\n",
      " |  \n",
      " |  A class to represent an RC circuit (Resistor and Capacitor).\n",
      " |  \n",
      " |  Methods defined here:\n",
      " |  \n",
      " |  __init__(self, resistance: float = 1.0, capacitance: float = 1.0) -> None\n",
      " |      Initialize the RC circuit with resistance and capacitance.\n",
      " |      \n",
      " |      Args:\n",
      " |          resistance (float): Resistance in ohms. Defaults to 1.0.\n",
      " |          capacitance (float): Capacitance in farads. Defaults to 1.0.\n",
      " |  \n",
      " |  __repr__(self) -> str\n",
      " |      Return a string representation of the RC Circuit.\n",
      " |  \n",
      " |  __str__(self) -> str\n",
      " |      Return a user-friendly string representation of the RC Circuit.\n",
      " |  \n",
      " |  impedance(self) -> float\n",
      " |      Calculate the impedance of the RC circuit.\n",
      " |      \n",
      " |      Args:\n",
      " |          frequency (float): Frequency in hertz.\n",
      " |      \n",
      " |      Returns:\n",
      " |          float: Impedance in ohms.\n",
      " |  \n",
      " |  reactance(self, frequency: float) -> float\n",
      " |  \n",
      " |  ----------------------------------------------------------------------\n",
      " |  Data descriptors defined here:\n",
      " |  \n",
      " |  __dict__\n",
      " |      dictionary for instance variables (if defined)\n",
      " |  \n",
      " |  __weakref__\n",
      " |      list of weak references to the object (if defined)\n",
      "\n"
     ]
    }
   ],
   "source": [
    "help(RC_Circuit)"
   ]
  },
  {
   "cell_type": "code",
   "execution_count": 10,
   "id": "5c938357",
   "metadata": {},
   "outputs": [
    {
     "name": "stdout",
     "output_type": "stream",
     "text": [
      "A class to represent an RC circuit (Resistor and Capacitor).\n",
      "{'resistance': <class 'float'>, 'capacitance': <class 'float'>, 'return': None}\n",
      "\n",
      "None\n",
      "{'frequency': <class 'float'>, 'return': <class 'float'>}\n",
      "\n",
      "Calculate the impedance of the RC circuit.\n",
      "        \n",
      "        Args:\n",
      "            frequency (float): Frequency in hertz.\n",
      "        \n",
      "        Returns:\n",
      "            float: Impedance in ohms.\n",
      "        \n",
      "{'return': <class 'float'>}\n",
      "\n",
      "{'return': <class 'str'>}\n",
      "Return a string representation of the RC Circuit.\n",
      "\n",
      "{'return': <class 'str'>}\n",
      "Return a user-friendly string representation of the RC Circuit.\n"
     ]
    }
   ],
   "source": [
    "print(RC_Circuit.__doc__)\n",
    "print(RC_Circuit.__init__.__annotations__)\n",
    "print()\n",
    "print(RC_Circuit.reactance.__doc__)\n",
    "print(RC_Circuit.reactance.__annotations__)\n",
    "print()\n",
    "print(RC_Circuit.impedance.__doc__)\n",
    "print(RC_Circuit.impedance.__annotations__)\n",
    "print()\n",
    "print(RC_Circuit.__repr__.__annotations__)\n",
    "print(RC_Circuit.__repr__.__doc__)\n",
    "print()\n",
    "print(RC_Circuit.__str__.__annotations__)\n",
    "print(RC_Circuit.__str__.__doc__)"
   ]
  },
  {
   "cell_type": "code",
   "execution_count": 11,
   "id": "b046fce4",
   "metadata": {},
   "outputs": [],
   "source": [
    "RC_3 = RC_Circuit()"
   ]
  },
  {
   "cell_type": "code",
   "execution_count": 12,
   "id": "0609b894",
   "metadata": {},
   "outputs": [
    {
     "name": "stdout",
     "output_type": "stream",
     "text": [
      "RC Circuit with 1.0 ohm, capacitance: 1.0 F\n"
     ]
    },
    {
     "data": {
      "text/plain": [
       "RCCircuit(resistor=1.0, capacitance=1.0)"
      ]
     },
     "execution_count": 12,
     "metadata": {},
     "output_type": "execute_result"
    }
   ],
   "source": [
    "print(RC_3)\n",
    "RC_3"
   ]
  },
  {
   "cell_type": "markdown",
   "id": "b7d611d2",
   "metadata": {},
   "source": [
    "# Class Definition: RLC Parallel Circuit\n",
    "\n",
    "## Problem Requirements\n",
    "1. **Class Definition**:\n",
    "   - Define an `RLParallelCircuit` class to represent an RLC parallel circuit with given resistance, inductance, and capacitance values.\n",
    "2. **Property Methods**:\n",
    "   - Add properties for **impedance**, **current**, **voltage**, and **power**.\n",
    "3. **Instance Methods**:\n",
    "   - Add methods to calculate **impedance**, **current** for a given voltage, and **power**.\n",
    "4. **String Representation**:\n",
    "   - Implement `__repr__` and `__str__` methods for the class.\n",
    "5. **Annotations and Documentation**:\n",
    "   - Use type annotations and provide docstrings for the class and its methods."
   ]
  },
  {
   "cell_type": "code",
   "execution_count": 141,
   "id": "c21c59b3",
   "metadata": {},
   "outputs": [],
   "source": [
    "class RLC_Circuit_Parallel:\n",
    "    \"\"\"A class to represent an RLC parallel circuit.\"\"\"\n",
    "    \n",
    "    def __init__(self, resistance: float = 1.0, inductance: float = 1.0, capacitance: float = 1.0) -> None:\n",
    "        \"\"\"Initialize the parallel RLC circuit with resistance, inductance, and capacitance.\n",
    "        \n",
    "        Args:\n",
    "            resistance (float): Resistance in ohms. Defaults to 1.0.\n",
    "            inductance (float): Inductance in henries. Defaults to 1.0.\n",
    "            capacitance (float): Capacitance in farads. Defaults to 1.0.\n",
    "        \"\"\"\n",
    "        self.resistance = resistance\n",
    "        self.inductance = inductance\n",
    "        self.capacitance = capacitance\n",
    "    def total_impedance(self, frequency: float) -> float:\n",
    "        \"\"\"Calculate the total impedance of the RLC parallel circuit.\n",
    "        \n",
    "        Args:\n",
    "            frequency (float): Frequency in hertz.\n",
    "        \n",
    "        Returns:\n",
    "            float: Total impedance in ohms.\n",
    "        \"\"\"\n",
    "        z_r = self.resistance\n",
    "        z_l = 2 * math.pi * frequency * self.inductance\n",
    "        z_c = 1 / (2 * math.pi * frequency * self.capacitance)\n",
    "\n",
    "        return 1 / (1/z_r + 1/z_l + 1/z_c)\n",
    "\n",
    "    def __repr__(self) -> str:\n",
    "        \"\"\"Return a string representation of the RLC_Parallel_Circuit.\"\"\"\n",
    "        return f\"RLC Circuit Parallel(resistor={self.resistance}, inductance={self.inductance}, capacitance={self.capacitance})\"\n",
    "\n",
    "    def __str__(self) -> str:\n",
    "        \"\"\"Return a user-friendly string representation of the RLC_Parallel_Circuit.\"\"\"\n",
    "        return (f\"RLC Parallel Circuit with {self.resistance} ohm, inductance: {self.inductance} H, \"\n",
    "                f\"capacitance: {self.capacitance} F\")\n"
   ]
  },
  {
   "cell_type": "code",
   "execution_count": 142,
   "id": "ff3863ad",
   "metadata": {},
   "outputs": [],
   "source": [
    "RLC_parallel_circuit_1 = RLC_Circuit_Parallel(10, 0.1, 0.001)\n",
    "RLC_parallel_circuit_2 = RLC_Circuit_Parallel(15,0.001,0.1)"
   ]
  },
  {
   "cell_type": "code",
   "execution_count": 143,
   "id": "18b471c7",
   "metadata": {},
   "outputs": [
    {
     "name": "stdout",
     "output_type": "stream",
     "text": [
      "RLC Parallel Circuit with 10 ohm, inductance: 0.1 H, capacitance: 0.001 F\n",
      "RLC Parallel Circuit with 15 ohm, inductance: 0.001 H, capacitance: 0.1 F\n"
     ]
    }
   ],
   "source": [
    "print(RLC_parallel_circuit_1)\n",
    "print(RLC_parallel_circuit_2)"
   ]
  },
  {
   "cell_type": "code",
   "execution_count": 144,
   "id": "606fa4b9",
   "metadata": {},
   "outputs": [
    {
     "data": {
      "text/plain": [
       "RLC Circuit Parallel(resistor=10, inductance=0.1, capacitance=0.001)"
      ]
     },
     "execution_count": 144,
     "metadata": {},
     "output_type": "execute_result"
    }
   ],
   "source": [
    "RLC_parallel_circuit_1"
   ]
  },
  {
   "cell_type": "code",
   "execution_count": 145,
   "id": "f31903d7",
   "metadata": {},
   "outputs": [
    {
     "data": {
      "text/plain": [
       "RLC Circuit Parallel(resistor=15, inductance=0.001, capacitance=0.1)"
      ]
     },
     "execution_count": 145,
     "metadata": {},
     "output_type": "execute_result"
    }
   ],
   "source": [
    "RLC_parallel_circuit_2"
   ]
  },
  {
   "cell_type": "code",
   "execution_count": 146,
   "id": "703f90ce",
   "metadata": {},
   "outputs": [
    {
     "name": "stdout",
     "output_type": "stream",
     "text": [
      "mappingproxy({'__dict__': <attribute '__dict__' of 'RLC_Circuit_Parallel' objects>,\n",
      "              '__doc__': 'A class to represent an RLC parallel circuit.',\n",
      "              '__init__': <function RLC_Circuit_Parallel.__init__ at 0x0000021A9F8953A0>,\n",
      "              '__module__': '__main__',\n",
      "              '__repr__': <function RLC_Circuit_Parallel.__repr__ at 0x0000021A9F896B60>,\n",
      "              '__str__': <function RLC_Circuit_Parallel.__str__ at 0x0000021A9F897F60>,\n",
      "              '__weakref__': <attribute '__weakref__' of 'RLC_Circuit_Parallel' objects>,\n",
      "              'total_impedance': <function RLC_Circuit_Parallel.total_impedance at 0x0000021A9F894360>})\n"
     ]
    }
   ],
   "source": [
    "pprint(RLC_Circuit_Parallel.__dict__)"
   ]
  },
  {
   "cell_type": "code",
   "execution_count": 147,
   "id": "dd0d8d77",
   "metadata": {},
   "outputs": [
    {
     "name": "stdout",
     "output_type": "stream",
     "text": [
      "mappingproxy({'__dict__': <attribute '__dict__' of 'RLC_Circuit_Parallel' objects>,\n",
      "              '__doc__': 'A class to represent an RLC parallel circuit.',\n",
      "              '__init__': <function RLC_Circuit_Parallel.__init__ at 0x0000021A9F8953A0>,\n",
      "              '__module__': '__main__',\n",
      "              '__repr__': <function RLC_Circuit_Parallel.__repr__ at 0x0000021A9F896B60>,\n",
      "              '__str__': <function RLC_Circuit_Parallel.__str__ at 0x0000021A9F897F60>,\n",
      "              '__weakref__': <attribute '__weakref__' of 'RLC_Circuit_Parallel' objects>,\n",
      "              'total_impedance': <function RLC_Circuit_Parallel.total_impedance at 0x0000021A9F894360>})\n"
     ]
    }
   ],
   "source": [
    "pprint(vars(RLC_Circuit_Parallel))"
   ]
  },
  {
   "cell_type": "code",
   "execution_count": 148,
   "id": "4571c003",
   "metadata": {},
   "outputs": [
    {
     "name": "stdout",
     "output_type": "stream",
     "text": [
      "{'resistance': 10, 'inductance': 0.1, 'capacitance': 0.001}\n",
      "{'resistance': 15, 'inductance': 0.001, 'capacitance': 0.1}\n"
     ]
    }
   ],
   "source": [
    "print(RLC_parallel_circuit_1.__dict__)\n",
    "print(RLC_parallel_circuit_2.__dict__)"
   ]
  },
  {
   "cell_type": "code",
   "execution_count": 149,
   "id": "b83933f2",
   "metadata": {},
   "outputs": [
    {
     "name": "stdout",
     "output_type": "stream",
     "text": [
      "Help on class RLC_Circuit_Parallel in module __main__:\n",
      "\n",
      "class RLC_Circuit_Parallel(builtins.object)\n",
      " |  RLC_Circuit_Parallel(resistance: float = 1.0, inductance: float = 1.0, capacitance: float = 1.0) -> None\n",
      " |  \n",
      " |  A class to represent an RLC parallel circuit.\n",
      " |  \n",
      " |  Methods defined here:\n",
      " |  \n",
      " |  __init__(self, resistance: float = 1.0, inductance: float = 1.0, capacitance: float = 1.0) -> None\n",
      " |      Initialize the parallel RLC circuit with resistance, inductance, and capacitance.\n",
      " |      \n",
      " |      Args:\n",
      " |          resistance (float): Resistance in ohms. Defaults to 1.0.\n",
      " |          inductance (float): Inductance in henries. Defaults to 1.0.\n",
      " |          capacitance (float): Capacitance in farads. Defaults to 1.0.\n",
      " |  \n",
      " |  __repr__(self) -> str\n",
      " |      Return a string representation of the RLC_Parallel_Circuit.\n",
      " |  \n",
      " |  __str__(self) -> str\n",
      " |      Return a user-friendly string representation of the RLC_Parallel_Circuit.\n",
      " |  \n",
      " |  total_impedance(self, frequency: float) -> float\n",
      " |      Calculate the total impedance of the RLC parallel circuit.\n",
      " |      \n",
      " |      Args:\n",
      " |          frequency (float): Frequency in hertz.\n",
      " |      \n",
      " |      Returns:\n",
      " |          float: Total impedance in ohms.\n",
      " |  \n",
      " |  ----------------------------------------------------------------------\n",
      " |  Data descriptors defined here:\n",
      " |  \n",
      " |  __dict__\n",
      " |      dictionary for instance variables (if defined)\n",
      " |  \n",
      " |  __weakref__\n",
      " |      list of weak references to the object (if defined)\n",
      "\n"
     ]
    }
   ],
   "source": [
    "help(RLC_Circuit_Parallel)"
   ]
  },
  {
   "cell_type": "code",
   "execution_count": 150,
   "id": "3f530ac2",
   "metadata": {},
   "outputs": [
    {
     "name": "stdout",
     "output_type": "stream",
     "text": [
      "A class to represent an RLC parallel circuit.\n",
      "{'resistance': <class 'float'>, 'inductance': <class 'float'>, 'capacitance': <class 'float'>, 'return': None}\n",
      "\n",
      "Calculate the total impedance of the RLC parallel circuit.\n",
      "        \n",
      "        Args:\n",
      "            frequency (float): Frequency in hertz.\n",
      "        \n",
      "        Returns:\n",
      "            float: Total impedance in ohms.\n",
      "        \n",
      "{'frequency': <class 'float'>, 'return': <class 'float'>}\n",
      "\n",
      "{'return': <class 'str'>}\n",
      "Return a string representation of the RLC_Parallel_Circuit.\n",
      "\n",
      "{'return': <class 'str'>}\n",
      "Return a user-friendly string representation of the RLC_Parallel_Circuit.\n"
     ]
    }
   ],
   "source": [
    "print(RLC_Circuit_Parallel.__doc__)\n",
    "print(RLC_Circuit_Parallel.__init__.__annotations__)\n",
    "print()\n",
    "print(RLC_Circuit_Parallel.total_impedance.__doc__)\n",
    "print(RLC_Circuit_Parallel.total_impedance.__annotations__)\n",
    "print()\n",
    "print(RLC_Circuit_Parallel.__repr__.__annotations__)\n",
    "print(RLC_Circuit_Parallel.__repr__.__doc__)\n",
    "print()\n",
    "print(RLC_Circuit_Parallel.__str__.__annotations__)\n",
    "print(RLC_Circuit_Parallel.__str__.__doc__)"
   ]
  },
  {
   "cell_type": "code",
   "execution_count": 151,
   "id": "4425fccf",
   "metadata": {},
   "outputs": [],
   "source": [
    "RLC_parallel_circuit_3 = RLC_Circuit_Parallel()"
   ]
  },
  {
   "cell_type": "code",
   "execution_count": 152,
   "id": "1d3c191a",
   "metadata": {},
   "outputs": [
    {
     "name": "stdout",
     "output_type": "stream",
     "text": [
      "RLC Parallel Circuit with 1.0 ohm, inductance: 1.0 H, capacitance: 1.0 F\n"
     ]
    },
    {
     "data": {
      "text/plain": [
       "RLC Circuit Parallel(resistor=1.0, inductance=1.0, capacitance=1.0)"
      ]
     },
     "execution_count": 152,
     "metadata": {},
     "output_type": "execute_result"
    }
   ],
   "source": [
    "print(RLC_parallel_circuit_3)\n",
    "RLC_parallel_circuit_3"
   ]
  },
  {
   "cell_type": "markdown",
   "id": "ba29f5dd",
   "metadata": {},
   "source": [
    "# Class Definition: RLC Series Resonance Circuit\n",
    "\n",
    "## Problem Requirements\n",
    "1. **Class Definition**:\n",
    "   - Define an `RLCSeriesResonanceCircuit` class to represent an RLC series resonance circuit with given resistance, inductance, capacitance values, and frequency.\n",
    "2. **Property Methods**:\n",
    "   - Add properties for **resonance frequency**, **impedance at resonance**, and **current**.\n",
    "3. **Instance Methods**:\n",
    "   - Add methods to calculate **resonance frequency** and **impedance**.\n",
    "4. **String Representation**:\n",
    "   - Implement `__repr__` and `__str__` methods for the class.\n",
    "5. **Annotations and Documentation**:\n",
    "   - Use type annotations and provide docstrings for the class and its methods.\n"
   ]
  },
  {
   "cell_type": "code",
   "execution_count": 18,
   "id": "8960105f",
   "metadata": {},
   "outputs": [],
   "source": [
    "import math\n",
    "class RLC_Series_Resonance_Circuit:\n",
    "    \"\"\"A class to represent an RLC series circuit with resonance.\"\"\"\n",
    "    \n",
    "    def __init__(self, resistance: float = 1.0, inductance: float = 1.0, capacitance: float = 1.0) -> None:\n",
    "        \"\"\"Initialize the series RLC circuit with resistance, inductance, and capacitance.\n",
    "        \n",
    "        Args:\n",
    "            resistance (float): Resistance in ohms. Defaults to 1.0.\n",
    "            inductance (float): Inductance in henries. Defaults to 1.0.\n",
    "            capacitance (float): Capacitance in farads. Defaults to 1.0.\n",
    "        \"\"\"\n",
    "        self.resistance = resistance\n",
    "        self.inductance = inductance\n",
    "        self.capacitance = capacitance\n",
    "\n",
    "    def resonance_frequency(self) -> float:\n",
    "        \"\"\"Calculate the resonance frequency of the RLC circuit.\n",
    "        \n",
    "        Returns:\n",
    "            float: Resonance frequency in hertz.\n",
    "        \"\"\"\n",
    "        return 1 / (2 * math.pi * (math.sqrt(self.inductance * self.capacitance)))\n",
    "\n",
    "    def impedance(self, frequency: float) -> float:\n",
    "        \"\"\"Calculate the impedance of the RLC series circuit.\n",
    "        \n",
    "        Args:\n",
    "            frequency (float): Frequency in hertz.\n",
    "        \n",
    "        Returns:\n",
    "            float: Impedance in ohms.\n",
    "        \"\"\"\n",
    "        z_l = 2 * math.pi * frequency * self.inductance\n",
    "        z_c = 1 / (2 * math.pi * frequency * self.capacitance)\n",
    "\n",
    "        return math.sqrt(self.resistance**2 + (z_l - z_c)**2)\n",
    "\n",
    "    def __repr__(self) -> str:        \n",
    "        \"\"\"Return a string representation of the RLC_Series_Resonance_Circuit.\"\"\"\n",
    "        return f\"RLCSeriesCircuit(resistor={self.resistance}, inductance={self.inductance}, capacitance={self.capacitance})\"\n",
    "\n",
    "    def __str__(self) -> str:\n",
    "        \"\"\"Return a user-friendly string representation of the RLC_Series_Resonance_Circuit.\"\"\"\n",
    "        return (f\"RLC Series Circuit with {self.resistance} ohm, inductance: {self.inductance} H, \"\n",
    "                f\"capacitance: {self.capacitance} F, resonance frequency: {self.resonance_frequency()} Hz\")\n"
   ]
  },
  {
   "cell_type": "code",
   "execution_count": 19,
   "id": "be354807",
   "metadata": {},
   "outputs": [],
   "source": [
    "RLC_Series_Resonance_Circuit_1 = RLC_Series_Resonance_Circuit(10, 0.1, 0.001)\n",
    "RLC_Series_Resonance_Circuit_2 = RLC_Series_Resonance_Circuit(15, 0.001, 0.1)"
   ]
  },
  {
   "cell_type": "code",
   "execution_count": 20,
   "id": "80f5dd6f",
   "metadata": {},
   "outputs": [
    {
     "name": "stdout",
     "output_type": "stream",
     "text": [
      "RLC Series Circuit with 10 ohm, inductance: 0.1 H, capacitance: 0.001 F, resonance frequency: 15.915494309189533 Hz\n",
      "RLC Series Circuit with 15 ohm, inductance: 0.001 H, capacitance: 0.1 F, resonance frequency: 15.915494309189533 Hz\n"
     ]
    }
   ],
   "source": [
    "print(RLC_Series_Resonance_Circuit_1)\n",
    "print(RLC_Series_Resonance_Circuit_2)"
   ]
  },
  {
   "cell_type": "code",
   "execution_count": 21,
   "id": "8eb0aa31",
   "metadata": {},
   "outputs": [
    {
     "data": {
      "text/plain": [
       "RLCSeriesCircuit(resistor=10, inductance=0.1, capacitance=0.001)"
      ]
     },
     "execution_count": 21,
     "metadata": {},
     "output_type": "execute_result"
    }
   ],
   "source": [
    "RLC_Series_Resonance_Circuit_1"
   ]
  },
  {
   "cell_type": "code",
   "execution_count": 22,
   "id": "12705d4f",
   "metadata": {},
   "outputs": [
    {
     "data": {
      "text/plain": [
       "RLCSeriesCircuit(resistor=15, inductance=0.001, capacitance=0.1)"
      ]
     },
     "execution_count": 22,
     "metadata": {},
     "output_type": "execute_result"
    }
   ],
   "source": [
    "RLC_Series_Resonance_Circuit_2"
   ]
  },
  {
   "cell_type": "code",
   "execution_count": 23,
   "id": "52a9c1ed",
   "metadata": {},
   "outputs": [
    {
     "name": "stdout",
     "output_type": "stream",
     "text": [
      "mappingproxy({'__dict__': <attribute '__dict__' of 'RLC_Series_Resonance_Circuit' objects>,\n",
      "              '__doc__': 'A class to represent an RLC series circuit with '\n",
      "                         'resonance.',\n",
      "              '__init__': <function RLC_Series_Resonance_Circuit.__init__ at 0x0000020F408A8EE0>,\n",
      "              '__module__': '__main__',\n",
      "              '__repr__': <function RLC_Series_Resonance_Circuit.__repr__ at 0x0000020F408D84C0>,\n",
      "              '__str__': <function RLC_Series_Resonance_Circuit.__str__ at 0x0000020F408D8310>,\n",
      "              '__weakref__': <attribute '__weakref__' of 'RLC_Series_Resonance_Circuit' objects>,\n",
      "              'impedance': <function RLC_Series_Resonance_Circuit.impedance at 0x0000020F408D88B0>,\n",
      "              'resonance_frequency': <function RLC_Series_Resonance_Circuit.resonance_frequency at 0x0000020F408D8670>})\n"
     ]
    }
   ],
   "source": [
    "pprint(RLC_Series_Resonance_Circuit.__dict__)"
   ]
  },
  {
   "cell_type": "code",
   "execution_count": 24,
   "id": "a2880f10",
   "metadata": {},
   "outputs": [
    {
     "name": "stdout",
     "output_type": "stream",
     "text": [
      "mappingproxy({'__dict__': <attribute '__dict__' of 'RLC_Series_Resonance_Circuit' objects>,\n",
      "              '__doc__': 'A class to represent an RLC series circuit with '\n",
      "                         'resonance.',\n",
      "              '__init__': <function RLC_Series_Resonance_Circuit.__init__ at 0x0000020F408A8EE0>,\n",
      "              '__module__': '__main__',\n",
      "              '__repr__': <function RLC_Series_Resonance_Circuit.__repr__ at 0x0000020F408D84C0>,\n",
      "              '__str__': <function RLC_Series_Resonance_Circuit.__str__ at 0x0000020F408D8310>,\n",
      "              '__weakref__': <attribute '__weakref__' of 'RLC_Series_Resonance_Circuit' objects>,\n",
      "              'impedance': <function RLC_Series_Resonance_Circuit.impedance at 0x0000020F408D88B0>,\n",
      "              'resonance_frequency': <function RLC_Series_Resonance_Circuit.resonance_frequency at 0x0000020F408D8670>})\n"
     ]
    }
   ],
   "source": [
    "pprint(vars(RLC_Series_Resonance_Circuit))"
   ]
  },
  {
   "cell_type": "code",
   "execution_count": 25,
   "id": "e825234e",
   "metadata": {},
   "outputs": [
    {
     "name": "stdout",
     "output_type": "stream",
     "text": [
      "RLC Series Circuit with 10 ohm, inductance: 0.1 H, capacitance: 0.001 F, resonance frequency: 15.915494309189533 Hz\n",
      "RLC Series Circuit with 15 ohm, inductance: 0.001 H, capacitance: 0.1 F, resonance frequency: 15.915494309189533 Hz\n"
     ]
    }
   ],
   "source": [
    "print(RLC_Series_Resonance_Circuit_1)\n",
    "print(RLC_Series_Resonance_Circuit_2)"
   ]
  },
  {
   "cell_type": "code",
   "execution_count": 26,
   "id": "671d8bf5",
   "metadata": {},
   "outputs": [
    {
     "name": "stdout",
     "output_type": "stream",
     "text": [
      "Help on class RLC_Series_Resonance_Circuit in module __main__:\n",
      "\n",
      "class RLC_Series_Resonance_Circuit(builtins.object)\n",
      " |  RLC_Series_Resonance_Circuit(resistance: float = 1.0, inductance: float = 1.0, capacitance: float = 1.0) -> None\n",
      " |  \n",
      " |  A class to represent an RLC series circuit with resonance.\n",
      " |  \n",
      " |  Methods defined here:\n",
      " |  \n",
      " |  __init__(self, resistance: float = 1.0, inductance: float = 1.0, capacitance: float = 1.0) -> None\n",
      " |      Initialize the series RLC circuit with resistance, inductance, and capacitance.\n",
      " |      \n",
      " |      Args:\n",
      " |          resistance (float): Resistance in ohms. Defaults to 1.0.\n",
      " |          inductance (float): Inductance in henries. Defaults to 1.0.\n",
      " |          capacitance (float): Capacitance in farads. Defaults to 1.0.\n",
      " |  \n",
      " |  __repr__(self) -> str\n",
      " |      Return a string representation of the RLC_Series_Resonance_Circuit.\n",
      " |  \n",
      " |  __str__(self) -> str\n",
      " |      Return a user-friendly string representation of the RLC_Series_Resonance_Circuit.\n",
      " |  \n",
      " |  impedance(self, frequency: float) -> float\n",
      " |      Calculate the impedance of the RLC series circuit.\n",
      " |      \n",
      " |      Args:\n",
      " |          frequency (float): Frequency in hertz.\n",
      " |      \n",
      " |      Returns:\n",
      " |          float: Impedance in ohms.\n",
      " |  \n",
      " |  resonance_frequency(self) -> float\n",
      " |      Calculate the resonance frequency of the RLC circuit.\n",
      " |      \n",
      " |      Returns:\n",
      " |          float: Resonance frequency in hertz.\n",
      " |  \n",
      " |  ----------------------------------------------------------------------\n",
      " |  Data descriptors defined here:\n",
      " |  \n",
      " |  __dict__\n",
      " |      dictionary for instance variables (if defined)\n",
      " |  \n",
      " |  __weakref__\n",
      " |      list of weak references to the object (if defined)\n",
      "\n"
     ]
    }
   ],
   "source": [
    "help(RLC_Series_Resonance_Circuit)"
   ]
  },
  {
   "cell_type": "code",
   "execution_count": 27,
   "id": "e543ae27",
   "metadata": {},
   "outputs": [
    {
     "name": "stdout",
     "output_type": "stream",
     "text": [
      "A class to represent an RLC series circuit with resonance.\n",
      "{'resistance': <class 'float'>, 'inductance': <class 'float'>, 'capacitance': <class 'float'>, 'return': None}\n",
      "\n",
      "Calculate the resonance frequency of the RLC circuit.\n",
      "        \n",
      "        Returns:\n",
      "            float: Resonance frequency in hertz.\n",
      "        \n",
      "{'return': <class 'float'>}\n",
      "\n",
      "Calculate the impedance of the RLC series circuit.\n",
      "        \n",
      "        Args:\n",
      "            frequency (float): Frequency in hertz.\n",
      "        \n",
      "        Returns:\n",
      "            float: Impedance in ohms.\n",
      "        \n",
      "{'frequency': <class 'float'>, 'return': <class 'float'>}\n",
      "\n",
      "{'return': <class 'str'>}\n",
      "Return a string representation of the RLC_Series_Resonance_Circuit.\n",
      "\n",
      "{'return': <class 'str'>}\n",
      "Return a user-friendly string representation of the RLC_Series_Resonance_Circuit.\n"
     ]
    }
   ],
   "source": [
    "print(RLC_Series_Resonance_Circuit.__doc__)\n",
    "print(RLC_Series_Resonance_Circuit.__init__.__annotations__)\n",
    "print()\n",
    "print(RLC_Series_Resonance_Circuit.resonance_frequency.__doc__)\n",
    "print(RLC_Series_Resonance_Circuit.resonance_frequency.__annotations__)\n",
    "print()\n",
    "print(RLC_Series_Resonance_Circuit.impedance.__doc__)\n",
    "print(RLC_Series_Resonance_Circuit.impedance.__annotations__)\n",
    "print()\n",
    "print(RLC_Series_Resonance_Circuit.__repr__.__annotations__)\n",
    "print(RLC_Series_Resonance_Circuit.__repr__.__doc__)\n",
    "print()\n",
    "print(RLC_Series_Resonance_Circuit.__str__.__annotations__)\n",
    "print(RLC_Series_Resonance_Circuit.__str__.__doc__)"
   ]
  },
  {
   "cell_type": "code",
   "execution_count": null,
   "id": "8da60c67",
   "metadata": {},
   "outputs": [],
   "source": [
    "RLC_Series_Resonance_Circuit_3 = RLC_Series_Resonance_Circuit()"
   ]
  },
  {
   "cell_type": "code",
   "execution_count": null,
   "id": "1db0efd0",
   "metadata": {},
   "outputs": [],
   "source": [
    "print(RLC_Series_Resonance_Circuit_1)\n",
    "RLC_Series_Resonance_Circuit_1"
   ]
  },
  {
   "cell_type": "markdown",
   "id": "b87c9ec1",
   "metadata": {},
   "source": [
    "# Class Definition: RLC Parallel Resonance Circuit\n",
    "\n",
    "## Problem Requirements\n",
    "1. **Class Definition**:\n",
    "   - Define an `RLCParallelResonanceCircuit` class to represent an RLC parallel resonance circuit with given resistance, inductance, capacitance values, and frequency.\n",
    "2. **Property Methods**:\n",
    "   - Add properties for **resonance frequency**, **impedance at resonance**, and **current**.\n",
    "3. **Instance Methods**:\n",
    "   - Add methods to calculate **resonance frequency** and **impedance**.\n",
    "4. **String Representation**:\n",
    "   - Implement `__repr__` and `__str__` methods for the class.\n",
    "5. **Annotations and Documentation**:\n",
    "   - Use type annotations and provide docstrings for the class and its methods."
   ]
  },
  {
   "cell_type": "code",
   "execution_count": 27,
   "id": "8b566885",
   "metadata": {},
   "outputs": [],
   "source": [
    "class RLC_Parallel_Circuit_Resonance:\n",
    "    \"\"\"A class to represent an RLC parallel circuit with resonance.\"\"\"\n",
    "    \n",
    "    def __init__(self, resistance: float = 1.0, inductance: float = 1.0, capacitance: float = 1.0) -> None:\n",
    "        \"\"\"Initialize the parallel RLC circuit with resistance, inductance, and capacitance.\n",
    "        \n",
    "        Args:\n",
    "            resistance (float): Resistance in ohms. Defaults to 1.0.\n",
    "            inductance (float): Inductance in henries. Defaults to 1.0.\n",
    "            capacitance (float): Capacitance in farads. Defaults to 1.0.\n",
    "        \"\"\"\n",
    "        self.resistor = resistance\n",
    "        self.inductance = inductance\n",
    "        self.capacitance = capacitance\n",
    "\n",
    "    def resonance_frequency(self) -> float:\n",
    "        \"\"\"Calculate the resonance frequency of the RLC parallel circuit.\n",
    "        \n",
    "        Returns:\n",
    "            float: Resonance frequency in hertz.\n",
    "        \"\"\"\n",
    "        return 1 / (2 * math.pi * (math.sqrt(self.inductance * self.capacitance) ))\n",
    "\n",
    "    def total_impedance(self, frequency: float) -> float:\n",
    "        \"\"\"Calculate the total impedance of the RLC parallel circuit.\n",
    "        \n",
    "        Args:\n",
    "            frequency (float): Frequency in hertz.\n",
    "        \n",
    "        Returns:\n",
    "            float: Total impedance in ohms.\n",
    "        \"\"\"\n",
    "        z_r = self.resistor.resistance\n",
    "        z_l = 2 * math.pi * frequency * self.inductance\n",
    "        z_c = 1 / (2 * math.pi * frequency * self.capacitance)\n",
    "\n",
    "        return 1 / (1/z_r + 1/z_l + 1/z_c)\n",
    "\n",
    "    def __repr__(self) -> str:\n",
    "        \"\"\"Return a string representation of the RLC_Parallel_Circuit.\"\"\"\n",
    "\n",
    "        return f\"RLCParallelCircuit(resistor={self.resistor}, inductance={self.inductance}, capacitance={self.capacitance})\"\n",
    "\n",
    "    def __str__(self) -> str:\n",
    "        \"\"\"Return a user-friendly string representation of the RLC_Parallel_Circuit.\"\"\"\n",
    "        return (f\"RLC Parallel Circuit with {self.resistor} ohms, inductance: {self.inductance} H\")\n"
   ]
  },
  {
   "cell_type": "code",
   "execution_count": 28,
   "id": "7d974d08",
   "metadata": {},
   "outputs": [],
   "source": [
    "RLC_parallel_resonance_1 = RLC_Parallel_Circuit_Resonance(10, 0.1, 0.001)\n",
    "RLC_parallel_resonance_2 = RLC_Parallel_Circuit_Resonance(15,0.001,0.1)"
   ]
  },
  {
   "cell_type": "code",
   "execution_count": 29,
   "id": "91c3fe6e",
   "metadata": {},
   "outputs": [
    {
     "name": "stdout",
     "output_type": "stream",
     "text": [
      "RLC Parallel Circuit with 10 ohms, inductance: 0.1 H\n",
      "RLC Parallel Circuit with 15 ohms, inductance: 0.001 H\n"
     ]
    }
   ],
   "source": [
    "print(RLC_parallel_resonance_1)\n",
    "print(RLC_parallel_resonance_2)"
   ]
  },
  {
   "cell_type": "code",
   "execution_count": 30,
   "id": "ff869b3c",
   "metadata": {},
   "outputs": [
    {
     "data": {
      "text/plain": [
       "RLCParallelCircuit(resistor=10, inductance=0.1, capacitance=0.001)"
      ]
     },
     "execution_count": 30,
     "metadata": {},
     "output_type": "execute_result"
    }
   ],
   "source": [
    "RLC_parallel_resonance_1"
   ]
  },
  {
   "cell_type": "code",
   "execution_count": 31,
   "id": "ff0720ad",
   "metadata": {},
   "outputs": [
    {
     "data": {
      "text/plain": [
       "RLCParallelCircuit(resistor=15, inductance=0.001, capacitance=0.1)"
      ]
     },
     "execution_count": 31,
     "metadata": {},
     "output_type": "execute_result"
    }
   ],
   "source": [
    "RLC_parallel_resonance_2"
   ]
  },
  {
   "cell_type": "code",
   "execution_count": 32,
   "id": "e1660f4a",
   "metadata": {},
   "outputs": [
    {
     "name": "stdout",
     "output_type": "stream",
     "text": [
      "mappingproxy({'__dict__': <attribute '__dict__' of 'RLC_Parallel_Circuit_Resonance' objects>,\n",
      "              '__doc__': 'A class to represent an RLC parallel circuit with '\n",
      "                         'resonance.',\n",
      "              '__init__': <function RLC_Parallel_Circuit_Resonance.__init__ at 0x000001ACBBB6B280>,\n",
      "              '__module__': '__main__',\n",
      "              '__repr__': <function RLC_Parallel_Circuit_Resonance.__repr__ at 0x000001ACBD75B4C0>,\n",
      "              '__str__': <function RLC_Parallel_Circuit_Resonance.__str__ at 0x000001ACBD75B550>,\n",
      "              '__weakref__': <attribute '__weakref__' of 'RLC_Parallel_Circuit_Resonance' objects>,\n",
      "              'resonance_frequency': <function RLC_Parallel_Circuit_Resonance.resonance_frequency at 0x000001ACBD75BF70>,\n",
      "              'total_impedance': <function RLC_Parallel_Circuit_Resonance.total_impedance at 0x000001ACBD75BE50>})\n"
     ]
    }
   ],
   "source": [
    "from pprint import pprint\n",
    "pprint(RLC_Parallel_Circuit_Resonance.__dict__)"
   ]
  },
  {
   "cell_type": "code",
   "execution_count": 34,
   "id": "1e73a19f",
   "metadata": {},
   "outputs": [
    {
     "name": "stdout",
     "output_type": "stream",
     "text": [
      "mappingproxy({'__dict__': <attribute '__dict__' of 'RLC_Parallel_Circuit_Resonance' objects>,\n",
      "              '__doc__': 'A class to represent an RLC parallel circuit with '\n",
      "                         'resonance.',\n",
      "              '__init__': <function RLC_Parallel_Circuit_Resonance.__init__ at 0x000001ACBBB6B280>,\n",
      "              '__module__': '__main__',\n",
      "              '__repr__': <function RLC_Parallel_Circuit_Resonance.__repr__ at 0x000001ACBD75B4C0>,\n",
      "              '__str__': <function RLC_Parallel_Circuit_Resonance.__str__ at 0x000001ACBD75B550>,\n",
      "              '__weakref__': <attribute '__weakref__' of 'RLC_Parallel_Circuit_Resonance' objects>,\n",
      "              'resonance_frequency': <function RLC_Parallel_Circuit_Resonance.resonance_frequency at 0x000001ACBD75BF70>,\n",
      "              'total_impedance': <function RLC_Parallel_Circuit_Resonance.total_impedance at 0x000001ACBD75BE50>})\n"
     ]
    }
   ],
   "source": [
    "pprint(vars(RLC_Parallel_Circuit_Resonance))"
   ]
  },
  {
   "cell_type": "code",
   "execution_count": 21,
   "id": "cf1e0ab2",
   "metadata": {},
   "outputs": [
    {
     "name": "stdout",
     "output_type": "stream",
     "text": [
      "{'resistor': 10, 'inductance': 0.1, 'capacitance': 0.001}\n",
      "{'resistor': 15, 'inductance': 0.001, 'capacitance': 0.1}\n"
     ]
    }
   ],
   "source": [
    "print(RLC_parallel_resonance_1.__dict__)\n",
    "print(RLC_parallel_resonance_2.__dict__)"
   ]
  },
  {
   "cell_type": "code",
   "execution_count": 22,
   "id": "01c1ba98",
   "metadata": {},
   "outputs": [
    {
     "name": "stdout",
     "output_type": "stream",
     "text": [
      "Help on class RLC_Parallel_Circuit_Resonance in module __main__:\n",
      "\n",
      "class RLC_Parallel_Circuit_Resonance(builtins.object)\n",
      " |  RLC_Parallel_Circuit_Resonance(resistance: float = 1.0, inductance: float = 1.0, capacitance: float = 1.0) -> None\n",
      " |  \n",
      " |  A class to represent an RLC parallel circuit with resonance.\n",
      " |  \n",
      " |  Methods defined here:\n",
      " |  \n",
      " |  __init__(self, resistance: float = 1.0, inductance: float = 1.0, capacitance: float = 1.0) -> None\n",
      " |      Initialize the parallel RLC circuit with resistance, inductance, and capacitance.\n",
      " |      \n",
      " |      Args:\n",
      " |          resistance (float): Resistance in ohms. Defaults to 1.0.\n",
      " |          inductance (float): Inductance in henries. Defaults to 1.0.\n",
      " |          capacitance (float): Capacitance in farads. Defaults to 1.0.\n",
      " |  \n",
      " |  __repr__(self) -> str\n",
      " |      Return a string representation of the RLC_Parallel_Circuit.\n",
      " |  \n",
      " |  __str__(self) -> str\n",
      " |      Return a user-friendly string representation of the RLC_Parallel_Circuit.\n",
      " |  \n",
      " |  resonance_frequency(self) -> float\n",
      " |      Calculate the resonance frequency of the RLC parallel circuit.\n",
      " |      \n",
      " |      Returns:\n",
      " |          float: Resonance frequency in hertz.\n",
      " |  \n",
      " |  total_impedance(self, frequency: float) -> float\n",
      " |      Calculate the total impedance of the RLC parallel circuit.\n",
      " |      \n",
      " |      Args:\n",
      " |          frequency (float): Frequency in hertz.\n",
      " |      \n",
      " |      Returns:\n",
      " |          float: Total impedance in ohms.\n",
      " |  \n",
      " |  ----------------------------------------------------------------------\n",
      " |  Data descriptors defined here:\n",
      " |  \n",
      " |  __dict__\n",
      " |      dictionary for instance variables (if defined)\n",
      " |  \n",
      " |  __weakref__\n",
      " |      list of weak references to the object (if defined)\n",
      "\n"
     ]
    }
   ],
   "source": [
    "help(RLC_Parallel_Circuit_Resonance)"
   ]
  },
  {
   "cell_type": "code",
   "execution_count": 23,
   "id": "9f1ade34",
   "metadata": {},
   "outputs": [
    {
     "name": "stdout",
     "output_type": "stream",
     "text": [
      "A class to represent an RLC parallel circuit with resonance.\n",
      "{'resistance': <class 'float'>, 'inductance': <class 'float'>, 'capacitance': <class 'float'>, 'return': None}\n",
      "\n",
      "Calculate the resonance frequency of the RLC parallel circuit.\n",
      "        \n",
      "        Returns:\n",
      "            float: Resonance frequency in hertz.\n",
      "        \n",
      "{'return': <class 'float'>}\n",
      "\n",
      "Calculate the total impedance of the RLC parallel circuit.\n",
      "        \n",
      "        Args:\n",
      "            frequency (float): Frequency in hertz.\n",
      "        \n",
      "        Returns:\n",
      "            float: Total impedance in ohms.\n",
      "        \n",
      "{'frequency': <class 'float'>, 'return': <class 'float'>}\n",
      "\n",
      "{'return': <class 'str'>}\n",
      "Return a string representation of the RLC_Parallel_Circuit.\n",
      "\n",
      "{'return': <class 'str'>}\n",
      "Return a user-friendly string representation of the RLC_Parallel_Circuit.\n"
     ]
    }
   ],
   "source": [
    "print(RLC_Parallel_Circuit_Resonance.__doc__)\n",
    "print(RLC_Parallel_Circuit_Resonance.__init__.__annotations__)\n",
    "print()\n",
    "print(RLC_Parallel_Circuit_Resonance.resonance_frequency.__doc__)\n",
    "print(RLC_Parallel_Circuit_Resonance.resonance_frequency.__annotations__)\n",
    "print()\n",
    "print(RLC_Parallel_Circuit_Resonance.total_impedance.__doc__)\n",
    "print(RLC_Parallel_Circuit_Resonance.total_impedance.__annotations__)\n",
    "print()\n",
    "print(RLC_Parallel_Circuit_Resonance.__repr__.__annotations__)\n",
    "print(RLC_Parallel_Circuit_Resonance.__repr__.__doc__)\n",
    "print()\n",
    "print(RLC_Parallel_Circuit_Resonance.__str__.__annotations__)\n",
    "print(RLC_Parallel_Circuit_Resonance.__str__.__doc__)"
   ]
  },
  {
   "cell_type": "code",
   "execution_count": 175,
   "id": "bb09ca01",
   "metadata": {},
   "outputs": [],
   "source": [
    "RLC_parallel_resonance_3 = RLC_Parallel_Circuit_Resonance()"
   ]
  },
  {
   "cell_type": "code",
   "execution_count": 176,
   "id": "e6fea0bc",
   "metadata": {},
   "outputs": [
    {
     "name": "stdout",
     "output_type": "stream",
     "text": [
      "RLC Parallel Circuit with 1.0 ohms, inductance: 1.0 H\n"
     ]
    },
    {
     "data": {
      "text/plain": [
       "RLCParallelCircuit(resistor=1.0, inductance=1.0, capacitance=1.0)"
      ]
     },
     "execution_count": 176,
     "metadata": {},
     "output_type": "execute_result"
    }
   ],
   "source": [
    "print(RLC_parallel_resonance_3)\n",
    "RLC_parallel_resonance_3"
   ]
  }
 ],
 "metadata": {
  "kernelspec": {
   "display_name": "Python 3 (ipykernel)",
   "language": "python",
   "name": "python3"
  },
  "language_info": {
   "codemirror_mode": {
    "name": "ipython",
    "version": 3
   },
   "file_extension": ".py",
   "mimetype": "text/x-python",
   "name": "python",
   "nbconvert_exporter": "python",
   "pygments_lexer": "ipython3",
   "version": "3.9.20"
  }
 },
 "nbformat": 4,
 "nbformat_minor": 5
}
